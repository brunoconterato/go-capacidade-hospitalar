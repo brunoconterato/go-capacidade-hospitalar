{
 "cells": [
  {
   "attachments": {},
   "cell_type": "markdown",
   "metadata": {},
   "source": [
    "# Estudo: A evolução da capacidade hospitalar (número de leitos) durante a pandemia de COVID-19\n",
    "\n",
    "## Objetivos do Estudo\n",
    "1. Analisar a evolução geral dos leitos hospitalares em Goiás durante a pandemia de COVID-19.\n",
    "2. Analisar a evolução dos leitos hospitalares comparando diferentes mesoregiôes geográficas de Goiás.\n",
    "3. Comparar a evolução dos leitos hospitalares por cidade, mostrando a evolução nas principais cidades do estado.\n",
    "4. Comparar a evolução dos leitos SUS em relação ao total de leitos hospitalares no Estado.\n",
    "5. Comparar a evolução dos leitos destinados a UTIs em relação ao total de leitos hospitalares em Goiás.\n",
    "6. Verificar se as melhorias na capacidade hospitalar se mantiveram após as reduções nas quantidaes de casos de COVID-19.\n",
    "\n",
    "## Autor\n",
    "\n",
    "\n",
    "Bruno Henrique Conterato\n",
    "\n",
    "Ciêntista de Dados e Engenheiro de Aprendizado do Máquina\n",
    "\n",
    "(62) 9 8517-1987\n",
    "\n",
    "brunoconterato@gmail.com\n",
    "\n",
    "Trabalha para o CEIA/UFG em projetos de consultoria.\n",
    "\n",
    "https://github.com/brunoconterato\n",
    "\n",
    "https://www.linkedin.com/in/brunoconterato/"
   ]
  },
  {
   "attachments": {},
   "cell_type": "markdown",
   "metadata": {},
   "source": [
    "# 0. Início: importar bibliotecas, inicializar funçoes auxiliares"
   ]
  },
  {
   "cell_type": "code",
   "execution_count": 1,
   "metadata": {},
   "outputs": [],
   "source": [
    "import pandas as pd\n",
    "from pathlib import Path\n",
    "import datetime\n",
    "import plotly.express as px\n",
    "import matplotlib.pyplot as plt\n",
    "\n",
    "pd.set_option('display.max_columns', None)\n",
    "\n",
    "USE_PLOTLY = False"
   ]
  },
  {
   "attachments": {},
   "cell_type": "markdown",
   "metadata": {},
   "source": [
    "### Funções auxiliares gerais"
   ]
  },
  {
   "cell_type": "code",
   "execution_count": 2,
   "metadata": {},
   "outputs": [],
   "source": [
    "def countNones(df: pd.DataFrame):\n",
    "    return df.isna().sum()"
   ]
  },
  {
   "attachments": {},
   "cell_type": "markdown",
   "metadata": {},
   "source": [
    "### Funções Auxiliares de dados de município"
   ]
  },
  {
   "cell_type": "code",
   "execution_count": 3,
   "metadata": {},
   "outputs": [],
   "source": [
    "def getRegiao(data_municipios, cod_municipio_sem_digito, type=\"meso\"):\n",
    "    if type == \"meso\":\n",
    "        key = \"Nome_Mesorregião\"\n",
    "    elif type == \"micro\":\n",
    "        key = \"Nome_Microrregião\"\n",
    "    else:\n",
    "        raise ValueError(\"type must be 'meso' or 'micro'\")\n",
    "\n",
    "    return data_municipios[data_municipios[\"Código Município Sem Dígito\"] == cod_municipio_sem_digito][key].values[0]\n",
    "\n",
    "def getCidade(data_municipios, cod_municipio_sem_digito):\n",
    "    return data_municipios[data_municipios[\"Código Município Sem Dígito\"] == cod_municipio_sem_digito][\"Nome_Município\"].values[0]"
   ]
  },
  {
   "attachments": {},
   "cell_type": "markdown",
   "metadata": {},
   "source": [
    "### Funções auxiliares de dados de saúde"
   ]
  },
  {
   "cell_type": "code",
   "execution_count": 4,
   "metadata": {},
   "outputs": [],
   "source": [
    "def filter_last_month_of_year(data):\n",
    "    assert \"ANO\" in data.columns and \"MES\" in data.columns, \"data must have columns ANO and MES\"\n",
    "    return data.groupby([\"ANO\"]).apply(lambda x_ano: x_ano[x_ano[\"MES\"] == x_ano[\"MES\"].max()]).reset_index(drop=True)"
   ]
  },
  {
   "attachments": {},
   "cell_type": "markdown",
   "metadata": {},
   "source": [
    "# 1. Carregar, visualizar e preparar dados"
   ]
  },
  {
   "attachments": {},
   "cell_type": "markdown",
   "metadata": {},
   "source": [
    "### 1.1 Dados de munícipois (IBGE)\n",
    "\n",
    "Esses dados serão utilizados para consultar a mesoregião de cada município por meio do seu código, e assim fazer análise dos leitos por mesoregião. \n",
    "\n",
    "São 5 as mesoregiões consideradas pelo IBGE para o estado de Goiás: Sul, Leste, Norte, Centro, Noroeste. Goiânia está localizada no Centro goiano."
   ]
  },
  {
   "cell_type": "code",
   "execution_count": 5,
   "metadata": {},
   "outputs": [
    {
     "data": {
      "text/html": [
       "<div>\n",
       "<style scoped>\n",
       "    .dataframe tbody tr th:only-of-type {\n",
       "        vertical-align: middle;\n",
       "    }\n",
       "\n",
       "    .dataframe tbody tr th {\n",
       "        vertical-align: top;\n",
       "    }\n",
       "\n",
       "    .dataframe thead th {\n",
       "        text-align: right;\n",
       "    }\n",
       "</style>\n",
       "<table border=\"1\" class=\"dataframe\">\n",
       "  <thead>\n",
       "    <tr style=\"text-align: right;\">\n",
       "      <th></th>\n",
       "      <th>UF</th>\n",
       "      <th>Nome_UF</th>\n",
       "      <th>Região Geográfica Intermediária</th>\n",
       "      <th>Nome Região Geográfica Intermediária</th>\n",
       "      <th>Região Geográfica Imediata</th>\n",
       "      <th>Nome Região Geográfica Imediata</th>\n",
       "      <th>Mesorregião Geográfica</th>\n",
       "      <th>Nome_Mesorregião</th>\n",
       "      <th>Microrregião Geográfica</th>\n",
       "      <th>Nome_Microrregião</th>\n",
       "      <th>Município</th>\n",
       "      <th>Código Município Completo</th>\n",
       "      <th>Nome_Município</th>\n",
       "      <th>Código Município Sem Dígito</th>\n",
       "    </tr>\n",
       "  </thead>\n",
       "  <tbody>\n",
       "    <tr>\n",
       "      <th>5323</th>\n",
       "      <td>52</td>\n",
       "      <td>Goiás</td>\n",
       "      <td>5201</td>\n",
       "      <td>Goiânia</td>\n",
       "      <td>520001</td>\n",
       "      <td>Goiânia</td>\n",
       "      <td>3</td>\n",
       "      <td>Centro Goiano</td>\n",
       "      <td>10</td>\n",
       "      <td>Goiânia</td>\n",
       "      <td>50</td>\n",
       "      <td>5200050</td>\n",
       "      <td>Abadia de Goiás</td>\n",
       "      <td>520005</td>\n",
       "    </tr>\n",
       "    <tr>\n",
       "      <th>5324</th>\n",
       "      <td>52</td>\n",
       "      <td>Goiás</td>\n",
       "      <td>5201</td>\n",
       "      <td>Goiânia</td>\n",
       "      <td>520002</td>\n",
       "      <td>Anápolis</td>\n",
       "      <td>4</td>\n",
       "      <td>Leste Goiano</td>\n",
       "      <td>12</td>\n",
       "      <td>Entorno de Brasília</td>\n",
       "      <td>100</td>\n",
       "      <td>5200100</td>\n",
       "      <td>Abadiânia</td>\n",
       "      <td>520010</td>\n",
       "    </tr>\n",
       "    <tr>\n",
       "      <th>5325</th>\n",
       "      <td>52</td>\n",
       "      <td>Goiás</td>\n",
       "      <td>5204</td>\n",
       "      <td>São Luís de Montes Belos - Iporá</td>\n",
       "      <td>520015</td>\n",
       "      <td>Palmeiras de Goiás</td>\n",
       "      <td>5</td>\n",
       "      <td>Sul Goiano</td>\n",
       "      <td>14</td>\n",
       "      <td>Vale do Rio dos Bois</td>\n",
       "      <td>134</td>\n",
       "      <td>5200134</td>\n",
       "      <td>Acreúna</td>\n",
       "      <td>520013</td>\n",
       "    </tr>\n",
       "    <tr>\n",
       "      <th>5326</th>\n",
       "      <td>52</td>\n",
       "      <td>Goiás</td>\n",
       "      <td>5201</td>\n",
       "      <td>Goiânia</td>\n",
       "      <td>520003</td>\n",
       "      <td>Inhumas - Itaberaí - Anicuns</td>\n",
       "      <td>3</td>\n",
       "      <td>Centro Goiano</td>\n",
       "      <td>9</td>\n",
       "      <td>Anicuns</td>\n",
       "      <td>159</td>\n",
       "      <td>5200159</td>\n",
       "      <td>Adelândia</td>\n",
       "      <td>520015</td>\n",
       "    </tr>\n",
       "    <tr>\n",
       "      <th>5327</th>\n",
       "      <td>52</td>\n",
       "      <td>Goiás</td>\n",
       "      <td>5206</td>\n",
       "      <td>Luziânia - Águas Lindas de Goiás</td>\n",
       "      <td>520022</td>\n",
       "      <td>Flores de Goiás</td>\n",
       "      <td>4</td>\n",
       "      <td>Leste Goiano</td>\n",
       "      <td>12</td>\n",
       "      <td>Entorno de Brasília</td>\n",
       "      <td>175</td>\n",
       "      <td>5200175</td>\n",
       "      <td>Água Fria de Goiás</td>\n",
       "      <td>520017</td>\n",
       "    </tr>\n",
       "  </tbody>\n",
       "</table>\n",
       "</div>"
      ],
      "text/plain": [
       "      UF Nome_UF  Região Geográfica Intermediária  \\\n",
       "5323  52   Goiás                             5201   \n",
       "5324  52   Goiás                             5201   \n",
       "5325  52   Goiás                             5204   \n",
       "5326  52   Goiás                             5201   \n",
       "5327  52   Goiás                             5206   \n",
       "\n",
       "     Nome Região Geográfica Intermediária  Região Geográfica Imediata  \\\n",
       "5323                              Goiânia                      520001   \n",
       "5324                              Goiânia                      520002   \n",
       "5325     São Luís de Montes Belos - Iporá                      520015   \n",
       "5326                              Goiânia                      520003   \n",
       "5327     Luziânia - Águas Lindas de Goiás                      520022   \n",
       "\n",
       "     Nome Região Geográfica Imediata  Mesorregião Geográfica Nome_Mesorregião  \\\n",
       "5323                         Goiânia                       3    Centro Goiano   \n",
       "5324                        Anápolis                       4     Leste Goiano   \n",
       "5325              Palmeiras de Goiás                       5       Sul Goiano   \n",
       "5326    Inhumas - Itaberaí - Anicuns                       3    Centro Goiano   \n",
       "5327                 Flores de Goiás                       4     Leste Goiano   \n",
       "\n",
       "      Microrregião Geográfica     Nome_Microrregião  Município  \\\n",
       "5323                       10               Goiânia         50   \n",
       "5324                       12   Entorno de Brasília        100   \n",
       "5325                       14  Vale do Rio dos Bois        134   \n",
       "5326                        9               Anicuns        159   \n",
       "5327                       12   Entorno de Brasília        175   \n",
       "\n",
       "      Código Município Completo      Nome_Município  \\\n",
       "5323                    5200050     Abadia de Goiás   \n",
       "5324                    5200100           Abadiânia   \n",
       "5325                    5200134             Acreúna   \n",
       "5326                    5200159           Adelândia   \n",
       "5327                    5200175  Água Fria de Goiás   \n",
       "\n",
       "      Código Município Sem Dígito  \n",
       "5323                       520005  \n",
       "5324                       520010  \n",
       "5325                       520013  \n",
       "5326                       520015  \n",
       "5327                       520017  "
      ]
     },
     "execution_count": 5,
     "metadata": {},
     "output_type": "execute_result"
    }
   ],
   "source": [
    "DATA_MUNICIPIOS_PATH = Path(\"./data/RELATORIO_DTB_BRASIL_MUNICIPIO.csv\")\n",
    "data_municipios = pd.read_csv(DATA_MUNICIPIOS_PATH, sep=\",\", encoding=\"utf-8\")\n",
    "data_municipios = data_municipios[data_municipios[\"Nome_UF\"] == \"Goiás\"]\n",
    "data_municipios[\"Código Município Sem Dígito\"] = data_municipios[\"Código Município Completo\"].apply(lambda x: int(str(x)[:-1]))\n",
    "data_municipios.head()"
   ]
  },
  {
   "attachments": {},
   "cell_type": "markdown",
   "metadata": {},
   "source": [
    "### 1.2 Dados de leitos em Goiás (CNES)"
   ]
  },
  {
   "attachments": {},
   "cell_type": "markdown",
   "metadata": {},
   "source": [
    "### Visualização da tabela"
   ]
  },
  {
   "cell_type": "code",
   "execution_count": 6,
   "metadata": {},
   "outputs": [
    {
     "name": "stderr",
     "output_type": "stream",
     "text": [
      "/tmp/ipykernel_23797/1661828260.py:2: DtypeWarning: Columns (6) have mixed types. Specify dtype option on import or set low_memory=False.\n",
      "  data = pd.read_csv(DATA_PATH, index_col=\"Unnamed: 0\")\n"
     ]
    },
    {
     "data": {
      "text/html": [
       "<div>\n",
       "<style scoped>\n",
       "    .dataframe tbody tr th:only-of-type {\n",
       "        vertical-align: middle;\n",
       "    }\n",
       "\n",
       "    .dataframe tbody tr th {\n",
       "        vertical-align: top;\n",
       "    }\n",
       "\n",
       "    .dataframe thead th {\n",
       "        text-align: right;\n",
       "    }\n",
       "</style>\n",
       "<table border=\"1\" class=\"dataframe\">\n",
       "  <thead>\n",
       "    <tr style=\"text-align: right;\">\n",
       "      <th></th>\n",
       "      <th>CNES</th>\n",
       "      <th>CODUFMUN</th>\n",
       "      <th>REGSAUDE</th>\n",
       "      <th>MICR_REG</th>\n",
       "      <th>DISTRSAN</th>\n",
       "      <th>DISTRADM</th>\n",
       "      <th>TPGESTAO</th>\n",
       "      <th>PF_PJ</th>\n",
       "      <th>CPF_CNPJ</th>\n",
       "      <th>NIV_DEP</th>\n",
       "      <th>CNPJ_MAN</th>\n",
       "      <th>ESFERA_A</th>\n",
       "      <th>ATIVIDAD</th>\n",
       "      <th>RETENCAO</th>\n",
       "      <th>NATUREZA</th>\n",
       "      <th>CLIENTEL</th>\n",
       "      <th>TP_UNID</th>\n",
       "      <th>TURNO_AT</th>\n",
       "      <th>NIV_HIER</th>\n",
       "      <th>TERCEIRO</th>\n",
       "      <th>TP_LEITO</th>\n",
       "      <th>CODLEITO</th>\n",
       "      <th>QT_EXIST</th>\n",
       "      <th>QT_CONTR</th>\n",
       "      <th>QT_SUS</th>\n",
       "      <th>QT_NSUS</th>\n",
       "      <th>COMPETEN</th>\n",
       "      <th>NAT_JUR</th>\n",
       "    </tr>\n",
       "  </thead>\n",
       "  <tbody>\n",
       "    <tr>\n",
       "      <th>1</th>\n",
       "      <td>2335506</td>\n",
       "      <td>520013</td>\n",
       "      <td>15</td>\n",
       "      <td>NaN</td>\n",
       "      <td>NaN</td>\n",
       "      <td>NaN</td>\n",
       "      <td>M</td>\n",
       "      <td>3</td>\n",
       "      <td>269860000125</td>\n",
       "      <td>1</td>\n",
       "      <td>0</td>\n",
       "      <td>NaN</td>\n",
       "      <td>4</td>\n",
       "      <td>NaN</td>\n",
       "      <td>NaN</td>\n",
       "      <td>3.0</td>\n",
       "      <td>5</td>\n",
       "      <td>6</td>\n",
       "      <td>NaN</td>\n",
       "      <td>NaN</td>\n",
       "      <td>2</td>\n",
       "      <td>41</td>\n",
       "      <td>2</td>\n",
       "      <td>0</td>\n",
       "      <td>2</td>\n",
       "      <td>0</td>\n",
       "      <td>201701</td>\n",
       "      <td>2062</td>\n",
       "    </tr>\n",
       "    <tr>\n",
       "      <th>2</th>\n",
       "      <td>2335506</td>\n",
       "      <td>520013</td>\n",
       "      <td>15</td>\n",
       "      <td>NaN</td>\n",
       "      <td>NaN</td>\n",
       "      <td>NaN</td>\n",
       "      <td>M</td>\n",
       "      <td>3</td>\n",
       "      <td>269860000125</td>\n",
       "      <td>1</td>\n",
       "      <td>0</td>\n",
       "      <td>NaN</td>\n",
       "      <td>4</td>\n",
       "      <td>NaN</td>\n",
       "      <td>NaN</td>\n",
       "      <td>3.0</td>\n",
       "      <td>5</td>\n",
       "      <td>6</td>\n",
       "      <td>NaN</td>\n",
       "      <td>NaN</td>\n",
       "      <td>6</td>\n",
       "      <td>34</td>\n",
       "      <td>4</td>\n",
       "      <td>0</td>\n",
       "      <td>3</td>\n",
       "      <td>1</td>\n",
       "      <td>201701</td>\n",
       "      <td>2062</td>\n",
       "    </tr>\n",
       "    <tr>\n",
       "      <th>3</th>\n",
       "      <td>2335506</td>\n",
       "      <td>520013</td>\n",
       "      <td>15</td>\n",
       "      <td>NaN</td>\n",
       "      <td>NaN</td>\n",
       "      <td>NaN</td>\n",
       "      <td>M</td>\n",
       "      <td>3</td>\n",
       "      <td>269860000125</td>\n",
       "      <td>1</td>\n",
       "      <td>0</td>\n",
       "      <td>NaN</td>\n",
       "      <td>4</td>\n",
       "      <td>NaN</td>\n",
       "      <td>NaN</td>\n",
       "      <td>3.0</td>\n",
       "      <td>5</td>\n",
       "      <td>6</td>\n",
       "      <td>NaN</td>\n",
       "      <td>NaN</td>\n",
       "      <td>2</td>\n",
       "      <td>33</td>\n",
       "      <td>6</td>\n",
       "      <td>0</td>\n",
       "      <td>4</td>\n",
       "      <td>2</td>\n",
       "      <td>201701</td>\n",
       "      <td>2062</td>\n",
       "    </tr>\n",
       "    <tr>\n",
       "      <th>4</th>\n",
       "      <td>2335506</td>\n",
       "      <td>520013</td>\n",
       "      <td>15</td>\n",
       "      <td>NaN</td>\n",
       "      <td>NaN</td>\n",
       "      <td>NaN</td>\n",
       "      <td>M</td>\n",
       "      <td>3</td>\n",
       "      <td>269860000125</td>\n",
       "      <td>1</td>\n",
       "      <td>0</td>\n",
       "      <td>NaN</td>\n",
       "      <td>4</td>\n",
       "      <td>NaN</td>\n",
       "      <td>NaN</td>\n",
       "      <td>3.0</td>\n",
       "      <td>5</td>\n",
       "      <td>6</td>\n",
       "      <td>NaN</td>\n",
       "      <td>NaN</td>\n",
       "      <td>4</td>\n",
       "      <td>43</td>\n",
       "      <td>3</td>\n",
       "      <td>0</td>\n",
       "      <td>3</td>\n",
       "      <td>0</td>\n",
       "      <td>201701</td>\n",
       "      <td>2062</td>\n",
       "    </tr>\n",
       "    <tr>\n",
       "      <th>5</th>\n",
       "      <td>2335506</td>\n",
       "      <td>520013</td>\n",
       "      <td>15</td>\n",
       "      <td>NaN</td>\n",
       "      <td>NaN</td>\n",
       "      <td>NaN</td>\n",
       "      <td>M</td>\n",
       "      <td>3</td>\n",
       "      <td>269860000125</td>\n",
       "      <td>1</td>\n",
       "      <td>0</td>\n",
       "      <td>NaN</td>\n",
       "      <td>4</td>\n",
       "      <td>NaN</td>\n",
       "      <td>NaN</td>\n",
       "      <td>3.0</td>\n",
       "      <td>5</td>\n",
       "      <td>6</td>\n",
       "      <td>NaN</td>\n",
       "      <td>NaN</td>\n",
       "      <td>4</td>\n",
       "      <td>10</td>\n",
       "      <td>1</td>\n",
       "      <td>0</td>\n",
       "      <td>1</td>\n",
       "      <td>0</td>\n",
       "      <td>201701</td>\n",
       "      <td>2062</td>\n",
       "    </tr>\n",
       "    <tr>\n",
       "      <th>...</th>\n",
       "      <td>...</td>\n",
       "      <td>...</td>\n",
       "      <td>...</td>\n",
       "      <td>...</td>\n",
       "      <td>...</td>\n",
       "      <td>...</td>\n",
       "      <td>...</td>\n",
       "      <td>...</td>\n",
       "      <td>...</td>\n",
       "      <td>...</td>\n",
       "      <td>...</td>\n",
       "      <td>...</td>\n",
       "      <td>...</td>\n",
       "      <td>...</td>\n",
       "      <td>...</td>\n",
       "      <td>...</td>\n",
       "      <td>...</td>\n",
       "      <td>...</td>\n",
       "      <td>...</td>\n",
       "      <td>...</td>\n",
       "      <td>...</td>\n",
       "      <td>...</td>\n",
       "      <td>...</td>\n",
       "      <td>...</td>\n",
       "      <td>...</td>\n",
       "      <td>...</td>\n",
       "      <td>...</td>\n",
       "      <td>...</td>\n",
       "    </tr>\n",
       "    <tr>\n",
       "      <th>206188</th>\n",
       "      <td>2383691</td>\n",
       "      <td>522205</td>\n",
       "      <td>001</td>\n",
       "      <td>NaN</td>\n",
       "      <td>NaN</td>\n",
       "      <td>NaN</td>\n",
       "      <td>M</td>\n",
       "      <td>3</td>\n",
       "      <td>0</td>\n",
       "      <td>3</td>\n",
       "      <td>44834000107</td>\n",
       "      <td>NaN</td>\n",
       "      <td>4</td>\n",
       "      <td>NaN</td>\n",
       "      <td>NaN</td>\n",
       "      <td>3.0</td>\n",
       "      <td>5</td>\n",
       "      <td>6</td>\n",
       "      <td>NaN</td>\n",
       "      <td>NaN</td>\n",
       "      <td>1</td>\n",
       "      <td>3</td>\n",
       "      <td>3</td>\n",
       "      <td>0</td>\n",
       "      <td>3</td>\n",
       "      <td>0</td>\n",
       "      <td>202211</td>\n",
       "      <td>1244</td>\n",
       "    </tr>\n",
       "    <tr>\n",
       "      <th>206189</th>\n",
       "      <td>2383691</td>\n",
       "      <td>522205</td>\n",
       "      <td>001</td>\n",
       "      <td>NaN</td>\n",
       "      <td>NaN</td>\n",
       "      <td>NaN</td>\n",
       "      <td>M</td>\n",
       "      <td>3</td>\n",
       "      <td>0</td>\n",
       "      <td>3</td>\n",
       "      <td>44834000107</td>\n",
       "      <td>NaN</td>\n",
       "      <td>4</td>\n",
       "      <td>NaN</td>\n",
       "      <td>NaN</td>\n",
       "      <td>3.0</td>\n",
       "      <td>5</td>\n",
       "      <td>6</td>\n",
       "      <td>NaN</td>\n",
       "      <td>NaN</td>\n",
       "      <td>4</td>\n",
       "      <td>10</td>\n",
       "      <td>3</td>\n",
       "      <td>0</td>\n",
       "      <td>3</td>\n",
       "      <td>0</td>\n",
       "      <td>202211</td>\n",
       "      <td>1244</td>\n",
       "    </tr>\n",
       "    <tr>\n",
       "      <th>206190</th>\n",
       "      <td>2439883</td>\n",
       "      <td>522220</td>\n",
       "      <td>02</td>\n",
       "      <td>NaN</td>\n",
       "      <td>NaN</td>\n",
       "      <td>NaN</td>\n",
       "      <td>M</td>\n",
       "      <td>3</td>\n",
       "      <td>0</td>\n",
       "      <td>3</td>\n",
       "      <td>37388378000114</td>\n",
       "      <td>NaN</td>\n",
       "      <td>4</td>\n",
       "      <td>NaN</td>\n",
       "      <td>NaN</td>\n",
       "      <td>3.0</td>\n",
       "      <td>5</td>\n",
       "      <td>6</td>\n",
       "      <td>NaN</td>\n",
       "      <td>NaN</td>\n",
       "      <td>2</td>\n",
       "      <td>33</td>\n",
       "      <td>7</td>\n",
       "      <td>0</td>\n",
       "      <td>7</td>\n",
       "      <td>0</td>\n",
       "      <td>202211</td>\n",
       "      <td>1244</td>\n",
       "    </tr>\n",
       "    <tr>\n",
       "      <th>206191</th>\n",
       "      <td>2439883</td>\n",
       "      <td>522220</td>\n",
       "      <td>02</td>\n",
       "      <td>NaN</td>\n",
       "      <td>NaN</td>\n",
       "      <td>NaN</td>\n",
       "      <td>M</td>\n",
       "      <td>3</td>\n",
       "      <td>0</td>\n",
       "      <td>3</td>\n",
       "      <td>37388378000114</td>\n",
       "      <td>NaN</td>\n",
       "      <td>4</td>\n",
       "      <td>NaN</td>\n",
       "      <td>NaN</td>\n",
       "      <td>3.0</td>\n",
       "      <td>5</td>\n",
       "      <td>6</td>\n",
       "      <td>NaN</td>\n",
       "      <td>NaN</td>\n",
       "      <td>4</td>\n",
       "      <td>43</td>\n",
       "      <td>2</td>\n",
       "      <td>0</td>\n",
       "      <td>2</td>\n",
       "      <td>0</td>\n",
       "      <td>202211</td>\n",
       "      <td>1244</td>\n",
       "    </tr>\n",
       "    <tr>\n",
       "      <th>206192</th>\n",
       "      <td>2439883</td>\n",
       "      <td>522220</td>\n",
       "      <td>02</td>\n",
       "      <td>NaN</td>\n",
       "      <td>NaN</td>\n",
       "      <td>NaN</td>\n",
       "      <td>M</td>\n",
       "      <td>3</td>\n",
       "      <td>0</td>\n",
       "      <td>3</td>\n",
       "      <td>37388378000114</td>\n",
       "      <td>NaN</td>\n",
       "      <td>4</td>\n",
       "      <td>NaN</td>\n",
       "      <td>NaN</td>\n",
       "      <td>3.0</td>\n",
       "      <td>5</td>\n",
       "      <td>6</td>\n",
       "      <td>NaN</td>\n",
       "      <td>NaN</td>\n",
       "      <td>5</td>\n",
       "      <td>45</td>\n",
       "      <td>4</td>\n",
       "      <td>0</td>\n",
       "      <td>4</td>\n",
       "      <td>0</td>\n",
       "      <td>202211</td>\n",
       "      <td>1244</td>\n",
       "    </tr>\n",
       "  </tbody>\n",
       "</table>\n",
       "<p>206192 rows × 28 columns</p>\n",
       "</div>"
      ],
      "text/plain": [
       "           CNES  CODUFMUN REGSAUDE MICR_REG  DISTRSAN DISTRADM TPGESTAO  \\\n",
       "1       2335506    520013       15      NaN       NaN      NaN        M   \n",
       "2       2335506    520013       15      NaN       NaN      NaN        M   \n",
       "3       2335506    520013       15      NaN       NaN      NaN        M   \n",
       "4       2335506    520013       15      NaN       NaN      NaN        M   \n",
       "5       2335506    520013       15      NaN       NaN      NaN        M   \n",
       "...         ...       ...      ...      ...       ...      ...      ...   \n",
       "206188  2383691    522205      001      NaN       NaN      NaN        M   \n",
       "206189  2383691    522205      001      NaN       NaN      NaN        M   \n",
       "206190  2439883    522220       02      NaN       NaN      NaN        M   \n",
       "206191  2439883    522220       02      NaN       NaN      NaN        M   \n",
       "206192  2439883    522220       02      NaN       NaN      NaN        M   \n",
       "\n",
       "        PF_PJ      CPF_CNPJ  NIV_DEP        CNPJ_MAN  ESFERA_A  ATIVIDAD  \\\n",
       "1           3  269860000125        1               0       NaN         4   \n",
       "2           3  269860000125        1               0       NaN         4   \n",
       "3           3  269860000125        1               0       NaN         4   \n",
       "4           3  269860000125        1               0       NaN         4   \n",
       "5           3  269860000125        1               0       NaN         4   \n",
       "...       ...           ...      ...             ...       ...       ...   \n",
       "206188      3             0        3     44834000107       NaN         4   \n",
       "206189      3             0        3     44834000107       NaN         4   \n",
       "206190      3             0        3  37388378000114       NaN         4   \n",
       "206191      3             0        3  37388378000114       NaN         4   \n",
       "206192      3             0        3  37388378000114       NaN         4   \n",
       "\n",
       "        RETENCAO  NATUREZA  CLIENTEL  TP_UNID  TURNO_AT  NIV_HIER  TERCEIRO  \\\n",
       "1            NaN       NaN       3.0        5         6       NaN       NaN   \n",
       "2            NaN       NaN       3.0        5         6       NaN       NaN   \n",
       "3            NaN       NaN       3.0        5         6       NaN       NaN   \n",
       "4            NaN       NaN       3.0        5         6       NaN       NaN   \n",
       "5            NaN       NaN       3.0        5         6       NaN       NaN   \n",
       "...          ...       ...       ...      ...       ...       ...       ...   \n",
       "206188       NaN       NaN       3.0        5         6       NaN       NaN   \n",
       "206189       NaN       NaN       3.0        5         6       NaN       NaN   \n",
       "206190       NaN       NaN       3.0        5         6       NaN       NaN   \n",
       "206191       NaN       NaN       3.0        5         6       NaN       NaN   \n",
       "206192       NaN       NaN       3.0        5         6       NaN       NaN   \n",
       "\n",
       "        TP_LEITO  CODLEITO  QT_EXIST  QT_CONTR  QT_SUS  QT_NSUS  COMPETEN  \\\n",
       "1              2        41         2         0       2        0    201701   \n",
       "2              6        34         4         0       3        1    201701   \n",
       "3              2        33         6         0       4        2    201701   \n",
       "4              4        43         3         0       3        0    201701   \n",
       "5              4        10         1         0       1        0    201701   \n",
       "...          ...       ...       ...       ...     ...      ...       ...   \n",
       "206188         1         3         3         0       3        0    202211   \n",
       "206189         4        10         3         0       3        0    202211   \n",
       "206190         2        33         7         0       7        0    202211   \n",
       "206191         4        43         2         0       2        0    202211   \n",
       "206192         5        45         4         0       4        0    202211   \n",
       "\n",
       "        NAT_JUR  \n",
       "1          2062  \n",
       "2          2062  \n",
       "3          2062  \n",
       "4          2062  \n",
       "5          2062  \n",
       "...         ...  \n",
       "206188     1244  \n",
       "206189     1244  \n",
       "206190     1244  \n",
       "206191     1244  \n",
       "206192     1244  \n",
       "\n",
       "[206192 rows x 28 columns]"
      ]
     },
     "execution_count": 6,
     "metadata": {},
     "output_type": "execute_result"
    }
   ],
   "source": [
    "DATA_PATH = Path('./data/data_original_2017_to_2022.csv')\n",
    "data = pd.read_csv(DATA_PATH, index_col=\"Unnamed: 0\")\n",
    "data"
   ]
  },
  {
   "attachments": {},
   "cell_type": "markdown",
   "metadata": {},
   "source": [
    "### Visualização das colunas da tabela\n",
    "\n",
    "Ver documento info/IT_CNES_1706.pdf para informações sobrecada coluna."
   ]
  },
  {
   "cell_type": "code",
   "execution_count": 7,
   "metadata": {},
   "outputs": [
    {
     "name": "stdout",
     "output_type": "stream",
     "text": [
      "<class 'pandas.core.frame.DataFrame'>\n",
      "Int64Index: 206192 entries, 1 to 206192\n",
      "Data columns (total 28 columns):\n",
      " #   Column    Non-Null Count   Dtype  \n",
      "---  ------    --------------   -----  \n",
      " 0   CNES      206192 non-null  int64  \n",
      " 1   CODUFMUN  206192 non-null  int64  \n",
      " 2   REGSAUDE  126342 non-null  object \n",
      " 3   MICR_REG  11221 non-null   object \n",
      " 4   DISTRSAN  122 non-null     float64\n",
      " 5   DISTRADM  2175 non-null    object \n",
      " 6   TPGESTAO  206192 non-null  object \n",
      " 7   PF_PJ     206192 non-null  int64  \n",
      " 8   CPF_CNPJ  206192 non-null  int64  \n",
      " 9   NIV_DEP   206192 non-null  int64  \n",
      " 10  CNPJ_MAN  206192 non-null  int64  \n",
      " 11  ESFERA_A  0 non-null       float64\n",
      " 12  ATIVIDAD  206192 non-null  int64  \n",
      " 13  RETENCAO  0 non-null       float64\n",
      " 14  NATUREZA  0 non-null       float64\n",
      " 15  CLIENTEL  205097 non-null  float64\n",
      " 16  TP_UNID   206192 non-null  int64  \n",
      " 17  TURNO_AT  206192 non-null  int64  \n",
      " 18  NIV_HIER  0 non-null       float64\n",
      " 19  TERCEIRO  0 non-null       float64\n",
      " 20  TP_LEITO  206192 non-null  int64  \n",
      " 21  CODLEITO  206192 non-null  int64  \n",
      " 22  QT_EXIST  206192 non-null  int64  \n",
      " 23  QT_CONTR  206192 non-null  int64  \n",
      " 24  QT_SUS    206192 non-null  int64  \n",
      " 25  QT_NSUS   206192 non-null  int64  \n",
      " 26  COMPETEN  206192 non-null  int64  \n",
      " 27  NAT_JUR   206192 non-null  int64  \n",
      "dtypes: float64(7), int64(17), object(4)\n",
      "memory usage: 45.6+ MB\n"
     ]
    }
   ],
   "source": [
    "data.info()"
   ]
  },
  {
   "attachments": {},
   "cell_type": "markdown",
   "metadata": {},
   "source": [
    "### Meses para os quiais temos dados\n",
    "\n",
    "Todos entre janeiro de 2017 a novembro de 2021"
   ]
  },
  {
   "cell_type": "code",
   "execution_count": 8,
   "metadata": {},
   "outputs": [
    {
     "name": "stdout",
     "output_type": "stream",
     "text": [
      "71\n"
     ]
    },
    {
     "data": {
      "text/plain": [
       "array([201701, 201702, 201703, 201704, 201705, 201706, 201707, 201708,\n",
       "       201709, 201710, 201711, 201712, 201801, 201802, 201803, 201804,\n",
       "       201805, 201806, 201807, 201808, 201809, 201810, 201811, 201812,\n",
       "       201901, 201902, 201903, 201904, 201905, 201906, 201907, 201908,\n",
       "       201909, 201910, 201911, 201912, 202001, 202002, 202003, 202004,\n",
       "       202005, 202006, 202007, 202008, 202009, 202010, 202011, 202012,\n",
       "       202101, 202102, 202103, 202104, 202105, 202106, 202107, 202108,\n",
       "       202109, 202110, 202111, 202112, 202201, 202202, 202203, 202204,\n",
       "       202205, 202206, 202207, 202208, 202209, 202210, 202211])"
      ]
     },
     "execution_count": 8,
     "metadata": {},
     "output_type": "execute_result"
    }
   ],
   "source": [
    "print(data[\"COMPETEN\"].nunique())\n",
    "periods = data[\"COMPETEN\"].unique()\n",
    "periods"
   ]
  },
  {
   "attachments": {},
   "cell_type": "markdown",
   "metadata": {},
   "source": [
    "### Adição de colunas auxiliares nos dados:\n",
    "- Ano\n",
    "- Mês\n",
    "- Mesoregião\n",
    "- Cidade"
   ]
  },
  {
   "cell_type": "code",
   "execution_count": 9,
   "metadata": {},
   "outputs": [
    {
     "data": {
      "text/html": [
       "<div>\n",
       "<style scoped>\n",
       "    .dataframe tbody tr th:only-of-type {\n",
       "        vertical-align: middle;\n",
       "    }\n",
       "\n",
       "    .dataframe tbody tr th {\n",
       "        vertical-align: top;\n",
       "    }\n",
       "\n",
       "    .dataframe thead th {\n",
       "        text-align: right;\n",
       "    }\n",
       "</style>\n",
       "<table border=\"1\" class=\"dataframe\">\n",
       "  <thead>\n",
       "    <tr style=\"text-align: right;\">\n",
       "      <th></th>\n",
       "      <th>CNES</th>\n",
       "      <th>CODUFMUN</th>\n",
       "      <th>REGSAUDE</th>\n",
       "      <th>MICR_REG</th>\n",
       "      <th>DISTRSAN</th>\n",
       "      <th>DISTRADM</th>\n",
       "      <th>TPGESTAO</th>\n",
       "      <th>PF_PJ</th>\n",
       "      <th>CPF_CNPJ</th>\n",
       "      <th>NIV_DEP</th>\n",
       "      <th>CNPJ_MAN</th>\n",
       "      <th>ESFERA_A</th>\n",
       "      <th>ATIVIDAD</th>\n",
       "      <th>RETENCAO</th>\n",
       "      <th>NATUREZA</th>\n",
       "      <th>CLIENTEL</th>\n",
       "      <th>TP_UNID</th>\n",
       "      <th>TURNO_AT</th>\n",
       "      <th>NIV_HIER</th>\n",
       "      <th>TERCEIRO</th>\n",
       "      <th>TP_LEITO</th>\n",
       "      <th>CODLEITO</th>\n",
       "      <th>QT_EXIST</th>\n",
       "      <th>QT_CONTR</th>\n",
       "      <th>QT_SUS</th>\n",
       "      <th>QT_NSUS</th>\n",
       "      <th>COMPETEN</th>\n",
       "      <th>NAT_JUR</th>\n",
       "      <th>ANO</th>\n",
       "      <th>MES</th>\n",
       "      <th>NOME_MUNICIPIO</th>\n",
       "      <th>MESOREGIAO</th>\n",
       "    </tr>\n",
       "  </thead>\n",
       "  <tbody>\n",
       "    <tr>\n",
       "      <th>1</th>\n",
       "      <td>2335506</td>\n",
       "      <td>520013</td>\n",
       "      <td>15</td>\n",
       "      <td>NaN</td>\n",
       "      <td>NaN</td>\n",
       "      <td>NaN</td>\n",
       "      <td>M</td>\n",
       "      <td>3</td>\n",
       "      <td>269860000125</td>\n",
       "      <td>1</td>\n",
       "      <td>0</td>\n",
       "      <td>NaN</td>\n",
       "      <td>4</td>\n",
       "      <td>NaN</td>\n",
       "      <td>NaN</td>\n",
       "      <td>3.0</td>\n",
       "      <td>5</td>\n",
       "      <td>6</td>\n",
       "      <td>NaN</td>\n",
       "      <td>NaN</td>\n",
       "      <td>2</td>\n",
       "      <td>41</td>\n",
       "      <td>2</td>\n",
       "      <td>0</td>\n",
       "      <td>2</td>\n",
       "      <td>0</td>\n",
       "      <td>201701</td>\n",
       "      <td>2062</td>\n",
       "      <td>2017</td>\n",
       "      <td>01</td>\n",
       "      <td>Acreúna</td>\n",
       "      <td>Sul Goiano</td>\n",
       "    </tr>\n",
       "    <tr>\n",
       "      <th>2</th>\n",
       "      <td>2335506</td>\n",
       "      <td>520013</td>\n",
       "      <td>15</td>\n",
       "      <td>NaN</td>\n",
       "      <td>NaN</td>\n",
       "      <td>NaN</td>\n",
       "      <td>M</td>\n",
       "      <td>3</td>\n",
       "      <td>269860000125</td>\n",
       "      <td>1</td>\n",
       "      <td>0</td>\n",
       "      <td>NaN</td>\n",
       "      <td>4</td>\n",
       "      <td>NaN</td>\n",
       "      <td>NaN</td>\n",
       "      <td>3.0</td>\n",
       "      <td>5</td>\n",
       "      <td>6</td>\n",
       "      <td>NaN</td>\n",
       "      <td>NaN</td>\n",
       "      <td>6</td>\n",
       "      <td>34</td>\n",
       "      <td>4</td>\n",
       "      <td>0</td>\n",
       "      <td>3</td>\n",
       "      <td>1</td>\n",
       "      <td>201701</td>\n",
       "      <td>2062</td>\n",
       "      <td>2017</td>\n",
       "      <td>01</td>\n",
       "      <td>Acreúna</td>\n",
       "      <td>Sul Goiano</td>\n",
       "    </tr>\n",
       "    <tr>\n",
       "      <th>3</th>\n",
       "      <td>2335506</td>\n",
       "      <td>520013</td>\n",
       "      <td>15</td>\n",
       "      <td>NaN</td>\n",
       "      <td>NaN</td>\n",
       "      <td>NaN</td>\n",
       "      <td>M</td>\n",
       "      <td>3</td>\n",
       "      <td>269860000125</td>\n",
       "      <td>1</td>\n",
       "      <td>0</td>\n",
       "      <td>NaN</td>\n",
       "      <td>4</td>\n",
       "      <td>NaN</td>\n",
       "      <td>NaN</td>\n",
       "      <td>3.0</td>\n",
       "      <td>5</td>\n",
       "      <td>6</td>\n",
       "      <td>NaN</td>\n",
       "      <td>NaN</td>\n",
       "      <td>2</td>\n",
       "      <td>33</td>\n",
       "      <td>6</td>\n",
       "      <td>0</td>\n",
       "      <td>4</td>\n",
       "      <td>2</td>\n",
       "      <td>201701</td>\n",
       "      <td>2062</td>\n",
       "      <td>2017</td>\n",
       "      <td>01</td>\n",
       "      <td>Acreúna</td>\n",
       "      <td>Sul Goiano</td>\n",
       "    </tr>\n",
       "    <tr>\n",
       "      <th>4</th>\n",
       "      <td>2335506</td>\n",
       "      <td>520013</td>\n",
       "      <td>15</td>\n",
       "      <td>NaN</td>\n",
       "      <td>NaN</td>\n",
       "      <td>NaN</td>\n",
       "      <td>M</td>\n",
       "      <td>3</td>\n",
       "      <td>269860000125</td>\n",
       "      <td>1</td>\n",
       "      <td>0</td>\n",
       "      <td>NaN</td>\n",
       "      <td>4</td>\n",
       "      <td>NaN</td>\n",
       "      <td>NaN</td>\n",
       "      <td>3.0</td>\n",
       "      <td>5</td>\n",
       "      <td>6</td>\n",
       "      <td>NaN</td>\n",
       "      <td>NaN</td>\n",
       "      <td>4</td>\n",
       "      <td>43</td>\n",
       "      <td>3</td>\n",
       "      <td>0</td>\n",
       "      <td>3</td>\n",
       "      <td>0</td>\n",
       "      <td>201701</td>\n",
       "      <td>2062</td>\n",
       "      <td>2017</td>\n",
       "      <td>01</td>\n",
       "      <td>Acreúna</td>\n",
       "      <td>Sul Goiano</td>\n",
       "    </tr>\n",
       "    <tr>\n",
       "      <th>5</th>\n",
       "      <td>2335506</td>\n",
       "      <td>520013</td>\n",
       "      <td>15</td>\n",
       "      <td>NaN</td>\n",
       "      <td>NaN</td>\n",
       "      <td>NaN</td>\n",
       "      <td>M</td>\n",
       "      <td>3</td>\n",
       "      <td>269860000125</td>\n",
       "      <td>1</td>\n",
       "      <td>0</td>\n",
       "      <td>NaN</td>\n",
       "      <td>4</td>\n",
       "      <td>NaN</td>\n",
       "      <td>NaN</td>\n",
       "      <td>3.0</td>\n",
       "      <td>5</td>\n",
       "      <td>6</td>\n",
       "      <td>NaN</td>\n",
       "      <td>NaN</td>\n",
       "      <td>4</td>\n",
       "      <td>10</td>\n",
       "      <td>1</td>\n",
       "      <td>0</td>\n",
       "      <td>1</td>\n",
       "      <td>0</td>\n",
       "      <td>201701</td>\n",
       "      <td>2062</td>\n",
       "      <td>2017</td>\n",
       "      <td>01</td>\n",
       "      <td>Acreúna</td>\n",
       "      <td>Sul Goiano</td>\n",
       "    </tr>\n",
       "    <tr>\n",
       "      <th>...</th>\n",
       "      <td>...</td>\n",
       "      <td>...</td>\n",
       "      <td>...</td>\n",
       "      <td>...</td>\n",
       "      <td>...</td>\n",
       "      <td>...</td>\n",
       "      <td>...</td>\n",
       "      <td>...</td>\n",
       "      <td>...</td>\n",
       "      <td>...</td>\n",
       "      <td>...</td>\n",
       "      <td>...</td>\n",
       "      <td>...</td>\n",
       "      <td>...</td>\n",
       "      <td>...</td>\n",
       "      <td>...</td>\n",
       "      <td>...</td>\n",
       "      <td>...</td>\n",
       "      <td>...</td>\n",
       "      <td>...</td>\n",
       "      <td>...</td>\n",
       "      <td>...</td>\n",
       "      <td>...</td>\n",
       "      <td>...</td>\n",
       "      <td>...</td>\n",
       "      <td>...</td>\n",
       "      <td>...</td>\n",
       "      <td>...</td>\n",
       "      <td>...</td>\n",
       "      <td>...</td>\n",
       "      <td>...</td>\n",
       "      <td>...</td>\n",
       "    </tr>\n",
       "    <tr>\n",
       "      <th>206188</th>\n",
       "      <td>2383691</td>\n",
       "      <td>522205</td>\n",
       "      <td>001</td>\n",
       "      <td>NaN</td>\n",
       "      <td>NaN</td>\n",
       "      <td>NaN</td>\n",
       "      <td>M</td>\n",
       "      <td>3</td>\n",
       "      <td>0</td>\n",
       "      <td>3</td>\n",
       "      <td>44834000107</td>\n",
       "      <td>NaN</td>\n",
       "      <td>4</td>\n",
       "      <td>NaN</td>\n",
       "      <td>NaN</td>\n",
       "      <td>3.0</td>\n",
       "      <td>5</td>\n",
       "      <td>6</td>\n",
       "      <td>NaN</td>\n",
       "      <td>NaN</td>\n",
       "      <td>1</td>\n",
       "      <td>3</td>\n",
       "      <td>3</td>\n",
       "      <td>0</td>\n",
       "      <td>3</td>\n",
       "      <td>0</td>\n",
       "      <td>202211</td>\n",
       "      <td>1244</td>\n",
       "      <td>2022</td>\n",
       "      <td>11</td>\n",
       "      <td>Vicentinópolis</td>\n",
       "      <td>Sul Goiano</td>\n",
       "    </tr>\n",
       "    <tr>\n",
       "      <th>206189</th>\n",
       "      <td>2383691</td>\n",
       "      <td>522205</td>\n",
       "      <td>001</td>\n",
       "      <td>NaN</td>\n",
       "      <td>NaN</td>\n",
       "      <td>NaN</td>\n",
       "      <td>M</td>\n",
       "      <td>3</td>\n",
       "      <td>0</td>\n",
       "      <td>3</td>\n",
       "      <td>44834000107</td>\n",
       "      <td>NaN</td>\n",
       "      <td>4</td>\n",
       "      <td>NaN</td>\n",
       "      <td>NaN</td>\n",
       "      <td>3.0</td>\n",
       "      <td>5</td>\n",
       "      <td>6</td>\n",
       "      <td>NaN</td>\n",
       "      <td>NaN</td>\n",
       "      <td>4</td>\n",
       "      <td>10</td>\n",
       "      <td>3</td>\n",
       "      <td>0</td>\n",
       "      <td>3</td>\n",
       "      <td>0</td>\n",
       "      <td>202211</td>\n",
       "      <td>1244</td>\n",
       "      <td>2022</td>\n",
       "      <td>11</td>\n",
       "      <td>Vicentinópolis</td>\n",
       "      <td>Sul Goiano</td>\n",
       "    </tr>\n",
       "    <tr>\n",
       "      <th>206190</th>\n",
       "      <td>2439883</td>\n",
       "      <td>522220</td>\n",
       "      <td>02</td>\n",
       "      <td>NaN</td>\n",
       "      <td>NaN</td>\n",
       "      <td>NaN</td>\n",
       "      <td>M</td>\n",
       "      <td>3</td>\n",
       "      <td>0</td>\n",
       "      <td>3</td>\n",
       "      <td>37388378000114</td>\n",
       "      <td>NaN</td>\n",
       "      <td>4</td>\n",
       "      <td>NaN</td>\n",
       "      <td>NaN</td>\n",
       "      <td>3.0</td>\n",
       "      <td>5</td>\n",
       "      <td>6</td>\n",
       "      <td>NaN</td>\n",
       "      <td>NaN</td>\n",
       "      <td>2</td>\n",
       "      <td>33</td>\n",
       "      <td>7</td>\n",
       "      <td>0</td>\n",
       "      <td>7</td>\n",
       "      <td>0</td>\n",
       "      <td>202211</td>\n",
       "      <td>1244</td>\n",
       "      <td>2022</td>\n",
       "      <td>11</td>\n",
       "      <td>Vila Boa</td>\n",
       "      <td>Leste Goiano</td>\n",
       "    </tr>\n",
       "    <tr>\n",
       "      <th>206191</th>\n",
       "      <td>2439883</td>\n",
       "      <td>522220</td>\n",
       "      <td>02</td>\n",
       "      <td>NaN</td>\n",
       "      <td>NaN</td>\n",
       "      <td>NaN</td>\n",
       "      <td>M</td>\n",
       "      <td>3</td>\n",
       "      <td>0</td>\n",
       "      <td>3</td>\n",
       "      <td>37388378000114</td>\n",
       "      <td>NaN</td>\n",
       "      <td>4</td>\n",
       "      <td>NaN</td>\n",
       "      <td>NaN</td>\n",
       "      <td>3.0</td>\n",
       "      <td>5</td>\n",
       "      <td>6</td>\n",
       "      <td>NaN</td>\n",
       "      <td>NaN</td>\n",
       "      <td>4</td>\n",
       "      <td>43</td>\n",
       "      <td>2</td>\n",
       "      <td>0</td>\n",
       "      <td>2</td>\n",
       "      <td>0</td>\n",
       "      <td>202211</td>\n",
       "      <td>1244</td>\n",
       "      <td>2022</td>\n",
       "      <td>11</td>\n",
       "      <td>Vila Boa</td>\n",
       "      <td>Leste Goiano</td>\n",
       "    </tr>\n",
       "    <tr>\n",
       "      <th>206192</th>\n",
       "      <td>2439883</td>\n",
       "      <td>522220</td>\n",
       "      <td>02</td>\n",
       "      <td>NaN</td>\n",
       "      <td>NaN</td>\n",
       "      <td>NaN</td>\n",
       "      <td>M</td>\n",
       "      <td>3</td>\n",
       "      <td>0</td>\n",
       "      <td>3</td>\n",
       "      <td>37388378000114</td>\n",
       "      <td>NaN</td>\n",
       "      <td>4</td>\n",
       "      <td>NaN</td>\n",
       "      <td>NaN</td>\n",
       "      <td>3.0</td>\n",
       "      <td>5</td>\n",
       "      <td>6</td>\n",
       "      <td>NaN</td>\n",
       "      <td>NaN</td>\n",
       "      <td>5</td>\n",
       "      <td>45</td>\n",
       "      <td>4</td>\n",
       "      <td>0</td>\n",
       "      <td>4</td>\n",
       "      <td>0</td>\n",
       "      <td>202211</td>\n",
       "      <td>1244</td>\n",
       "      <td>2022</td>\n",
       "      <td>11</td>\n",
       "      <td>Vila Boa</td>\n",
       "      <td>Leste Goiano</td>\n",
       "    </tr>\n",
       "  </tbody>\n",
       "</table>\n",
       "<p>206192 rows × 32 columns</p>\n",
       "</div>"
      ],
      "text/plain": [
       "           CNES  CODUFMUN REGSAUDE MICR_REG  DISTRSAN DISTRADM TPGESTAO  \\\n",
       "1       2335506    520013       15      NaN       NaN      NaN        M   \n",
       "2       2335506    520013       15      NaN       NaN      NaN        M   \n",
       "3       2335506    520013       15      NaN       NaN      NaN        M   \n",
       "4       2335506    520013       15      NaN       NaN      NaN        M   \n",
       "5       2335506    520013       15      NaN       NaN      NaN        M   \n",
       "...         ...       ...      ...      ...       ...      ...      ...   \n",
       "206188  2383691    522205      001      NaN       NaN      NaN        M   \n",
       "206189  2383691    522205      001      NaN       NaN      NaN        M   \n",
       "206190  2439883    522220       02      NaN       NaN      NaN        M   \n",
       "206191  2439883    522220       02      NaN       NaN      NaN        M   \n",
       "206192  2439883    522220       02      NaN       NaN      NaN        M   \n",
       "\n",
       "        PF_PJ      CPF_CNPJ  NIV_DEP        CNPJ_MAN  ESFERA_A  ATIVIDAD  \\\n",
       "1           3  269860000125        1               0       NaN         4   \n",
       "2           3  269860000125        1               0       NaN         4   \n",
       "3           3  269860000125        1               0       NaN         4   \n",
       "4           3  269860000125        1               0       NaN         4   \n",
       "5           3  269860000125        1               0       NaN         4   \n",
       "...       ...           ...      ...             ...       ...       ...   \n",
       "206188      3             0        3     44834000107       NaN         4   \n",
       "206189      3             0        3     44834000107       NaN         4   \n",
       "206190      3             0        3  37388378000114       NaN         4   \n",
       "206191      3             0        3  37388378000114       NaN         4   \n",
       "206192      3             0        3  37388378000114       NaN         4   \n",
       "\n",
       "        RETENCAO  NATUREZA  CLIENTEL  TP_UNID  TURNO_AT  NIV_HIER  TERCEIRO  \\\n",
       "1            NaN       NaN       3.0        5         6       NaN       NaN   \n",
       "2            NaN       NaN       3.0        5         6       NaN       NaN   \n",
       "3            NaN       NaN       3.0        5         6       NaN       NaN   \n",
       "4            NaN       NaN       3.0        5         6       NaN       NaN   \n",
       "5            NaN       NaN       3.0        5         6       NaN       NaN   \n",
       "...          ...       ...       ...      ...       ...       ...       ...   \n",
       "206188       NaN       NaN       3.0        5         6       NaN       NaN   \n",
       "206189       NaN       NaN       3.0        5         6       NaN       NaN   \n",
       "206190       NaN       NaN       3.0        5         6       NaN       NaN   \n",
       "206191       NaN       NaN       3.0        5         6       NaN       NaN   \n",
       "206192       NaN       NaN       3.0        5         6       NaN       NaN   \n",
       "\n",
       "        TP_LEITO  CODLEITO  QT_EXIST  QT_CONTR  QT_SUS  QT_NSUS COMPETEN  \\\n",
       "1              2        41         2         0       2        0   201701   \n",
       "2              6        34         4         0       3        1   201701   \n",
       "3              2        33         6         0       4        2   201701   \n",
       "4              4        43         3         0       3        0   201701   \n",
       "5              4        10         1         0       1        0   201701   \n",
       "...          ...       ...       ...       ...     ...      ...      ...   \n",
       "206188         1         3         3         0       3        0   202211   \n",
       "206189         4        10         3         0       3        0   202211   \n",
       "206190         2        33         7         0       7        0   202211   \n",
       "206191         4        43         2         0       2        0   202211   \n",
       "206192         5        45         4         0       4        0   202211   \n",
       "\n",
       "        NAT_JUR   ANO MES  NOME_MUNICIPIO    MESOREGIAO  \n",
       "1          2062  2017  01         Acreúna    Sul Goiano  \n",
       "2          2062  2017  01         Acreúna    Sul Goiano  \n",
       "3          2062  2017  01         Acreúna    Sul Goiano  \n",
       "4          2062  2017  01         Acreúna    Sul Goiano  \n",
       "5          2062  2017  01         Acreúna    Sul Goiano  \n",
       "...         ...   ...  ..             ...           ...  \n",
       "206188     1244  2022  11  Vicentinópolis    Sul Goiano  \n",
       "206189     1244  2022  11  Vicentinópolis    Sul Goiano  \n",
       "206190     1244  2022  11        Vila Boa  Leste Goiano  \n",
       "206191     1244  2022  11        Vila Boa  Leste Goiano  \n",
       "206192     1244  2022  11        Vila Boa  Leste Goiano  \n",
       "\n",
       "[206192 rows x 32 columns]"
      ]
     },
     "execution_count": 9,
     "metadata": {},
     "output_type": "execute_result"
    }
   ],
   "source": [
    "data[\"COMPETEN\"] = data[\"COMPETEN\"].astype(str)\n",
    "data[\"ANO\"] = data[\"COMPETEN\"].apply(lambda x: x[:4])\n",
    "data[\"MES\"] = data[\"COMPETEN\"].apply(lambda x: x[4:])\n",
    "# May take a while (+ 25 secs)\n",
    "data[\"NOME_MUNICIPIO\"] = data[\"CODUFMUN\"].apply(lambda x: getCidade(data_municipios, x))\n",
    "# May take a while (+ 25 secs)\n",
    "data[\"MESOREGIAO\"] = data[\"CODUFMUN\"].apply(lambda x: getRegiao(data_municipios, x, \"meso\"))\n",
    "data"
   ]
  },
  {
   "cell_type": "code",
   "execution_count": 10,
   "metadata": {},
   "outputs": [
    {
     "data": {
      "text/plain": [
       "array(['Sul Goiano', 'Leste Goiano', 'Norte Goiano', 'Centro Goiano',\n",
       "       'Noroeste Goiano'], dtype=object)"
      ]
     },
     "execution_count": 10,
     "metadata": {},
     "output_type": "execute_result"
    }
   ],
   "source": [
    "# Visualizando mesoregiões para as quais temos dados\n",
    "data[\"MESOREGIAO\"].unique()"
   ]
  },
  {
   "cell_type": "code",
   "execution_count": 11,
   "metadata": {},
   "outputs": [
    {
     "data": {
      "text/html": [
       "<div>\n",
       "<style scoped>\n",
       "    .dataframe tbody tr th:only-of-type {\n",
       "        vertical-align: middle;\n",
       "    }\n",
       "\n",
       "    .dataframe tbody tr th {\n",
       "        vertical-align: top;\n",
       "    }\n",
       "\n",
       "    .dataframe thead th {\n",
       "        text-align: right;\n",
       "    }\n",
       "</style>\n",
       "<table border=\"1\" class=\"dataframe\">\n",
       "  <thead>\n",
       "    <tr style=\"text-align: right;\">\n",
       "      <th></th>\n",
       "      <th>CNES</th>\n",
       "      <th>CODUFMUN</th>\n",
       "      <th>REGSAUDE</th>\n",
       "      <th>MICR_REG</th>\n",
       "      <th>DISTRSAN</th>\n",
       "      <th>DISTRADM</th>\n",
       "      <th>TPGESTAO</th>\n",
       "      <th>PF_PJ</th>\n",
       "      <th>CPF_CNPJ</th>\n",
       "      <th>NIV_DEP</th>\n",
       "      <th>CNPJ_MAN</th>\n",
       "      <th>ESFERA_A</th>\n",
       "      <th>ATIVIDAD</th>\n",
       "      <th>RETENCAO</th>\n",
       "      <th>NATUREZA</th>\n",
       "      <th>CLIENTEL</th>\n",
       "      <th>TP_UNID</th>\n",
       "      <th>TURNO_AT</th>\n",
       "      <th>NIV_HIER</th>\n",
       "      <th>TERCEIRO</th>\n",
       "      <th>TP_LEITO</th>\n",
       "      <th>CODLEITO</th>\n",
       "      <th>QT_EXIST</th>\n",
       "      <th>QT_CONTR</th>\n",
       "      <th>QT_SUS</th>\n",
       "      <th>QT_NSUS</th>\n",
       "      <th>COMPETEN</th>\n",
       "      <th>NAT_JUR</th>\n",
       "      <th>ANO</th>\n",
       "      <th>MES</th>\n",
       "      <th>NOME_MUNICIPIO</th>\n",
       "      <th>MESOREGIAO</th>\n",
       "    </tr>\n",
       "  </thead>\n",
       "  <tbody>\n",
       "    <tr>\n",
       "      <th>74</th>\n",
       "      <td>2361787</td>\n",
       "      <td>520110</td>\n",
       "      <td>3</td>\n",
       "      <td>NaN</td>\n",
       "      <td>NaN</td>\n",
       "      <td>NaN</td>\n",
       "      <td>M</td>\n",
       "      <td>3</td>\n",
       "      <td>1038751000160</td>\n",
       "      <td>1</td>\n",
       "      <td>0</td>\n",
       "      <td>NaN</td>\n",
       "      <td>4</td>\n",
       "      <td>NaN</td>\n",
       "      <td>NaN</td>\n",
       "      <td>3.0</td>\n",
       "      <td>5</td>\n",
       "      <td>6</td>\n",
       "      <td>NaN</td>\n",
       "      <td>NaN</td>\n",
       "      <td>3</td>\n",
       "      <td>75</td>\n",
       "      <td>20</td>\n",
       "      <td>0</td>\n",
       "      <td>16</td>\n",
       "      <td>4</td>\n",
       "      <td>201701</td>\n",
       "      <td>3999</td>\n",
       "      <td>2017</td>\n",
       "      <td>01</td>\n",
       "      <td>Anápolis</td>\n",
       "      <td>Centro Goiano</td>\n",
       "    </tr>\n",
       "    <tr>\n",
       "      <th>75</th>\n",
       "      <td>2361787</td>\n",
       "      <td>520110</td>\n",
       "      <td>3</td>\n",
       "      <td>NaN</td>\n",
       "      <td>NaN</td>\n",
       "      <td>NaN</td>\n",
       "      <td>M</td>\n",
       "      <td>3</td>\n",
       "      <td>1038751000160</td>\n",
       "      <td>1</td>\n",
       "      <td>0</td>\n",
       "      <td>NaN</td>\n",
       "      <td>4</td>\n",
       "      <td>NaN</td>\n",
       "      <td>NaN</td>\n",
       "      <td>3.0</td>\n",
       "      <td>5</td>\n",
       "      <td>6</td>\n",
       "      <td>NaN</td>\n",
       "      <td>NaN</td>\n",
       "      <td>3</td>\n",
       "      <td>78</td>\n",
       "      <td>10</td>\n",
       "      <td>0</td>\n",
       "      <td>10</td>\n",
       "      <td>0</td>\n",
       "      <td>201701</td>\n",
       "      <td>3999</td>\n",
       "      <td>2017</td>\n",
       "      <td>01</td>\n",
       "      <td>Anápolis</td>\n",
       "      <td>Centro Goiano</td>\n",
       "    </tr>\n",
       "    <tr>\n",
       "      <th>76</th>\n",
       "      <td>2361787</td>\n",
       "      <td>520110</td>\n",
       "      <td>3</td>\n",
       "      <td>NaN</td>\n",
       "      <td>NaN</td>\n",
       "      <td>NaN</td>\n",
       "      <td>M</td>\n",
       "      <td>3</td>\n",
       "      <td>1038751000160</td>\n",
       "      <td>1</td>\n",
       "      <td>0</td>\n",
       "      <td>NaN</td>\n",
       "      <td>4</td>\n",
       "      <td>NaN</td>\n",
       "      <td>NaN</td>\n",
       "      <td>3.0</td>\n",
       "      <td>5</td>\n",
       "      <td>6</td>\n",
       "      <td>NaN</td>\n",
       "      <td>NaN</td>\n",
       "      <td>3</td>\n",
       "      <td>81</td>\n",
       "      <td>10</td>\n",
       "      <td>0</td>\n",
       "      <td>10</td>\n",
       "      <td>0</td>\n",
       "      <td>201701</td>\n",
       "      <td>3999</td>\n",
       "      <td>2017</td>\n",
       "      <td>01</td>\n",
       "      <td>Anápolis</td>\n",
       "      <td>Centro Goiano</td>\n",
       "    </tr>\n",
       "    <tr>\n",
       "      <th>107</th>\n",
       "      <td>2442108</td>\n",
       "      <td>520110</td>\n",
       "      <td>3</td>\n",
       "      <td>NaN</td>\n",
       "      <td>NaN</td>\n",
       "      <td>NaN</td>\n",
       "      <td>M</td>\n",
       "      <td>3</td>\n",
       "      <td>1020197000193</td>\n",
       "      <td>3</td>\n",
       "      <td>36975290000136</td>\n",
       "      <td>NaN</td>\n",
       "      <td>4</td>\n",
       "      <td>NaN</td>\n",
       "      <td>NaN</td>\n",
       "      <td>3.0</td>\n",
       "      <td>5</td>\n",
       "      <td>6</td>\n",
       "      <td>NaN</td>\n",
       "      <td>NaN</td>\n",
       "      <td>3</td>\n",
       "      <td>78</td>\n",
       "      <td>8</td>\n",
       "      <td>0</td>\n",
       "      <td>6</td>\n",
       "      <td>2</td>\n",
       "      <td>201701</td>\n",
       "      <td>2054</td>\n",
       "      <td>2017</td>\n",
       "      <td>01</td>\n",
       "      <td>Anápolis</td>\n",
       "      <td>Centro Goiano</td>\n",
       "    </tr>\n",
       "    <tr>\n",
       "      <th>108</th>\n",
       "      <td>2442108</td>\n",
       "      <td>520110</td>\n",
       "      <td>3</td>\n",
       "      <td>NaN</td>\n",
       "      <td>NaN</td>\n",
       "      <td>NaN</td>\n",
       "      <td>M</td>\n",
       "      <td>3</td>\n",
       "      <td>1020197000193</td>\n",
       "      <td>3</td>\n",
       "      <td>36975290000136</td>\n",
       "      <td>NaN</td>\n",
       "      <td>4</td>\n",
       "      <td>NaN</td>\n",
       "      <td>NaN</td>\n",
       "      <td>3.0</td>\n",
       "      <td>5</td>\n",
       "      <td>6</td>\n",
       "      <td>NaN</td>\n",
       "      <td>NaN</td>\n",
       "      <td>3</td>\n",
       "      <td>75</td>\n",
       "      <td>34</td>\n",
       "      <td>0</td>\n",
       "      <td>15</td>\n",
       "      <td>19</td>\n",
       "      <td>201701</td>\n",
       "      <td>2054</td>\n",
       "      <td>2017</td>\n",
       "      <td>01</td>\n",
       "      <td>Anápolis</td>\n",
       "      <td>Centro Goiano</td>\n",
       "    </tr>\n",
       "  </tbody>\n",
       "</table>\n",
       "</div>"
      ],
      "text/plain": [
       "        CNES  CODUFMUN REGSAUDE MICR_REG  DISTRSAN DISTRADM TPGESTAO  PF_PJ  \\\n",
       "74   2361787    520110        3      NaN       NaN      NaN        M      3   \n",
       "75   2361787    520110        3      NaN       NaN      NaN        M      3   \n",
       "76   2361787    520110        3      NaN       NaN      NaN        M      3   \n",
       "107  2442108    520110        3      NaN       NaN      NaN        M      3   \n",
       "108  2442108    520110        3      NaN       NaN      NaN        M      3   \n",
       "\n",
       "          CPF_CNPJ  NIV_DEP        CNPJ_MAN  ESFERA_A  ATIVIDAD  RETENCAO  \\\n",
       "74   1038751000160        1               0       NaN         4       NaN   \n",
       "75   1038751000160        1               0       NaN         4       NaN   \n",
       "76   1038751000160        1               0       NaN         4       NaN   \n",
       "107  1020197000193        3  36975290000136       NaN         4       NaN   \n",
       "108  1020197000193        3  36975290000136       NaN         4       NaN   \n",
       "\n",
       "     NATUREZA  CLIENTEL  TP_UNID  TURNO_AT  NIV_HIER  TERCEIRO  TP_LEITO  \\\n",
       "74        NaN       3.0        5         6       NaN       NaN         3   \n",
       "75        NaN       3.0        5         6       NaN       NaN         3   \n",
       "76        NaN       3.0        5         6       NaN       NaN         3   \n",
       "107       NaN       3.0        5         6       NaN       NaN         3   \n",
       "108       NaN       3.0        5         6       NaN       NaN         3   \n",
       "\n",
       "     CODLEITO  QT_EXIST  QT_CONTR  QT_SUS  QT_NSUS COMPETEN  NAT_JUR   ANO  \\\n",
       "74         75        20         0      16        4   201701     3999  2017   \n",
       "75         78        10         0      10        0   201701     3999  2017   \n",
       "76         81        10         0      10        0   201701     3999  2017   \n",
       "107        78         8         0       6        2   201701     2054  2017   \n",
       "108        75        34         0      15       19   201701     2054  2017   \n",
       "\n",
       "    MES NOME_MUNICIPIO     MESOREGIAO  \n",
       "74   01       Anápolis  Centro Goiano  \n",
       "75   01       Anápolis  Centro Goiano  \n",
       "76   01       Anápolis  Centro Goiano  \n",
       "107  01       Anápolis  Centro Goiano  \n",
       "108  01       Anápolis  Centro Goiano  "
      ]
     },
     "execution_count": 11,
     "metadata": {},
     "output_type": "execute_result"
    }
   ],
   "source": [
    "CODIGOS_UTI = [74, 75, 76, 77, 78, 80, 81, 82, 83, 85, 86]\n",
    "MAP_TIPOS_LEITO = {\n",
    "    \"CIRURGICO\": 1,\n",
    "    \"CLINICO\": 2,\n",
    "    \"COMPLEMENTARES\": 3,    # UTIS e Unidades Intermediárias estão aqui\n",
    "    \"OBSTETRICO\": 4,\n",
    "    \"PEDIATRICO\": 5,\n",
    "    \"OUTRAS ESPECIALIDADES\": 6,\n",
    "    \"HOSPITAL DIA\": 7,\n",
    "}\n",
    "\n",
    "data_UTI = data[data[\"CODLEITO\"].isin(CODIGOS_UTI)]\n",
    "data_UTI.head()"
   ]
  },
  {
   "attachments": {},
   "cell_type": "markdown",
   "metadata": {},
   "source": [
    "## Comentário sobre os dados disponibilizados pelo CNES\n",
    "\n",
    "#### Sobre a tabela de dados\n",
    "- Banco de dados suficientemente abrangente, com informações compiladas mensalmente. Não permite fazer análises em tempos menores, como Mensalmente.\n",
    "- Dados baixados em 7 de janeiro de 2023, com dados até novembro de 2022. Portanto, não havia-se compilado os dados sobre os leitos referentes a Dezembro de 2022.\n",
    "- Algumas colunas apresentam grande quantidade de dados nulos (faltantes), como MIC_REG, DISTRADM, DISTRSAN entre outros (ver cálculo de nulos acima). Esses dados náo foram utilizados na nossa análise.\n",
    "\n",
    "#### Sobre o documento explicativo das colunas da tabela\n",
    "- O documento explicativo sobre cada coluna pode ser encontrado a partir da raiz do projeto no diretório /info/IT_CNES_1706.pdf\n",
    "- O documento explica o que representa cada coluna da tabela de maneira satisfatória.\n",
    "- O documento, no entanto, falha com algumas colunas categóricas, em descrever cada categoria. Por exemplo, valores das colunas TP_LEITO e CODLEITO são representados por números inteiros, mas não foi possível localizar em nenhum local (nem na wiki) a qual categoria cada número corresponde. Por exemplo, não sabemos qual tipo de leito corresponde ao valor 2, nem o que significa o código de leito 3. Para descobrir a que se referem tais valores, elaborei uma estratégia baseada no sistema antigo do CNES (ainda no ar).\n",
    "\n",
    "#### Como descobrir o que significa cada valor da coluna CODLEITO e TP_LEITO:\n",
    "1. Abra o sistema antigo (http://cnes2.datasus.gov.br/) na página sobre relatório de Leitos.\n",
    "2. Selecione um Estado e vai aparecer tabela com os códigos de leito e o respectivos nomes (bem como a quantidade para aquele estado escolhido). Esse valor representa o CODLEITO.\n",
    "3. Com o CODLEITO, podemos descobrir cada valor de cada TP_LEITO olhando a tabela. Filtre a tabela de dados para determinado valor de CODLEITO (ex.: o CODLEITO 03 Cirurgia Geral é do tipo Cirúrgico, conforme se vê na tabela). Ao fazer isso, os dados restantes na tabela filtrada serão de um TP_LEITO numérico, esse TP_leito (aqui por exemplo vai sobrar o valor 1) corresponderá ao subtítulo da tabela (aqui Cirúrgico). Portanto, o valor 1 de TP_LEITO corresponde ao subtítulo Cirúrgico.\n",
    "\n",
    "#### Como trabalhar regiões geográficas\n",
    "- Para trabalhar com regiões geográficas, baixamos dados relativos a municípios a partir do IBGE. Por estes dados, podemos consultar dados do município por meio do seu código, e assim saber a mesoregião (e outras informações) a qual ele pertence.\n",
    "- O único detalhe é que o código de município da tabela CNES está sem o dígito final, que consta da tabela de municípios do IBGE. Portanto, deve-se encontrar o município sem o último dígito na tabela do IBGE. Para facilitar, criamos uma tabela no IBGE com o código de município sem o dígito final, e a utilizamos para encontrar o município e obter informações sobre ele."
   ]
  },
  {
   "attachments": {},
   "cell_type": "markdown",
   "metadata": {},
   "source": [
    "# 2. Análise da evolução da quantidade de Leitos em Goiás (Todos os tipos de Leito)"
   ]
  },
  {
   "attachments": {},
   "cell_type": "markdown",
   "metadata": {},
   "source": [
    "## Evolução da quantidade de leitos por mês"
   ]
  },
  {
   "cell_type": "code",
   "execution_count": 12,
   "metadata": {},
   "outputs": [
    {
     "data": {
      "text/html": [
       "<div>\n",
       "<style scoped>\n",
       "    .dataframe tbody tr th:only-of-type {\n",
       "        vertical-align: middle;\n",
       "    }\n",
       "\n",
       "    .dataframe tbody tr th {\n",
       "        vertical-align: top;\n",
       "    }\n",
       "\n",
       "    .dataframe thead th {\n",
       "        text-align: right;\n",
       "    }\n",
       "</style>\n",
       "<table border=\"1\" class=\"dataframe\">\n",
       "  <thead>\n",
       "    <tr style=\"text-align: right;\">\n",
       "      <th></th>\n",
       "      <th>COMPETEN</th>\n",
       "      <th>QT_EXIST</th>\n",
       "      <th>QT_SUS</th>\n",
       "    </tr>\n",
       "  </thead>\n",
       "  <tbody>\n",
       "    <tr>\n",
       "      <th>0</th>\n",
       "      <td>201701</td>\n",
       "      <td>19490</td>\n",
       "      <td>12122</td>\n",
       "    </tr>\n",
       "    <tr>\n",
       "      <th>1</th>\n",
       "      <td>201702</td>\n",
       "      <td>19540</td>\n",
       "      <td>12147</td>\n",
       "    </tr>\n",
       "    <tr>\n",
       "      <th>2</th>\n",
       "      <td>201703</td>\n",
       "      <td>19593</td>\n",
       "      <td>11939</td>\n",
       "    </tr>\n",
       "    <tr>\n",
       "      <th>3</th>\n",
       "      <td>201704</td>\n",
       "      <td>19636</td>\n",
       "      <td>11865</td>\n",
       "    </tr>\n",
       "    <tr>\n",
       "      <th>4</th>\n",
       "      <td>201705</td>\n",
       "      <td>19570</td>\n",
       "      <td>11820</td>\n",
       "    </tr>\n",
       "    <tr>\n",
       "      <th>...</th>\n",
       "      <td>...</td>\n",
       "      <td>...</td>\n",
       "      <td>...</td>\n",
       "    </tr>\n",
       "    <tr>\n",
       "      <th>66</th>\n",
       "      <td>202207</td>\n",
       "      <td>21303</td>\n",
       "      <td>12819</td>\n",
       "    </tr>\n",
       "    <tr>\n",
       "      <th>67</th>\n",
       "      <td>202208</td>\n",
       "      <td>21343</td>\n",
       "      <td>12988</td>\n",
       "    </tr>\n",
       "    <tr>\n",
       "      <th>68</th>\n",
       "      <td>202209</td>\n",
       "      <td>21315</td>\n",
       "      <td>12942</td>\n",
       "    </tr>\n",
       "    <tr>\n",
       "      <th>69</th>\n",
       "      <td>202210</td>\n",
       "      <td>21389</td>\n",
       "      <td>13096</td>\n",
       "    </tr>\n",
       "    <tr>\n",
       "      <th>70</th>\n",
       "      <td>202211</td>\n",
       "      <td>21225</td>\n",
       "      <td>13099</td>\n",
       "    </tr>\n",
       "  </tbody>\n",
       "</table>\n",
       "<p>71 rows × 3 columns</p>\n",
       "</div>"
      ],
      "text/plain": [
       "   COMPETEN  QT_EXIST  QT_SUS\n",
       "0    201701     19490   12122\n",
       "1    201702     19540   12147\n",
       "2    201703     19593   11939\n",
       "3    201704     19636   11865\n",
       "4    201705     19570   11820\n",
       "..      ...       ...     ...\n",
       "66   202207     21303   12819\n",
       "67   202208     21343   12988\n",
       "68   202209     21315   12942\n",
       "69   202210     21389   13096\n",
       "70   202211     21225   13099\n",
       "\n",
       "[71 rows x 3 columns]"
      ]
     },
     "execution_count": 12,
     "metadata": {},
     "output_type": "execute_result"
    }
   ],
   "source": [
    "leitos_por_mes = data.groupby([\"COMPETEN\"]).sum()[[\"QT_EXIST\", \"QT_SUS\"]].reset_index()\n",
    "leitos_por_mes"
   ]
  },
  {
   "cell_type": "code",
   "execution_count": 13,
   "metadata": {},
   "outputs": [
    {
     "data": {
      "application/vnd.plotly.v1+json": {
       "config": {
        "plotlyServerURL": "https://plot.ly"
       },
       "data": [
        {
         "hovertemplate": "variable=QT_EXIST<br>COMPETEN=%{x}<br>value=%{y}<extra></extra>",
         "legendgroup": "QT_EXIST",
         "line": {
          "color": "#636efa",
          "dash": "solid"
         },
         "marker": {
          "symbol": "circle"
         },
         "mode": "lines",
         "name": "QT_EXIST",
         "orientation": "v",
         "showlegend": true,
         "type": "scatter",
         "x": [
          "201701",
          "201702",
          "201703",
          "201704",
          "201705",
          "201706",
          "201707",
          "201708",
          "201709",
          "201710",
          "201711",
          "201712",
          "201801",
          "201802",
          "201803",
          "201804",
          "201805",
          "201806",
          "201807",
          "201808",
          "201809",
          "201810",
          "201811",
          "201812",
          "201901",
          "201902",
          "201903",
          "201904",
          "201905",
          "201906",
          "201907",
          "201908",
          "201909",
          "201910",
          "201911",
          "201912",
          "202001",
          "202002",
          "202003",
          "202004",
          "202005",
          "202006",
          "202007",
          "202008",
          "202009",
          "202010",
          "202011",
          "202012",
          "202101",
          "202102",
          "202103",
          "202104",
          "202105",
          "202106",
          "202107",
          "202108",
          "202109",
          "202110",
          "202111",
          "202112",
          "202201",
          "202202",
          "202203",
          "202204",
          "202205",
          "202206",
          "202207",
          "202208",
          "202209",
          "202210",
          "202211"
         ],
         "xaxis": "x",
         "y": [
          19490,
          19540,
          19593,
          19636,
          19570,
          19608,
          19655,
          19704,
          19676,
          19512,
          19485,
          19225,
          19234,
          19435,
          19430,
          19430,
          19594,
          19645,
          19773,
          19489,
          19657,
          19494,
          19028,
          19181,
          19056,
          19022,
          19175,
          19197,
          19103,
          18984,
          18967,
          18846,
          18916,
          19004,
          19202,
          19147,
          19351,
          19311,
          19761,
          19971,
          20028,
          20290,
          20630,
          20868,
          20962,
          20989,
          20755,
          21140,
          21187,
          21592,
          22066,
          22098,
          22169,
          22323,
          22525,
          22722,
          22758,
          22833,
          22886,
          23019,
          23003,
          22730,
          22444,
          22395,
          22381,
          21212,
          21303,
          21343,
          21315,
          21389,
          21225
         ],
         "yaxis": "y"
        },
        {
         "hovertemplate": "variable=QT_SUS<br>COMPETEN=%{x}<br>value=%{y}<extra></extra>",
         "legendgroup": "QT_SUS",
         "line": {
          "color": "#EF553B",
          "dash": "solid"
         },
         "marker": {
          "symbol": "circle"
         },
         "mode": "lines",
         "name": "QT_SUS",
         "orientation": "v",
         "showlegend": true,
         "type": "scatter",
         "x": [
          "201701",
          "201702",
          "201703",
          "201704",
          "201705",
          "201706",
          "201707",
          "201708",
          "201709",
          "201710",
          "201711",
          "201712",
          "201801",
          "201802",
          "201803",
          "201804",
          "201805",
          "201806",
          "201807",
          "201808",
          "201809",
          "201810",
          "201811",
          "201812",
          "201901",
          "201902",
          "201903",
          "201904",
          "201905",
          "201906",
          "201907",
          "201908",
          "201909",
          "201910",
          "201911",
          "201912",
          "202001",
          "202002",
          "202003",
          "202004",
          "202005",
          "202006",
          "202007",
          "202008",
          "202009",
          "202010",
          "202011",
          "202012",
          "202101",
          "202102",
          "202103",
          "202104",
          "202105",
          "202106",
          "202107",
          "202108",
          "202109",
          "202110",
          "202111",
          "202112",
          "202201",
          "202202",
          "202203",
          "202204",
          "202205",
          "202206",
          "202207",
          "202208",
          "202209",
          "202210",
          "202211"
         ],
         "xaxis": "x",
         "y": [
          12122,
          12147,
          11939,
          11865,
          11820,
          11821,
          11806,
          11839,
          11789,
          11686,
          11702,
          11439,
          11440,
          11624,
          11607,
          11608,
          11695,
          11679,
          11908,
          11889,
          11924,
          11858,
          11570,
          11643,
          11532,
          11503,
          11542,
          11582,
          11517,
          11484,
          11437,
          11528,
          11533,
          11601,
          11477,
          11481,
          11535,
          11521,
          11784,
          11994,
          12137,
          12291,
          12440,
          12598,
          12750,
          12747,
          12629,
          12816,
          12776,
          12854,
          13506,
          13301,
          13341,
          13459,
          13547,
          13746,
          13853,
          13984,
          13878,
          13690,
          13406,
          13137,
          12981,
          13007,
          13041,
          12835,
          12819,
          12988,
          12942,
          13096,
          13099
         ],
         "yaxis": "y"
        }
       ],
       "layout": {
        "legend": {
         "title": {
          "text": "variable"
         },
         "tracegroupgap": 0
        },
        "template": {
         "data": {
          "bar": [
           {
            "error_x": {
             "color": "#2a3f5f"
            },
            "error_y": {
             "color": "#2a3f5f"
            },
            "marker": {
             "line": {
              "color": "#E5ECF6",
              "width": 0.5
             },
             "pattern": {
              "fillmode": "overlay",
              "size": 10,
              "solidity": 0.2
             }
            },
            "type": "bar"
           }
          ],
          "barpolar": [
           {
            "marker": {
             "line": {
              "color": "#E5ECF6",
              "width": 0.5
             },
             "pattern": {
              "fillmode": "overlay",
              "size": 10,
              "solidity": 0.2
             }
            },
            "type": "barpolar"
           }
          ],
          "carpet": [
           {
            "aaxis": {
             "endlinecolor": "#2a3f5f",
             "gridcolor": "white",
             "linecolor": "white",
             "minorgridcolor": "white",
             "startlinecolor": "#2a3f5f"
            },
            "baxis": {
             "endlinecolor": "#2a3f5f",
             "gridcolor": "white",
             "linecolor": "white",
             "minorgridcolor": "white",
             "startlinecolor": "#2a3f5f"
            },
            "type": "carpet"
           }
          ],
          "choropleth": [
           {
            "colorbar": {
             "outlinewidth": 0,
             "ticks": ""
            },
            "type": "choropleth"
           }
          ],
          "contour": [
           {
            "colorbar": {
             "outlinewidth": 0,
             "ticks": ""
            },
            "colorscale": [
             [
              0,
              "#0d0887"
             ],
             [
              0.1111111111111111,
              "#46039f"
             ],
             [
              0.2222222222222222,
              "#7201a8"
             ],
             [
              0.3333333333333333,
              "#9c179e"
             ],
             [
              0.4444444444444444,
              "#bd3786"
             ],
             [
              0.5555555555555556,
              "#d8576b"
             ],
             [
              0.6666666666666666,
              "#ed7953"
             ],
             [
              0.7777777777777778,
              "#fb9f3a"
             ],
             [
              0.8888888888888888,
              "#fdca26"
             ],
             [
              1,
              "#f0f921"
             ]
            ],
            "type": "contour"
           }
          ],
          "contourcarpet": [
           {
            "colorbar": {
             "outlinewidth": 0,
             "ticks": ""
            },
            "type": "contourcarpet"
           }
          ],
          "heatmap": [
           {
            "colorbar": {
             "outlinewidth": 0,
             "ticks": ""
            },
            "colorscale": [
             [
              0,
              "#0d0887"
             ],
             [
              0.1111111111111111,
              "#46039f"
             ],
             [
              0.2222222222222222,
              "#7201a8"
             ],
             [
              0.3333333333333333,
              "#9c179e"
             ],
             [
              0.4444444444444444,
              "#bd3786"
             ],
             [
              0.5555555555555556,
              "#d8576b"
             ],
             [
              0.6666666666666666,
              "#ed7953"
             ],
             [
              0.7777777777777778,
              "#fb9f3a"
             ],
             [
              0.8888888888888888,
              "#fdca26"
             ],
             [
              1,
              "#f0f921"
             ]
            ],
            "type": "heatmap"
           }
          ],
          "heatmapgl": [
           {
            "colorbar": {
             "outlinewidth": 0,
             "ticks": ""
            },
            "colorscale": [
             [
              0,
              "#0d0887"
             ],
             [
              0.1111111111111111,
              "#46039f"
             ],
             [
              0.2222222222222222,
              "#7201a8"
             ],
             [
              0.3333333333333333,
              "#9c179e"
             ],
             [
              0.4444444444444444,
              "#bd3786"
             ],
             [
              0.5555555555555556,
              "#d8576b"
             ],
             [
              0.6666666666666666,
              "#ed7953"
             ],
             [
              0.7777777777777778,
              "#fb9f3a"
             ],
             [
              0.8888888888888888,
              "#fdca26"
             ],
             [
              1,
              "#f0f921"
             ]
            ],
            "type": "heatmapgl"
           }
          ],
          "histogram": [
           {
            "marker": {
             "pattern": {
              "fillmode": "overlay",
              "size": 10,
              "solidity": 0.2
             }
            },
            "type": "histogram"
           }
          ],
          "histogram2d": [
           {
            "colorbar": {
             "outlinewidth": 0,
             "ticks": ""
            },
            "colorscale": [
             [
              0,
              "#0d0887"
             ],
             [
              0.1111111111111111,
              "#46039f"
             ],
             [
              0.2222222222222222,
              "#7201a8"
             ],
             [
              0.3333333333333333,
              "#9c179e"
             ],
             [
              0.4444444444444444,
              "#bd3786"
             ],
             [
              0.5555555555555556,
              "#d8576b"
             ],
             [
              0.6666666666666666,
              "#ed7953"
             ],
             [
              0.7777777777777778,
              "#fb9f3a"
             ],
             [
              0.8888888888888888,
              "#fdca26"
             ],
             [
              1,
              "#f0f921"
             ]
            ],
            "type": "histogram2d"
           }
          ],
          "histogram2dcontour": [
           {
            "colorbar": {
             "outlinewidth": 0,
             "ticks": ""
            },
            "colorscale": [
             [
              0,
              "#0d0887"
             ],
             [
              0.1111111111111111,
              "#46039f"
             ],
             [
              0.2222222222222222,
              "#7201a8"
             ],
             [
              0.3333333333333333,
              "#9c179e"
             ],
             [
              0.4444444444444444,
              "#bd3786"
             ],
             [
              0.5555555555555556,
              "#d8576b"
             ],
             [
              0.6666666666666666,
              "#ed7953"
             ],
             [
              0.7777777777777778,
              "#fb9f3a"
             ],
             [
              0.8888888888888888,
              "#fdca26"
             ],
             [
              1,
              "#f0f921"
             ]
            ],
            "type": "histogram2dcontour"
           }
          ],
          "mesh3d": [
           {
            "colorbar": {
             "outlinewidth": 0,
             "ticks": ""
            },
            "type": "mesh3d"
           }
          ],
          "parcoords": [
           {
            "line": {
             "colorbar": {
              "outlinewidth": 0,
              "ticks": ""
             }
            },
            "type": "parcoords"
           }
          ],
          "pie": [
           {
            "automargin": true,
            "type": "pie"
           }
          ],
          "scatter": [
           {
            "fillpattern": {
             "fillmode": "overlay",
             "size": 10,
             "solidity": 0.2
            },
            "type": "scatter"
           }
          ],
          "scatter3d": [
           {
            "line": {
             "colorbar": {
              "outlinewidth": 0,
              "ticks": ""
             }
            },
            "marker": {
             "colorbar": {
              "outlinewidth": 0,
              "ticks": ""
             }
            },
            "type": "scatter3d"
           }
          ],
          "scattercarpet": [
           {
            "marker": {
             "colorbar": {
              "outlinewidth": 0,
              "ticks": ""
             }
            },
            "type": "scattercarpet"
           }
          ],
          "scattergeo": [
           {
            "marker": {
             "colorbar": {
              "outlinewidth": 0,
              "ticks": ""
             }
            },
            "type": "scattergeo"
           }
          ],
          "scattergl": [
           {
            "marker": {
             "colorbar": {
              "outlinewidth": 0,
              "ticks": ""
             }
            },
            "type": "scattergl"
           }
          ],
          "scattermapbox": [
           {
            "marker": {
             "colorbar": {
              "outlinewidth": 0,
              "ticks": ""
             }
            },
            "type": "scattermapbox"
           }
          ],
          "scatterpolar": [
           {
            "marker": {
             "colorbar": {
              "outlinewidth": 0,
              "ticks": ""
             }
            },
            "type": "scatterpolar"
           }
          ],
          "scatterpolargl": [
           {
            "marker": {
             "colorbar": {
              "outlinewidth": 0,
              "ticks": ""
             }
            },
            "type": "scatterpolargl"
           }
          ],
          "scatterternary": [
           {
            "marker": {
             "colorbar": {
              "outlinewidth": 0,
              "ticks": ""
             }
            },
            "type": "scatterternary"
           }
          ],
          "surface": [
           {
            "colorbar": {
             "outlinewidth": 0,
             "ticks": ""
            },
            "colorscale": [
             [
              0,
              "#0d0887"
             ],
             [
              0.1111111111111111,
              "#46039f"
             ],
             [
              0.2222222222222222,
              "#7201a8"
             ],
             [
              0.3333333333333333,
              "#9c179e"
             ],
             [
              0.4444444444444444,
              "#bd3786"
             ],
             [
              0.5555555555555556,
              "#d8576b"
             ],
             [
              0.6666666666666666,
              "#ed7953"
             ],
             [
              0.7777777777777778,
              "#fb9f3a"
             ],
             [
              0.8888888888888888,
              "#fdca26"
             ],
             [
              1,
              "#f0f921"
             ]
            ],
            "type": "surface"
           }
          ],
          "table": [
           {
            "cells": {
             "fill": {
              "color": "#EBF0F8"
             },
             "line": {
              "color": "white"
             }
            },
            "header": {
             "fill": {
              "color": "#C8D4E3"
             },
             "line": {
              "color": "white"
             }
            },
            "type": "table"
           }
          ]
         },
         "layout": {
          "annotationdefaults": {
           "arrowcolor": "#2a3f5f",
           "arrowhead": 0,
           "arrowwidth": 1
          },
          "autotypenumbers": "strict",
          "coloraxis": {
           "colorbar": {
            "outlinewidth": 0,
            "ticks": ""
           }
          },
          "colorscale": {
           "diverging": [
            [
             0,
             "#8e0152"
            ],
            [
             0.1,
             "#c51b7d"
            ],
            [
             0.2,
             "#de77ae"
            ],
            [
             0.3,
             "#f1b6da"
            ],
            [
             0.4,
             "#fde0ef"
            ],
            [
             0.5,
             "#f7f7f7"
            ],
            [
             0.6,
             "#e6f5d0"
            ],
            [
             0.7,
             "#b8e186"
            ],
            [
             0.8,
             "#7fbc41"
            ],
            [
             0.9,
             "#4d9221"
            ],
            [
             1,
             "#276419"
            ]
           ],
           "sequential": [
            [
             0,
             "#0d0887"
            ],
            [
             0.1111111111111111,
             "#46039f"
            ],
            [
             0.2222222222222222,
             "#7201a8"
            ],
            [
             0.3333333333333333,
             "#9c179e"
            ],
            [
             0.4444444444444444,
             "#bd3786"
            ],
            [
             0.5555555555555556,
             "#d8576b"
            ],
            [
             0.6666666666666666,
             "#ed7953"
            ],
            [
             0.7777777777777778,
             "#fb9f3a"
            ],
            [
             0.8888888888888888,
             "#fdca26"
            ],
            [
             1,
             "#f0f921"
            ]
           ],
           "sequentialminus": [
            [
             0,
             "#0d0887"
            ],
            [
             0.1111111111111111,
             "#46039f"
            ],
            [
             0.2222222222222222,
             "#7201a8"
            ],
            [
             0.3333333333333333,
             "#9c179e"
            ],
            [
             0.4444444444444444,
             "#bd3786"
            ],
            [
             0.5555555555555556,
             "#d8576b"
            ],
            [
             0.6666666666666666,
             "#ed7953"
            ],
            [
             0.7777777777777778,
             "#fb9f3a"
            ],
            [
             0.8888888888888888,
             "#fdca26"
            ],
            [
             1,
             "#f0f921"
            ]
           ]
          },
          "colorway": [
           "#636efa",
           "#EF553B",
           "#00cc96",
           "#ab63fa",
           "#FFA15A",
           "#19d3f3",
           "#FF6692",
           "#B6E880",
           "#FF97FF",
           "#FECB52"
          ],
          "font": {
           "color": "#2a3f5f"
          },
          "geo": {
           "bgcolor": "white",
           "lakecolor": "white",
           "landcolor": "#E5ECF6",
           "showlakes": true,
           "showland": true,
           "subunitcolor": "white"
          },
          "hoverlabel": {
           "align": "left"
          },
          "hovermode": "closest",
          "mapbox": {
           "style": "light"
          },
          "paper_bgcolor": "white",
          "plot_bgcolor": "#E5ECF6",
          "polar": {
           "angularaxis": {
            "gridcolor": "white",
            "linecolor": "white",
            "ticks": ""
           },
           "bgcolor": "#E5ECF6",
           "radialaxis": {
            "gridcolor": "white",
            "linecolor": "white",
            "ticks": ""
           }
          },
          "scene": {
           "xaxis": {
            "backgroundcolor": "#E5ECF6",
            "gridcolor": "white",
            "gridwidth": 2,
            "linecolor": "white",
            "showbackground": true,
            "ticks": "",
            "zerolinecolor": "white"
           },
           "yaxis": {
            "backgroundcolor": "#E5ECF6",
            "gridcolor": "white",
            "gridwidth": 2,
            "linecolor": "white",
            "showbackground": true,
            "ticks": "",
            "zerolinecolor": "white"
           },
           "zaxis": {
            "backgroundcolor": "#E5ECF6",
            "gridcolor": "white",
            "gridwidth": 2,
            "linecolor": "white",
            "showbackground": true,
            "ticks": "",
            "zerolinecolor": "white"
           }
          },
          "shapedefaults": {
           "line": {
            "color": "#2a3f5f"
           }
          },
          "ternary": {
           "aaxis": {
            "gridcolor": "white",
            "linecolor": "white",
            "ticks": ""
           },
           "baxis": {
            "gridcolor": "white",
            "linecolor": "white",
            "ticks": ""
           },
           "bgcolor": "#E5ECF6",
           "caxis": {
            "gridcolor": "white",
            "linecolor": "white",
            "ticks": ""
           }
          },
          "title": {
           "x": 0.05
          },
          "xaxis": {
           "automargin": true,
           "gridcolor": "white",
           "linecolor": "white",
           "ticks": "",
           "title": {
            "standoff": 15
           },
           "zerolinecolor": "white",
           "zerolinewidth": 2
          },
          "yaxis": {
           "automargin": true,
           "gridcolor": "white",
           "linecolor": "white",
           "ticks": "",
           "title": {
            "standoff": 15
           },
           "zerolinecolor": "white",
           "zerolinewidth": 2
          }
         }
        },
        "title": {
         "text": "Quantidade de leitos por mês"
        },
        "xaxis": {
         "anchor": "y",
         "domain": [
          0,
          1
         ],
         "title": {
          "text": "COMPETEN"
         }
        },
        "yaxis": {
         "anchor": "x",
         "domain": [
          0,
          1
         ],
         "range": [
          0,
          24000
         ],
         "title": {
          "text": "value"
         }
        }
       }
      }
     },
     "metadata": {},
     "output_type": "display_data"
    }
   ],
   "source": [
    "px.line(leitos_por_mes, x=\"COMPETEN\", y=[\"QT_EXIST\", \"QT_SUS\"], title=\"Quantidade de leitos por mês\", range_y=[0, 24000])"
   ]
  },
  {
   "cell_type": "code",
   "execution_count": 14,
   "metadata": {},
   "outputs": [
    {
     "data": {
      "image/png": "[encoded data removed]",
      "text/plain": [
       "<Figure size 2000x600 with 1 Axes>"
      ]
     },
     "metadata": {},
     "output_type": "display_data"
    }
   ],
   "source": [
    "pl = leitos_por_mes.plot(x=\"COMPETEN\", y=[\"QT_EXIST\", \"QT_SUS\"], title=\"Quantidade de leitos por mês\", figsize=(20, 6))\n",
    "pl.grid(color=\"white\", linestyle=\"-\", linewidth=1)\n",
    "pl.set_facecolor(\"#e5ecf6\")"
   ]
  },
  {
   "attachments": {},
   "cell_type": "markdown",
   "metadata": {},
   "source": [
    "## Evolução da quantidade de Leitos ao final de cada ano"
   ]
  },
  {
   "cell_type": "code",
   "execution_count": 15,
   "metadata": {},
   "outputs": [
    {
     "name": "stdout",
     "output_type": "stream",
     "text": [
      "['201712' '201812' '201912' '202012' '202112' '202211']\n"
     ]
    },
    {
     "data": {
      "text/html": [
       "<div>\n",
       "<style scoped>\n",
       "    .dataframe tbody tr th:only-of-type {\n",
       "        vertical-align: middle;\n",
       "    }\n",
       "\n",
       "    .dataframe tbody tr th {\n",
       "        vertical-align: top;\n",
       "    }\n",
       "\n",
       "    .dataframe thead th {\n",
       "        text-align: right;\n",
       "    }\n",
       "</style>\n",
       "<table border=\"1\" class=\"dataframe\">\n",
       "  <thead>\n",
       "    <tr style=\"text-align: right;\">\n",
       "      <th></th>\n",
       "      <th>CNES</th>\n",
       "      <th>CODUFMUN</th>\n",
       "      <th>REGSAUDE</th>\n",
       "      <th>MICR_REG</th>\n",
       "      <th>DISTRSAN</th>\n",
       "      <th>DISTRADM</th>\n",
       "      <th>TPGESTAO</th>\n",
       "      <th>PF_PJ</th>\n",
       "      <th>CPF_CNPJ</th>\n",
       "      <th>NIV_DEP</th>\n",
       "      <th>CNPJ_MAN</th>\n",
       "      <th>ESFERA_A</th>\n",
       "      <th>ATIVIDAD</th>\n",
       "      <th>RETENCAO</th>\n",
       "      <th>NATUREZA</th>\n",
       "      <th>CLIENTEL</th>\n",
       "      <th>TP_UNID</th>\n",
       "      <th>TURNO_AT</th>\n",
       "      <th>NIV_HIER</th>\n",
       "      <th>TERCEIRO</th>\n",
       "      <th>TP_LEITO</th>\n",
       "      <th>CODLEITO</th>\n",
       "      <th>QT_EXIST</th>\n",
       "      <th>QT_CONTR</th>\n",
       "      <th>QT_SUS</th>\n",
       "      <th>QT_NSUS</th>\n",
       "      <th>COMPETEN</th>\n",
       "      <th>NAT_JUR</th>\n",
       "      <th>ANO</th>\n",
       "      <th>MES</th>\n",
       "      <th>NOME_MUNICIPIO</th>\n",
       "      <th>MESOREGIAO</th>\n",
       "    </tr>\n",
       "  </thead>\n",
       "  <tbody>\n",
       "    <tr>\n",
       "      <th>0</th>\n",
       "      <td>2335506</td>\n",
       "      <td>520013</td>\n",
       "      <td>15</td>\n",
       "      <td>NaN</td>\n",
       "      <td>NaN</td>\n",
       "      <td>NaN</td>\n",
       "      <td>M</td>\n",
       "      <td>3</td>\n",
       "      <td>269860000125</td>\n",
       "      <td>1</td>\n",
       "      <td>0</td>\n",
       "      <td>NaN</td>\n",
       "      <td>4</td>\n",
       "      <td>NaN</td>\n",
       "      <td>NaN</td>\n",
       "      <td>3.0</td>\n",
       "      <td>5</td>\n",
       "      <td>6</td>\n",
       "      <td>NaN</td>\n",
       "      <td>NaN</td>\n",
       "      <td>2</td>\n",
       "      <td>33</td>\n",
       "      <td>6</td>\n",
       "      <td>0</td>\n",
       "      <td>4</td>\n",
       "      <td>2</td>\n",
       "      <td>201712</td>\n",
       "      <td>2062</td>\n",
       "      <td>2017</td>\n",
       "      <td>12</td>\n",
       "      <td>Acreúna</td>\n",
       "      <td>Sul Goiano</td>\n",
       "    </tr>\n",
       "    <tr>\n",
       "      <th>1</th>\n",
       "      <td>2335506</td>\n",
       "      <td>520013</td>\n",
       "      <td>15</td>\n",
       "      <td>NaN</td>\n",
       "      <td>NaN</td>\n",
       "      <td>NaN</td>\n",
       "      <td>M</td>\n",
       "      <td>3</td>\n",
       "      <td>269860000125</td>\n",
       "      <td>1</td>\n",
       "      <td>0</td>\n",
       "      <td>NaN</td>\n",
       "      <td>4</td>\n",
       "      <td>NaN</td>\n",
       "      <td>NaN</td>\n",
       "      <td>3.0</td>\n",
       "      <td>5</td>\n",
       "      <td>6</td>\n",
       "      <td>NaN</td>\n",
       "      <td>NaN</td>\n",
       "      <td>4</td>\n",
       "      <td>43</td>\n",
       "      <td>3</td>\n",
       "      <td>0</td>\n",
       "      <td>3</td>\n",
       "      <td>0</td>\n",
       "      <td>201712</td>\n",
       "      <td>2062</td>\n",
       "      <td>2017</td>\n",
       "      <td>12</td>\n",
       "      <td>Acreúna</td>\n",
       "      <td>Sul Goiano</td>\n",
       "    </tr>\n",
       "    <tr>\n",
       "      <th>2</th>\n",
       "      <td>2335506</td>\n",
       "      <td>520013</td>\n",
       "      <td>15</td>\n",
       "      <td>NaN</td>\n",
       "      <td>NaN</td>\n",
       "      <td>NaN</td>\n",
       "      <td>M</td>\n",
       "      <td>3</td>\n",
       "      <td>269860000125</td>\n",
       "      <td>1</td>\n",
       "      <td>0</td>\n",
       "      <td>NaN</td>\n",
       "      <td>4</td>\n",
       "      <td>NaN</td>\n",
       "      <td>NaN</td>\n",
       "      <td>3.0</td>\n",
       "      <td>5</td>\n",
       "      <td>6</td>\n",
       "      <td>NaN</td>\n",
       "      <td>NaN</td>\n",
       "      <td>2</td>\n",
       "      <td>41</td>\n",
       "      <td>2</td>\n",
       "      <td>0</td>\n",
       "      <td>2</td>\n",
       "      <td>0</td>\n",
       "      <td>201712</td>\n",
       "      <td>2062</td>\n",
       "      <td>2017</td>\n",
       "      <td>12</td>\n",
       "      <td>Acreúna</td>\n",
       "      <td>Sul Goiano</td>\n",
       "    </tr>\n",
       "    <tr>\n",
       "      <th>3</th>\n",
       "      <td>2335506</td>\n",
       "      <td>520013</td>\n",
       "      <td>15</td>\n",
       "      <td>NaN</td>\n",
       "      <td>NaN</td>\n",
       "      <td>NaN</td>\n",
       "      <td>M</td>\n",
       "      <td>3</td>\n",
       "      <td>269860000125</td>\n",
       "      <td>1</td>\n",
       "      <td>0</td>\n",
       "      <td>NaN</td>\n",
       "      <td>4</td>\n",
       "      <td>NaN</td>\n",
       "      <td>NaN</td>\n",
       "      <td>3.0</td>\n",
       "      <td>5</td>\n",
       "      <td>6</td>\n",
       "      <td>NaN</td>\n",
       "      <td>NaN</td>\n",
       "      <td>5</td>\n",
       "      <td>45</td>\n",
       "      <td>3</td>\n",
       "      <td>0</td>\n",
       "      <td>3</td>\n",
       "      <td>0</td>\n",
       "      <td>201712</td>\n",
       "      <td>2062</td>\n",
       "      <td>2017</td>\n",
       "      <td>12</td>\n",
       "      <td>Acreúna</td>\n",
       "      <td>Sul Goiano</td>\n",
       "    </tr>\n",
       "    <tr>\n",
       "      <th>4</th>\n",
       "      <td>2335506</td>\n",
       "      <td>520013</td>\n",
       "      <td>15</td>\n",
       "      <td>NaN</td>\n",
       "      <td>NaN</td>\n",
       "      <td>NaN</td>\n",
       "      <td>M</td>\n",
       "      <td>3</td>\n",
       "      <td>269860000125</td>\n",
       "      <td>1</td>\n",
       "      <td>0</td>\n",
       "      <td>NaN</td>\n",
       "      <td>4</td>\n",
       "      <td>NaN</td>\n",
       "      <td>NaN</td>\n",
       "      <td>3.0</td>\n",
       "      <td>5</td>\n",
       "      <td>6</td>\n",
       "      <td>NaN</td>\n",
       "      <td>NaN</td>\n",
       "      <td>6</td>\n",
       "      <td>34</td>\n",
       "      <td>4</td>\n",
       "      <td>0</td>\n",
       "      <td>3</td>\n",
       "      <td>1</td>\n",
       "      <td>201712</td>\n",
       "      <td>2062</td>\n",
       "      <td>2017</td>\n",
       "      <td>12</td>\n",
       "      <td>Acreúna</td>\n",
       "      <td>Sul Goiano</td>\n",
       "    </tr>\n",
       "    <tr>\n",
       "      <th>...</th>\n",
       "      <td>...</td>\n",
       "      <td>...</td>\n",
       "      <td>...</td>\n",
       "      <td>...</td>\n",
       "      <td>...</td>\n",
       "      <td>...</td>\n",
       "      <td>...</td>\n",
       "      <td>...</td>\n",
       "      <td>...</td>\n",
       "      <td>...</td>\n",
       "      <td>...</td>\n",
       "      <td>...</td>\n",
       "      <td>...</td>\n",
       "      <td>...</td>\n",
       "      <td>...</td>\n",
       "      <td>...</td>\n",
       "      <td>...</td>\n",
       "      <td>...</td>\n",
       "      <td>...</td>\n",
       "      <td>...</td>\n",
       "      <td>...</td>\n",
       "      <td>...</td>\n",
       "      <td>...</td>\n",
       "      <td>...</td>\n",
       "      <td>...</td>\n",
       "      <td>...</td>\n",
       "      <td>...</td>\n",
       "      <td>...</td>\n",
       "      <td>...</td>\n",
       "      <td>...</td>\n",
       "      <td>...</td>\n",
       "      <td>...</td>\n",
       "    </tr>\n",
       "    <tr>\n",
       "      <th>17434</th>\n",
       "      <td>2383691</td>\n",
       "      <td>522205</td>\n",
       "      <td>001</td>\n",
       "      <td>NaN</td>\n",
       "      <td>NaN</td>\n",
       "      <td>NaN</td>\n",
       "      <td>M</td>\n",
       "      <td>3</td>\n",
       "      <td>0</td>\n",
       "      <td>3</td>\n",
       "      <td>44834000107</td>\n",
       "      <td>NaN</td>\n",
       "      <td>4</td>\n",
       "      <td>NaN</td>\n",
       "      <td>NaN</td>\n",
       "      <td>3.0</td>\n",
       "      <td>5</td>\n",
       "      <td>6</td>\n",
       "      <td>NaN</td>\n",
       "      <td>NaN</td>\n",
       "      <td>1</td>\n",
       "      <td>3</td>\n",
       "      <td>3</td>\n",
       "      <td>0</td>\n",
       "      <td>3</td>\n",
       "      <td>0</td>\n",
       "      <td>202211</td>\n",
       "      <td>1244</td>\n",
       "      <td>2022</td>\n",
       "      <td>11</td>\n",
       "      <td>Vicentinópolis</td>\n",
       "      <td>Sul Goiano</td>\n",
       "    </tr>\n",
       "    <tr>\n",
       "      <th>17435</th>\n",
       "      <td>2383691</td>\n",
       "      <td>522205</td>\n",
       "      <td>001</td>\n",
       "      <td>NaN</td>\n",
       "      <td>NaN</td>\n",
       "      <td>NaN</td>\n",
       "      <td>M</td>\n",
       "      <td>3</td>\n",
       "      <td>0</td>\n",
       "      <td>3</td>\n",
       "      <td>44834000107</td>\n",
       "      <td>NaN</td>\n",
       "      <td>4</td>\n",
       "      <td>NaN</td>\n",
       "      <td>NaN</td>\n",
       "      <td>3.0</td>\n",
       "      <td>5</td>\n",
       "      <td>6</td>\n",
       "      <td>NaN</td>\n",
       "      <td>NaN</td>\n",
       "      <td>4</td>\n",
       "      <td>10</td>\n",
       "      <td>3</td>\n",
       "      <td>0</td>\n",
       "      <td>3</td>\n",
       "      <td>0</td>\n",
       "      <td>202211</td>\n",
       "      <td>1244</td>\n",
       "      <td>2022</td>\n",
       "      <td>11</td>\n",
       "      <td>Vicentinópolis</td>\n",
       "      <td>Sul Goiano</td>\n",
       "    </tr>\n",
       "    <tr>\n",
       "      <th>17436</th>\n",
       "      <td>2439883</td>\n",
       "      <td>522220</td>\n",
       "      <td>02</td>\n",
       "      <td>NaN</td>\n",
       "      <td>NaN</td>\n",
       "      <td>NaN</td>\n",
       "      <td>M</td>\n",
       "      <td>3</td>\n",
       "      <td>0</td>\n",
       "      <td>3</td>\n",
       "      <td>37388378000114</td>\n",
       "      <td>NaN</td>\n",
       "      <td>4</td>\n",
       "      <td>NaN</td>\n",
       "      <td>NaN</td>\n",
       "      <td>3.0</td>\n",
       "      <td>5</td>\n",
       "      <td>6</td>\n",
       "      <td>NaN</td>\n",
       "      <td>NaN</td>\n",
       "      <td>2</td>\n",
       "      <td>33</td>\n",
       "      <td>7</td>\n",
       "      <td>0</td>\n",
       "      <td>7</td>\n",
       "      <td>0</td>\n",
       "      <td>202211</td>\n",
       "      <td>1244</td>\n",
       "      <td>2022</td>\n",
       "      <td>11</td>\n",
       "      <td>Vila Boa</td>\n",
       "      <td>Leste Goiano</td>\n",
       "    </tr>\n",
       "    <tr>\n",
       "      <th>17437</th>\n",
       "      <td>2439883</td>\n",
       "      <td>522220</td>\n",
       "      <td>02</td>\n",
       "      <td>NaN</td>\n",
       "      <td>NaN</td>\n",
       "      <td>NaN</td>\n",
       "      <td>M</td>\n",
       "      <td>3</td>\n",
       "      <td>0</td>\n",
       "      <td>3</td>\n",
       "      <td>37388378000114</td>\n",
       "      <td>NaN</td>\n",
       "      <td>4</td>\n",
       "      <td>NaN</td>\n",
       "      <td>NaN</td>\n",
       "      <td>3.0</td>\n",
       "      <td>5</td>\n",
       "      <td>6</td>\n",
       "      <td>NaN</td>\n",
       "      <td>NaN</td>\n",
       "      <td>4</td>\n",
       "      <td>43</td>\n",
       "      <td>2</td>\n",
       "      <td>0</td>\n",
       "      <td>2</td>\n",
       "      <td>0</td>\n",
       "      <td>202211</td>\n",
       "      <td>1244</td>\n",
       "      <td>2022</td>\n",
       "      <td>11</td>\n",
       "      <td>Vila Boa</td>\n",
       "      <td>Leste Goiano</td>\n",
       "    </tr>\n",
       "    <tr>\n",
       "      <th>17438</th>\n",
       "      <td>2439883</td>\n",
       "      <td>522220</td>\n",
       "      <td>02</td>\n",
       "      <td>NaN</td>\n",
       "      <td>NaN</td>\n",
       "      <td>NaN</td>\n",
       "      <td>M</td>\n",
       "      <td>3</td>\n",
       "      <td>0</td>\n",
       "      <td>3</td>\n",
       "      <td>37388378000114</td>\n",
       "      <td>NaN</td>\n",
       "      <td>4</td>\n",
       "      <td>NaN</td>\n",
       "      <td>NaN</td>\n",
       "      <td>3.0</td>\n",
       "      <td>5</td>\n",
       "      <td>6</td>\n",
       "      <td>NaN</td>\n",
       "      <td>NaN</td>\n",
       "      <td>5</td>\n",
       "      <td>45</td>\n",
       "      <td>4</td>\n",
       "      <td>0</td>\n",
       "      <td>4</td>\n",
       "      <td>0</td>\n",
       "      <td>202211</td>\n",
       "      <td>1244</td>\n",
       "      <td>2022</td>\n",
       "      <td>11</td>\n",
       "      <td>Vila Boa</td>\n",
       "      <td>Leste Goiano</td>\n",
       "    </tr>\n",
       "  </tbody>\n",
       "</table>\n",
       "<p>17439 rows × 32 columns</p>\n",
       "</div>"
      ],
      "text/plain": [
       "          CNES  CODUFMUN REGSAUDE MICR_REG  DISTRSAN DISTRADM TPGESTAO  PF_PJ  \\\n",
       "0      2335506    520013       15      NaN       NaN      NaN        M      3   \n",
       "1      2335506    520013       15      NaN       NaN      NaN        M      3   \n",
       "2      2335506    520013       15      NaN       NaN      NaN        M      3   \n",
       "3      2335506    520013       15      NaN       NaN      NaN        M      3   \n",
       "4      2335506    520013       15      NaN       NaN      NaN        M      3   \n",
       "...        ...       ...      ...      ...       ...      ...      ...    ...   \n",
       "17434  2383691    522205      001      NaN       NaN      NaN        M      3   \n",
       "17435  2383691    522205      001      NaN       NaN      NaN        M      3   \n",
       "17436  2439883    522220       02      NaN       NaN      NaN        M      3   \n",
       "17437  2439883    522220       02      NaN       NaN      NaN        M      3   \n",
       "17438  2439883    522220       02      NaN       NaN      NaN        M      3   \n",
       "\n",
       "           CPF_CNPJ  NIV_DEP        CNPJ_MAN  ESFERA_A  ATIVIDAD  RETENCAO  \\\n",
       "0      269860000125        1               0       NaN         4       NaN   \n",
       "1      269860000125        1               0       NaN         4       NaN   \n",
       "2      269860000125        1               0       NaN         4       NaN   \n",
       "3      269860000125        1               0       NaN         4       NaN   \n",
       "4      269860000125        1               0       NaN         4       NaN   \n",
       "...             ...      ...             ...       ...       ...       ...   \n",
       "17434             0        3     44834000107       NaN         4       NaN   \n",
       "17435             0        3     44834000107       NaN         4       NaN   \n",
       "17436             0        3  37388378000114       NaN         4       NaN   \n",
       "17437             0        3  37388378000114       NaN         4       NaN   \n",
       "17438             0        3  37388378000114       NaN         4       NaN   \n",
       "\n",
       "       NATUREZA  CLIENTEL  TP_UNID  TURNO_AT  NIV_HIER  TERCEIRO  TP_LEITO  \\\n",
       "0           NaN       3.0        5         6       NaN       NaN         2   \n",
       "1           NaN       3.0        5         6       NaN       NaN         4   \n",
       "2           NaN       3.0        5         6       NaN       NaN         2   \n",
       "3           NaN       3.0        5         6       NaN       NaN         5   \n",
       "4           NaN       3.0        5         6       NaN       NaN         6   \n",
       "...         ...       ...      ...       ...       ...       ...       ...   \n",
       "17434       NaN       3.0        5         6       NaN       NaN         1   \n",
       "17435       NaN       3.0        5         6       NaN       NaN         4   \n",
       "17436       NaN       3.0        5         6       NaN       NaN         2   \n",
       "17437       NaN       3.0        5         6       NaN       NaN         4   \n",
       "17438       NaN       3.0        5         6       NaN       NaN         5   \n",
       "\n",
       "       CODLEITO  QT_EXIST  QT_CONTR  QT_SUS  QT_NSUS COMPETEN  NAT_JUR   ANO  \\\n",
       "0            33         6         0       4        2   201712     2062  2017   \n",
       "1            43         3         0       3        0   201712     2062  2017   \n",
       "2            41         2         0       2        0   201712     2062  2017   \n",
       "3            45         3         0       3        0   201712     2062  2017   \n",
       "4            34         4         0       3        1   201712     2062  2017   \n",
       "...         ...       ...       ...     ...      ...      ...      ...   ...   \n",
       "17434         3         3         0       3        0   202211     1244  2022   \n",
       "17435        10         3         0       3        0   202211     1244  2022   \n",
       "17436        33         7         0       7        0   202211     1244  2022   \n",
       "17437        43         2         0       2        0   202211     1244  2022   \n",
       "17438        45         4         0       4        0   202211     1244  2022   \n",
       "\n",
       "      MES  NOME_MUNICIPIO    MESOREGIAO  \n",
       "0      12         Acreúna    Sul Goiano  \n",
       "1      12         Acreúna    Sul Goiano  \n",
       "2      12         Acreúna    Sul Goiano  \n",
       "3      12         Acreúna    Sul Goiano  \n",
       "4      12         Acreúna    Sul Goiano  \n",
       "...    ..             ...           ...  \n",
       "17434  11  Vicentinópolis    Sul Goiano  \n",
       "17435  11  Vicentinópolis    Sul Goiano  \n",
       "17436  11        Vila Boa  Leste Goiano  \n",
       "17437  11        Vila Boa  Leste Goiano  \n",
       "17438  11        Vila Boa  Leste Goiano  \n",
       "\n",
       "[17439 rows x 32 columns]"
      ]
     },
     "execution_count": 15,
     "metadata": {},
     "output_type": "execute_result"
    }
   ],
   "source": [
    "data_ultimo_mes = filter_last_month_of_year(data)\n",
    "print(data_ultimo_mes[\"COMPETEN\"].unique())\n",
    "data_ultimo_mes"
   ]
  },
  {
   "cell_type": "code",
   "execution_count": 16,
   "metadata": {},
   "outputs": [
    {
     "data": {
      "application/vnd.plotly.v1+json": {
       "config": {
        "plotlyServerURL": "https://plot.ly"
       },
       "data": [
        {
         "alignmentgroup": "True",
         "hovertemplate": "variable=QT_EXIST<br>ANO=%{x}<br>value=%{y}<extra></extra>",
         "legendgroup": "QT_EXIST",
         "marker": {
          "color": "#636efa",
          "pattern": {
           "shape": ""
          }
         },
         "name": "QT_EXIST",
         "offsetgroup": "QT_EXIST",
         "orientation": "v",
         "showlegend": true,
         "textposition": "auto",
         "type": "bar",
         "x": [
          "2017",
          "2018",
          "2019",
          "2020",
          "2021",
          "2022"
         ],
         "xaxis": "x",
         "y": [
          19225,
          19181,
          19147,
          21140,
          23019,
          21225
         ],
         "yaxis": "y"
        },
        {
         "alignmentgroup": "True",
         "hovertemplate": "variable=QT_SUS<br>ANO=%{x}<br>value=%{y}<extra></extra>",
         "legendgroup": "QT_SUS",
         "marker": {
          "color": "#EF553B",
          "pattern": {
           "shape": ""
          }
         },
         "name": "QT_SUS",
         "offsetgroup": "QT_SUS",
         "orientation": "v",
         "showlegend": true,
         "textposition": "auto",
         "type": "bar",
         "x": [
          "2017",
          "2018",
          "2019",
          "2020",
          "2021",
          "2022"
         ],
         "xaxis": "x",
         "y": [
          11439,
          11643,
          11481,
          12816,
          13690,
          13099
         ],
         "yaxis": "y"
        }
       ],
       "layout": {
        "barmode": "group",
        "legend": {
         "title": {
          "text": "variable"
         },
         "tracegroupgap": 0
        },
        "template": {
         "data": {
          "bar": [
           {
            "error_x": {
             "color": "#2a3f5f"
            },
            "error_y": {
             "color": "#2a3f5f"
            },
            "marker": {
             "line": {
              "color": "#E5ECF6",
              "width": 0.5
             },
             "pattern": {
              "fillmode": "overlay",
              "size": 10,
              "solidity": 0.2
             }
            },
            "type": "bar"
           }
          ],
          "barpolar": [
           {
            "marker": {
             "line": {
              "color": "#E5ECF6",
              "width": 0.5
             },
             "pattern": {
              "fillmode": "overlay",
              "size": 10,
              "solidity": 0.2
             }
            },
            "type": "barpolar"
           }
          ],
          "carpet": [
           {
            "aaxis": {
             "endlinecolor": "#2a3f5f",
             "gridcolor": "white",
             "linecolor": "white",
             "minorgridcolor": "white",
             "startlinecolor": "#2a3f5f"
            },
            "baxis": {
             "endlinecolor": "#2a3f5f",
             "gridcolor": "white",
             "linecolor": "white",
             "minorgridcolor": "white",
             "startlinecolor": "#2a3f5f"
            },
            "type": "carpet"
           }
          ],
          "choropleth": [
           {
            "colorbar": {
             "outlinewidth": 0,
             "ticks": ""
            },
            "type": "choropleth"
           }
          ],
          "contour": [
           {
            "colorbar": {
             "outlinewidth": 0,
             "ticks": ""
            },
            "colorscale": [
             [
              0,
              "#0d0887"
             ],
             [
              0.1111111111111111,
              "#46039f"
             ],
             [
              0.2222222222222222,
              "#7201a8"
             ],
             [
              0.3333333333333333,
              "#9c179e"
             ],
             [
              0.4444444444444444,
              "#bd3786"
             ],
             [
              0.5555555555555556,
              "#d8576b"
             ],
             [
              0.6666666666666666,
              "#ed7953"
             ],
             [
              0.7777777777777778,
              "#fb9f3a"
             ],
             [
              0.8888888888888888,
              "#fdca26"
             ],
             [
              1,
              "#f0f921"
             ]
            ],
            "type": "contour"
           }
          ],
          "contourcarpet": [
           {
            "colorbar": {
             "outlinewidth": 0,
             "ticks": ""
            },
            "type": "contourcarpet"
           }
          ],
          "heatmap": [
           {
            "colorbar": {
             "outlinewidth": 0,
             "ticks": ""
            },
            "colorscale": [
             [
              0,
              "#0d0887"
             ],
             [
              0.1111111111111111,
              "#46039f"
             ],
             [
              0.2222222222222222,
              "#7201a8"
             ],
             [
              0.3333333333333333,
              "#9c179e"
             ],
             [
              0.4444444444444444,
              "#bd3786"
             ],
             [
              0.5555555555555556,
              "#d8576b"
             ],
             [
              0.6666666666666666,
              "#ed7953"
             ],
             [
              0.7777777777777778,
              "#fb9f3a"
             ],
             [
              0.8888888888888888,
              "#fdca26"
             ],
             [
              1,
              "#f0f921"
             ]
            ],
            "type": "heatmap"
           }
          ],
          "heatmapgl": [
           {
            "colorbar": {
             "outlinewidth": 0,
             "ticks": ""
            },
            "colorscale": [
             [
              0,
              "#0d0887"
             ],
             [
              0.1111111111111111,
              "#46039f"
             ],
             [
              0.2222222222222222,
              "#7201a8"
             ],
             [
              0.3333333333333333,
              "#9c179e"
             ],
             [
              0.4444444444444444,
              "#bd3786"
             ],
             [
              0.5555555555555556,
              "#d8576b"
             ],
             [
              0.6666666666666666,
              "#ed7953"
             ],
             [
              0.7777777777777778,
              "#fb9f3a"
             ],
             [
              0.8888888888888888,
              "#fdca26"
             ],
             [
              1,
              "#f0f921"
             ]
            ],
            "type": "heatmapgl"
           }
          ],
          "histogram": [
           {
            "marker": {
             "pattern": {
              "fillmode": "overlay",
              "size": 10,
              "solidity": 0.2
             }
            },
            "type": "histogram"
           }
          ],
          "histogram2d": [
           {
            "colorbar": {
             "outlinewidth": 0,
             "ticks": ""
            },
            "colorscale": [
             [
              0,
              "#0d0887"
             ],
             [
              0.1111111111111111,
              "#46039f"
             ],
             [
              0.2222222222222222,
              "#7201a8"
             ],
             [
              0.3333333333333333,
              "#9c179e"
             ],
             [
              0.4444444444444444,
              "#bd3786"
             ],
             [
              0.5555555555555556,
              "#d8576b"
             ],
             [
              0.6666666666666666,
              "#ed7953"
             ],
             [
              0.7777777777777778,
              "#fb9f3a"
             ],
             [
              0.8888888888888888,
              "#fdca26"
             ],
             [
              1,
              "#f0f921"
             ]
            ],
            "type": "histogram2d"
           }
          ],
          "histogram2dcontour": [
           {
            "colorbar": {
             "outlinewidth": 0,
             "ticks": ""
            },
            "colorscale": [
             [
              0,
              "#0d0887"
             ],
             [
              0.1111111111111111,
              "#46039f"
             ],
             [
              0.2222222222222222,
              "#7201a8"
             ],
             [
              0.3333333333333333,
              "#9c179e"
             ],
             [
              0.4444444444444444,
              "#bd3786"
             ],
             [
              0.5555555555555556,
              "#d8576b"
             ],
             [
              0.6666666666666666,
              "#ed7953"
             ],
             [
              0.7777777777777778,
              "#fb9f3a"
             ],
             [
              0.8888888888888888,
              "#fdca26"
             ],
             [
              1,
              "#f0f921"
             ]
            ],
            "type": "histogram2dcontour"
           }
          ],
          "mesh3d": [
           {
            "colorbar": {
             "outlinewidth": 0,
             "ticks": ""
            },
            "type": "mesh3d"
           }
          ],
          "parcoords": [
           {
            "line": {
             "colorbar": {
              "outlinewidth": 0,
              "ticks": ""
             }
            },
            "type": "parcoords"
           }
          ],
          "pie": [
           {
            "automargin": true,
            "type": "pie"
           }
          ],
          "scatter": [
           {
            "fillpattern": {
             "fillmode": "overlay",
             "size": 10,
             "solidity": 0.2
            },
            "type": "scatter"
           }
          ],
          "scatter3d": [
           {
            "line": {
             "colorbar": {
              "outlinewidth": 0,
              "ticks": ""
             }
            },
            "marker": {
             "colorbar": {
              "outlinewidth": 0,
              "ticks": ""
             }
            },
            "type": "scatter3d"
           }
          ],
          "scattercarpet": [
           {
            "marker": {
             "colorbar": {
              "outlinewidth": 0,
              "ticks": ""
             }
            },
            "type": "scattercarpet"
           }
          ],
          "scattergeo": [
           {
            "marker": {
             "colorbar": {
              "outlinewidth": 0,
              "ticks": ""
             }
            },
            "type": "scattergeo"
           }
          ],
          "scattergl": [
           {
            "marker": {
             "colorbar": {
              "outlinewidth": 0,
              "ticks": ""
             }
            },
            "type": "scattergl"
           }
          ],
          "scattermapbox": [
           {
            "marker": {
             "colorbar": {
              "outlinewidth": 0,
              "ticks": ""
             }
            },
            "type": "scattermapbox"
           }
          ],
          "scatterpolar": [
           {
            "marker": {
             "colorbar": {
              "outlinewidth": 0,
              "ticks": ""
             }
            },
            "type": "scatterpolar"
           }
          ],
          "scatterpolargl": [
           {
            "marker": {
             "colorbar": {
              "outlinewidth": 0,
              "ticks": ""
             }
            },
            "type": "scatterpolargl"
           }
          ],
          "scatterternary": [
           {
            "marker": {
             "colorbar": {
              "outlinewidth": 0,
              "ticks": ""
             }
            },
            "type": "scatterternary"
           }
          ],
          "surface": [
           {
            "colorbar": {
             "outlinewidth": 0,
             "ticks": ""
            },
            "colorscale": [
             [
              0,
              "#0d0887"
             ],
             [
              0.1111111111111111,
              "#46039f"
             ],
             [
              0.2222222222222222,
              "#7201a8"
             ],
             [
              0.3333333333333333,
              "#9c179e"
             ],
             [
              0.4444444444444444,
              "#bd3786"
             ],
             [
              0.5555555555555556,
              "#d8576b"
             ],
             [
              0.6666666666666666,
              "#ed7953"
             ],
             [
              0.7777777777777778,
              "#fb9f3a"
             ],
             [
              0.8888888888888888,
              "#fdca26"
             ],
             [
              1,
              "#f0f921"
             ]
            ],
            "type": "surface"
           }
          ],
          "table": [
           {
            "cells": {
             "fill": {
              "color": "#EBF0F8"
             },
             "line": {
              "color": "white"
             }
            },
            "header": {
             "fill": {
              "color": "#C8D4E3"
             },
             "line": {
              "color": "white"
             }
            },
            "type": "table"
           }
          ]
         },
         "layout": {
          "annotationdefaults": {
           "arrowcolor": "#2a3f5f",
           "arrowhead": 0,
           "arrowwidth": 1
          },
          "autotypenumbers": "strict",
          "coloraxis": {
           "colorbar": {
            "outlinewidth": 0,
            "ticks": ""
           }
          },
          "colorscale": {
           "diverging": [
            [
             0,
             "#8e0152"
            ],
            [
             0.1,
             "#c51b7d"
            ],
            [
             0.2,
             "#de77ae"
            ],
            [
             0.3,
             "#f1b6da"
            ],
            [
             0.4,
             "#fde0ef"
            ],
            [
             0.5,
             "#f7f7f7"
            ],
            [
             0.6,
             "#e6f5d0"
            ],
            [
             0.7,
             "#b8e186"
            ],
            [
             0.8,
             "#7fbc41"
            ],
            [
             0.9,
             "#4d9221"
            ],
            [
             1,
             "#276419"
            ]
           ],
           "sequential": [
            [
             0,
             "#0d0887"
            ],
            [
             0.1111111111111111,
             "#46039f"
            ],
            [
             0.2222222222222222,
             "#7201a8"
            ],
            [
             0.3333333333333333,
             "#9c179e"
            ],
            [
             0.4444444444444444,
             "#bd3786"
            ],
            [
             0.5555555555555556,
             "#d8576b"
            ],
            [
             0.6666666666666666,
             "#ed7953"
            ],
            [
             0.7777777777777778,
             "#fb9f3a"
            ],
            [
             0.8888888888888888,
             "#fdca26"
            ],
            [
             1,
             "#f0f921"
            ]
           ],
           "sequentialminus": [
            [
             0,
             "#0d0887"
            ],
            [
             0.1111111111111111,
             "#46039f"
            ],
            [
             0.2222222222222222,
             "#7201a8"
            ],
            [
             0.3333333333333333,
             "#9c179e"
            ],
            [
             0.4444444444444444,
             "#bd3786"
            ],
            [
             0.5555555555555556,
             "#d8576b"
            ],
            [
             0.6666666666666666,
             "#ed7953"
            ],
            [
             0.7777777777777778,
             "#fb9f3a"
            ],
            [
             0.8888888888888888,
             "#fdca26"
            ],
            [
             1,
             "#f0f921"
            ]
           ]
          },
          "colorway": [
           "#636efa",
           "#EF553B",
           "#00cc96",
           "#ab63fa",
           "#FFA15A",
           "#19d3f3",
           "#FF6692",
           "#B6E880",
           "#FF97FF",
           "#FECB52"
          ],
          "font": {
           "color": "#2a3f5f"
          },
          "geo": {
           "bgcolor": "white",
           "lakecolor": "white",
           "landcolor": "#E5ECF6",
           "showlakes": true,
           "showland": true,
           "subunitcolor": "white"
          },
          "hoverlabel": {
           "align": "left"
          },
          "hovermode": "closest",
          "mapbox": {
           "style": "light"
          },
          "paper_bgcolor": "white",
          "plot_bgcolor": "#E5ECF6",
          "polar": {
           "angularaxis": {
            "gridcolor": "white",
            "linecolor": "white",
            "ticks": ""
           },
           "bgcolor": "#E5ECF6",
           "radialaxis": {
            "gridcolor": "white",
            "linecolor": "white",
            "ticks": ""
           }
          },
          "scene": {
           "xaxis": {
            "backgroundcolor": "#E5ECF6",
            "gridcolor": "white",
            "gridwidth": 2,
            "linecolor": "white",
            "showbackground": true,
            "ticks": "",
            "zerolinecolor": "white"
           },
           "yaxis": {
            "backgroundcolor": "#E5ECF6",
            "gridcolor": "white",
            "gridwidth": 2,
            "linecolor": "white",
            "showbackground": true,
            "ticks": "",
            "zerolinecolor": "white"
           },
           "zaxis": {
            "backgroundcolor": "#E5ECF6",
            "gridcolor": "white",
            "gridwidth": 2,
            "linecolor": "white",
            "showbackground": true,
            "ticks": "",
            "zerolinecolor": "white"
           }
          },
          "shapedefaults": {
           "line": {
            "color": "#2a3f5f"
           }
          },
          "ternary": {
           "aaxis": {
            "gridcolor": "white",
            "linecolor": "white",
            "ticks": ""
           },
           "baxis": {
            "gridcolor": "white",
            "linecolor": "white",
            "ticks": ""
           },
           "bgcolor": "#E5ECF6",
           "caxis": {
            "gridcolor": "white",
            "linecolor": "white",
            "ticks": ""
           }
          },
          "title": {
           "x": 0.05
          },
          "xaxis": {
           "automargin": true,
           "gridcolor": "white",
           "linecolor": "white",
           "ticks": "",
           "title": {
            "standoff": 15
           },
           "zerolinecolor": "white",
           "zerolinewidth": 2
          },
          "yaxis": {
           "automargin": true,
           "gridcolor": "white",
           "linecolor": "white",
           "ticks": "",
           "title": {
            "standoff": 15
           },
           "zerolinecolor": "white",
           "zerolinewidth": 2
          }
         }
        },
        "title": {
         "text": "Quantidade de leitos no último mês do ano"
        },
        "xaxis": {
         "anchor": "y",
         "domain": [
          0,
          1
         ],
         "title": {
          "text": "ANO"
         }
        },
        "yaxis": {
         "anchor": "x",
         "domain": [
          0,
          1
         ],
         "title": {
          "text": "value"
         }
        }
       }
      }
     },
     "metadata": {},
     "output_type": "display_data"
    }
   ],
   "source": [
    "leitos_ultimo_mes = data_ultimo_mes.groupby([\"COMPETEN\", \"ANO\"]).sum()[[\"QT_EXIST\", \"QT_SUS\"]].reset_index()\n",
    "px.bar(leitos_ultimo_mes, x=\"ANO\", y=[\"QT_EXIST\", \"QT_SUS\"], title=\"Quantidade de leitos no último mês do ano\", barmode=\"group\")"
   ]
  },
  {
   "cell_type": "code",
   "execution_count": 17,
   "metadata": {},
   "outputs": [
    {
     "data": {
      "text/plain": [
       "<AxesSubplot: title={'center': 'Quantidade de leitos no último mês do ano'}, xlabel='ANO'>"
      ]
     },
     "execution_count": 17,
     "metadata": {},
     "output_type": "execute_result"
    },
    {
     "data": {
      "image/png": "[encoded data removed]",
      "text/plain": [
       "<Figure size 2000x600 with 1 Axes>"
      ]
     },
     "metadata": {},
     "output_type": "display_data"
    }
   ],
   "source": [
    "leitos_ultimo_mes.plot(x=\"ANO\", y=[\"QT_EXIST\", \"QT_SUS\"], title=\"Quantidade de leitos no último mês do ano\", kind=\"bar\", figsize=(20, 6), rot=0)"
   ]
  },
  {
   "attachments": {},
   "cell_type": "markdown",
   "metadata": {},
   "source": [
    "## Evolução da quantidade de Leitos por Mesoregião"
   ]
  },
  {
   "attachments": {},
   "cell_type": "markdown",
   "metadata": {},
   "source": [
    "### Total"
   ]
  },
  {
   "cell_type": "code",
   "execution_count": 18,
   "metadata": {},
   "outputs": [],
   "source": [
    "leitos_por_regiao = data.groupby([\"COMPETEN\", \"MESOREGIAO\"]).sum()[[\"QT_EXIST\", \"QT_SUS\"]].reset_index()"
   ]
  },
  {
   "cell_type": "code",
   "execution_count": 19,
   "metadata": {},
   "outputs": [
    {
     "data": {
      "application/vnd.plotly.v1+json": {
       "config": {
        "plotlyServerURL": "https://plot.ly"
       },
       "data": [
        {
         "hovertemplate": "MESOREGIAO=Centro Goiano<br>COMPETEN=%{x}<br>QT_EXIST=%{y}<extra></extra>",
         "legendgroup": "Centro Goiano",
         "line": {
          "color": "#636efa",
          "dash": "solid"
         },
         "marker": {
          "symbol": "circle"
         },
         "mode": "lines",
         "name": "Centro Goiano",
         "orientation": "v",
         "showlegend": true,
         "type": "scatter",
         "x": [
          "201701",
          "201702",
          "201703",
          "201704",
          "201705",
          "201706",
          "201707",
          "201708",
          "201709",
          "201710",
          "201711",
          "201712",
          "201801",
          "201802",
          "201803",
          "201804",
          "201805",
          "201806",
          "201807",
          "201808",
          "201809",
          "201810",
          "201811",
          "201812",
          "201901",
          "201902",
          "201903",
          "201904",
          "201905",
          "201906",
          "201907",
          "201908",
          "201909",
          "201910",
          "201911",
          "201912",
          "202001",
          "202002",
          "202003",
          "202004",
          "202005",
          "202006",
          "202007",
          "202008",
          "202009",
          "202010",
          "202011",
          "202012",
          "202101",
          "202102",
          "202103",
          "202104",
          "202105",
          "202106",
          "202107",
          "202108",
          "202109",
          "202110",
          "202111",
          "202112",
          "202201",
          "202202",
          "202203",
          "202204",
          "202205",
          "202206",
          "202207",
          "202208",
          "202209",
          "202210",
          "202211"
         ],
         "xaxis": "x",
         "y": [
          13153,
          13180,
          13230,
          13290,
          13247,
          13238,
          13240,
          13254,
          13220,
          13134,
          13098,
          12830,
          12839,
          12996,
          12982,
          12981,
          13120,
          13171,
          13277,
          13021,
          13164,
          12990,
          12563,
          12697,
          12629,
          12595,
          12717,
          12728,
          12672,
          12554,
          12533,
          12409,
          12475,
          12479,
          12690,
          12690,
          12876,
          12928,
          13321,
          13321,
          13316,
          13569,
          13727,
          13860,
          13940,
          13975,
          14019,
          14163,
          14234,
          14410,
          14774,
          15004,
          15026,
          15095,
          15238,
          15355,
          15378,
          15401,
          15449,
          15501,
          15579,
          15306,
          15002,
          14904,
          14855,
          14006,
          14029,
          14056,
          14064,
          14080,
          13914
         ],
         "yaxis": "y"
        },
        {
         "hovertemplate": "MESOREGIAO=Leste Goiano<br>COMPETEN=%{x}<br>QT_EXIST=%{y}<extra></extra>",
         "legendgroup": "Leste Goiano",
         "line": {
          "color": "#EF553B",
          "dash": "solid"
         },
         "marker": {
          "symbol": "circle"
         },
         "mode": "lines",
         "name": "Leste Goiano",
         "orientation": "v",
         "showlegend": true,
         "type": "scatter",
         "x": [
          "201701",
          "201702",
          "201703",
          "201704",
          "201705",
          "201706",
          "201707",
          "201708",
          "201709",
          "201710",
          "201711",
          "201712",
          "201801",
          "201802",
          "201803",
          "201804",
          "201805",
          "201806",
          "201807",
          "201808",
          "201809",
          "201810",
          "201811",
          "201812",
          "201901",
          "201902",
          "201903",
          "201904",
          "201905",
          "201906",
          "201907",
          "201908",
          "201909",
          "201910",
          "201911",
          "201912",
          "202001",
          "202002",
          "202003",
          "202004",
          "202005",
          "202006",
          "202007",
          "202008",
          "202009",
          "202010",
          "202011",
          "202012",
          "202101",
          "202102",
          "202103",
          "202104",
          "202105",
          "202106",
          "202107",
          "202108",
          "202109",
          "202110",
          "202111",
          "202112",
          "202201",
          "202202",
          "202203",
          "202204",
          "202205",
          "202206",
          "202207",
          "202208",
          "202209",
          "202210",
          "202211"
         ],
         "xaxis": "x",
         "y": [
          1140,
          1140,
          1140,
          1140,
          1140,
          1140,
          1140,
          1165,
          1165,
          1152,
          1160,
          1160,
          1160,
          1160,
          1160,
          1160,
          1160,
          1160,
          1171,
          1172,
          1191,
          1193,
          1194,
          1196,
          1198,
          1198,
          1212,
          1203,
          1211,
          1205,
          1208,
          1196,
          1196,
          1196,
          1196,
          1196,
          1197,
          1197,
          1194,
          1225,
          1386,
          1376,
          1417,
          1426,
          1433,
          1433,
          1152,
          1392,
          1392,
          1408,
          1437,
          1212,
          1219,
          1315,
          1315,
          1357,
          1346,
          1353,
          1353,
          1421,
          1437,
          1424,
          1441,
          1419,
          1408,
          1307,
          1319,
          1328,
          1328,
          1330,
          1330
         ],
         "yaxis": "y"
        },
        {
         "hovertemplate": "MESOREGIAO=Noroeste Goiano<br>COMPETEN=%{x}<br>QT_EXIST=%{y}<extra></extra>",
         "legendgroup": "Noroeste Goiano",
         "line": {
          "color": "#00cc96",
          "dash": "solid"
         },
         "marker": {
          "symbol": "circle"
         },
         "mode": "lines",
         "name": "Noroeste Goiano",
         "orientation": "v",
         "showlegend": true,
         "type": "scatter",
         "x": [
          "201701",
          "201702",
          "201703",
          "201704",
          "201705",
          "201706",
          "201707",
          "201708",
          "201709",
          "201710",
          "201711",
          "201712",
          "201801",
          "201802",
          "201803",
          "201804",
          "201805",
          "201806",
          "201807",
          "201808",
          "201809",
          "201810",
          "201811",
          "201812",
          "201901",
          "201902",
          "201903",
          "201904",
          "201905",
          "201906",
          "201907",
          "201908",
          "201909",
          "201910",
          "201911",
          "201912",
          "202001",
          "202002",
          "202003",
          "202004",
          "202005",
          "202006",
          "202007",
          "202008",
          "202009",
          "202010",
          "202011",
          "202012",
          "202101",
          "202102",
          "202103",
          "202104",
          "202105",
          "202106",
          "202107",
          "202108",
          "202109",
          "202110",
          "202111",
          "202112",
          "202201",
          "202202",
          "202203",
          "202204",
          "202205",
          "202206",
          "202207",
          "202208",
          "202209",
          "202210",
          "202211"
         ],
         "xaxis": "x",
         "y": [
          758,
          758,
          758,
          758,
          738,
          743,
          743,
          743,
          743,
          743,
          743,
          747,
          747,
          747,
          747,
          743,
          743,
          743,
          743,
          743,
          743,
          743,
          743,
          743,
          743,
          743,
          743,
          743,
          743,
          743,
          743,
          743,
          743,
          743,
          743,
          733,
          733,
          671,
          679,
          679,
          684,
          663,
          663,
          663,
          663,
          663,
          663,
          663,
          663,
          663,
          663,
          668,
          665,
          671,
          671,
          671,
          671,
          671,
          671,
          671,
          671,
          671,
          671,
          671,
          671,
          669,
          659,
          659,
          659,
          659,
          659
         ],
         "yaxis": "y"
        },
        {
         "hovertemplate": "MESOREGIAO=Norte Goiano<br>COMPETEN=%{x}<br>QT_EXIST=%{y}<extra></extra>",
         "legendgroup": "Norte Goiano",
         "line": {
          "color": "#ab63fa",
          "dash": "solid"
         },
         "marker": {
          "symbol": "circle"
         },
         "mode": "lines",
         "name": "Norte Goiano",
         "orientation": "v",
         "showlegend": true,
         "type": "scatter",
         "x": [
          "201701",
          "201702",
          "201703",
          "201704",
          "201705",
          "201706",
          "201707",
          "201708",
          "201709",
          "201710",
          "201711",
          "201712",
          "201801",
          "201802",
          "201803",
          "201804",
          "201805",
          "201806",
          "201807",
          "201808",
          "201809",
          "201810",
          "201811",
          "201812",
          "201901",
          "201902",
          "201903",
          "201904",
          "201905",
          "201906",
          "201907",
          "201908",
          "201909",
          "201910",
          "201911",
          "201912",
          "202001",
          "202002",
          "202003",
          "202004",
          "202005",
          "202006",
          "202007",
          "202008",
          "202009",
          "202010",
          "202011",
          "202012",
          "202101",
          "202102",
          "202103",
          "202104",
          "202105",
          "202106",
          "202107",
          "202108",
          "202109",
          "202110",
          "202111",
          "202112",
          "202201",
          "202202",
          "202203",
          "202204",
          "202205",
          "202206",
          "202207",
          "202208",
          "202209",
          "202210",
          "202211"
         ],
         "xaxis": "x",
         "y": [
          768,
          768,
          768,
          780,
          773,
          773,
          775,
          772,
          776,
          776,
          777,
          779,
          779,
          780,
          784,
          784,
          794,
          794,
          779,
          779,
          779,
          779,
          746,
          746,
          746,
          746,
          746,
          746,
          726,
          726,
          726,
          741,
          741,
          811,
          811,
          811,
          811,
          813,
          831,
          868,
          845,
          853,
          867,
          890,
          890,
          886,
          886,
          886,
          858,
          1049,
          1081,
          1069,
          1072,
          1074,
          1076,
          1077,
          1075,
          1109,
          1129,
          1129,
          1053,
          1063,
          1063,
          1117,
          1128,
          1108,
          1123,
          1138,
          1138,
          1177,
          1179
         ],
         "yaxis": "y"
        },
        {
         "hovertemplate": "MESOREGIAO=Sul Goiano<br>COMPETEN=%{x}<br>QT_EXIST=%{y}<extra></extra>",
         "legendgroup": "Sul Goiano",
         "line": {
          "color": "#FFA15A",
          "dash": "solid"
         },
         "marker": {
          "symbol": "circle"
         },
         "mode": "lines",
         "name": "Sul Goiano",
         "orientation": "v",
         "showlegend": true,
         "type": "scatter",
         "x": [
          "201701",
          "201702",
          "201703",
          "201704",
          "201705",
          "201706",
          "201707",
          "201708",
          "201709",
          "201710",
          "201711",
          "201712",
          "201801",
          "201802",
          "201803",
          "201804",
          "201805",
          "201806",
          "201807",
          "201808",
          "201809",
          "201810",
          "201811",
          "201812",
          "201901",
          "201902",
          "201903",
          "201904",
          "201905",
          "201906",
          "201907",
          "201908",
          "201909",
          "201910",
          "201911",
          "201912",
          "202001",
          "202002",
          "202003",
          "202004",
          "202005",
          "202006",
          "202007",
          "202008",
          "202009",
          "202010",
          "202011",
          "202012",
          "202101",
          "202102",
          "202103",
          "202104",
          "202105",
          "202106",
          "202107",
          "202108",
          "202109",
          "202110",
          "202111",
          "202112",
          "202201",
          "202202",
          "202203",
          "202204",
          "202205",
          "202206",
          "202207",
          "202208",
          "202209",
          "202210",
          "202211"
         ],
         "xaxis": "x",
         "y": [
          3671,
          3694,
          3697,
          3668,
          3672,
          3714,
          3757,
          3770,
          3772,
          3707,
          3707,
          3709,
          3709,
          3752,
          3757,
          3762,
          3777,
          3777,
          3803,
          3774,
          3780,
          3789,
          3782,
          3799,
          3740,
          3740,
          3757,
          3777,
          3751,
          3756,
          3757,
          3757,
          3761,
          3775,
          3762,
          3717,
          3734,
          3702,
          3736,
          3878,
          3797,
          3829,
          3956,
          4029,
          4036,
          4032,
          4035,
          4036,
          4040,
          4062,
          4111,
          4145,
          4187,
          4168,
          4225,
          4262,
          4288,
          4299,
          4284,
          4297,
          4263,
          4266,
          4267,
          4284,
          4319,
          4122,
          4173,
          4162,
          4126,
          4143,
          4143
         ],
         "yaxis": "y"
        }
       ],
       "layout": {
        "legend": {
         "title": {
          "text": "MESOREGIAO"
         },
         "tracegroupgap": 0
        },
        "template": {
         "data": {
          "bar": [
           {
            "error_x": {
             "color": "#2a3f5f"
            },
            "error_y": {
             "color": "#2a3f5f"
            },
            "marker": {
             "line": {
              "color": "#E5ECF6",
              "width": 0.5
             },
             "pattern": {
              "fillmode": "overlay",
              "size": 10,
              "solidity": 0.2
             }
            },
            "type": "bar"
           }
          ],
          "barpolar": [
           {
            "marker": {
             "line": {
              "color": "#E5ECF6",
              "width": 0.5
             },
             "pattern": {
              "fillmode": "overlay",
              "size": 10,
              "solidity": 0.2
             }
            },
            "type": "barpolar"
           }
          ],
          "carpet": [
           {
            "aaxis": {
             "endlinecolor": "#2a3f5f",
             "gridcolor": "white",
             "linecolor": "white",
             "minorgridcolor": "white",
             "startlinecolor": "#2a3f5f"
            },
            "baxis": {
             "endlinecolor": "#2a3f5f",
             "gridcolor": "white",
             "linecolor": "white",
             "minorgridcolor": "white",
             "startlinecolor": "#2a3f5f"
            },
            "type": "carpet"
           }
          ],
          "choropleth": [
           {
            "colorbar": {
             "outlinewidth": 0,
             "ticks": ""
            },
            "type": "choropleth"
           }
          ],
          "contour": [
           {
            "colorbar": {
             "outlinewidth": 0,
             "ticks": ""
            },
            "colorscale": [
             [
              0,
              "#0d0887"
             ],
             [
              0.1111111111111111,
              "#46039f"
             ],
             [
              0.2222222222222222,
              "#7201a8"
             ],
             [
              0.3333333333333333,
              "#9c179e"
             ],
             [
              0.4444444444444444,
              "#bd3786"
             ],
             [
              0.5555555555555556,
              "#d8576b"
             ],
             [
              0.6666666666666666,
              "#ed7953"
             ],
             [
              0.7777777777777778,
              "#fb9f3a"
             ],
             [
              0.8888888888888888,
              "#fdca26"
             ],
             [
              1,
              "#f0f921"
             ]
            ],
            "type": "contour"
           }
          ],
          "contourcarpet": [
           {
            "colorbar": {
             "outlinewidth": 0,
             "ticks": ""
            },
            "type": "contourcarpet"
           }
          ],
          "heatmap": [
           {
            "colorbar": {
             "outlinewidth": 0,
             "ticks": ""
            },
            "colorscale": [
             [
              0,
              "#0d0887"
             ],
             [
              0.1111111111111111,
              "#46039f"
             ],
             [
              0.2222222222222222,
              "#7201a8"
             ],
             [
              0.3333333333333333,
              "#9c179e"
             ],
             [
              0.4444444444444444,
              "#bd3786"
             ],
             [
              0.5555555555555556,
              "#d8576b"
             ],
             [
              0.6666666666666666,
              "#ed7953"
             ],
             [
              0.7777777777777778,
              "#fb9f3a"
             ],
             [
              0.8888888888888888,
              "#fdca26"
             ],
             [
              1,
              "#f0f921"
             ]
            ],
            "type": "heatmap"
           }
          ],
          "heatmapgl": [
           {
            "colorbar": {
             "outlinewidth": 0,
             "ticks": ""
            },
            "colorscale": [
             [
              0,
              "#0d0887"
             ],
             [
              0.1111111111111111,
              "#46039f"
             ],
             [
              0.2222222222222222,
              "#7201a8"
             ],
             [
              0.3333333333333333,
              "#9c179e"
             ],
             [
              0.4444444444444444,
              "#bd3786"
             ],
             [
              0.5555555555555556,
              "#d8576b"
             ],
             [
              0.6666666666666666,
              "#ed7953"
             ],
             [
              0.7777777777777778,
              "#fb9f3a"
             ],
             [
              0.8888888888888888,
              "#fdca26"
             ],
             [
              1,
              "#f0f921"
             ]
            ],
            "type": "heatmapgl"
           }
          ],
          "histogram": [
           {
            "marker": {
             "pattern": {
              "fillmode": "overlay",
              "size": 10,
              "solidity": 0.2
             }
            },
            "type": "histogram"
           }
          ],
          "histogram2d": [
           {
            "colorbar": {
             "outlinewidth": 0,
             "ticks": ""
            },
            "colorscale": [
             [
              0,
              "#0d0887"
             ],
             [
              0.1111111111111111,
              "#46039f"
             ],
             [
              0.2222222222222222,
              "#7201a8"
             ],
             [
              0.3333333333333333,
              "#9c179e"
             ],
             [
              0.4444444444444444,
              "#bd3786"
             ],
             [
              0.5555555555555556,
              "#d8576b"
             ],
             [
              0.6666666666666666,
              "#ed7953"
             ],
             [
              0.7777777777777778,
              "#fb9f3a"
             ],
             [
              0.8888888888888888,
              "#fdca26"
             ],
             [
              1,
              "#f0f921"
             ]
            ],
            "type": "histogram2d"
           }
          ],
          "histogram2dcontour": [
           {
            "colorbar": {
             "outlinewidth": 0,
             "ticks": ""
            },
            "colorscale": [
             [
              0,
              "#0d0887"
             ],
             [
              0.1111111111111111,
              "#46039f"
             ],
             [
              0.2222222222222222,
              "#7201a8"
             ],
             [
              0.3333333333333333,
              "#9c179e"
             ],
             [
              0.4444444444444444,
              "#bd3786"
             ],
             [
              0.5555555555555556,
              "#d8576b"
             ],
             [
              0.6666666666666666,
              "#ed7953"
             ],
             [
              0.7777777777777778,
              "#fb9f3a"
             ],
             [
              0.8888888888888888,
              "#fdca26"
             ],
             [
              1,
              "#f0f921"
             ]
            ],
            "type": "histogram2dcontour"
           }
          ],
          "mesh3d": [
           {
            "colorbar": {
             "outlinewidth": 0,
             "ticks": ""
            },
            "type": "mesh3d"
           }
          ],
          "parcoords": [
           {
            "line": {
             "colorbar": {
              "outlinewidth": 0,
              "ticks": ""
             }
            },
            "type": "parcoords"
           }
          ],
          "pie": [
           {
            "automargin": true,
            "type": "pie"
           }
          ],
          "scatter": [
           {
            "fillpattern": {
             "fillmode": "overlay",
             "size": 10,
             "solidity": 0.2
            },
            "type": "scatter"
           }
          ],
          "scatter3d": [
           {
            "line": {
             "colorbar": {
              "outlinewidth": 0,
              "ticks": ""
             }
            },
            "marker": {
             "colorbar": {
              "outlinewidth": 0,
              "ticks": ""
             }
            },
            "type": "scatter3d"
           }
          ],
          "scattercarpet": [
           {
            "marker": {
             "colorbar": {
              "outlinewidth": 0,
              "ticks": ""
             }
            },
            "type": "scattercarpet"
           }
          ],
          "scattergeo": [
           {
            "marker": {
             "colorbar": {
              "outlinewidth": 0,
              "ticks": ""
             }
            },
            "type": "scattergeo"
           }
          ],
          "scattergl": [
           {
            "marker": {
             "colorbar": {
              "outlinewidth": 0,
              "ticks": ""
             }
            },
            "type": "scattergl"
           }
          ],
          "scattermapbox": [
           {
            "marker": {
             "colorbar": {
              "outlinewidth": 0,
              "ticks": ""
             }
            },
            "type": "scattermapbox"
           }
          ],
          "scatterpolar": [
           {
            "marker": {
             "colorbar": {
              "outlinewidth": 0,
              "ticks": ""
             }
            },
            "type": "scatterpolar"
           }
          ],
          "scatterpolargl": [
           {
            "marker": {
             "colorbar": {
              "outlinewidth": 0,
              "ticks": ""
             }
            },
            "type": "scatterpolargl"
           }
          ],
          "scatterternary": [
           {
            "marker": {
             "colorbar": {
              "outlinewidth": 0,
              "ticks": ""
             }
            },
            "type": "scatterternary"
           }
          ],
          "surface": [
           {
            "colorbar": {
             "outlinewidth": 0,
             "ticks": ""
            },
            "colorscale": [
             [
              0,
              "#0d0887"
             ],
             [
              0.1111111111111111,
              "#46039f"
             ],
             [
              0.2222222222222222,
              "#7201a8"
             ],
             [
              0.3333333333333333,
              "#9c179e"
             ],
             [
              0.4444444444444444,
              "#bd3786"
             ],
             [
              0.5555555555555556,
              "#d8576b"
             ],
             [
              0.6666666666666666,
              "#ed7953"
             ],
             [
              0.7777777777777778,
              "#fb9f3a"
             ],
             [
              0.8888888888888888,
              "#fdca26"
             ],
             [
              1,
              "#f0f921"
             ]
            ],
            "type": "surface"
           }
          ],
          "table": [
           {
            "cells": {
             "fill": {
              "color": "#EBF0F8"
             },
             "line": {
              "color": "white"
             }
            },
            "header": {
             "fill": {
              "color": "#C8D4E3"
             },
             "line": {
              "color": "white"
             }
            },
            "type": "table"
           }
          ]
         },
         "layout": {
          "annotationdefaults": {
           "arrowcolor": "#2a3f5f",
           "arrowhead": 0,
           "arrowwidth": 1
          },
          "autotypenumbers": "strict",
          "coloraxis": {
           "colorbar": {
            "outlinewidth": 0,
            "ticks": ""
           }
          },
          "colorscale": {
           "diverging": [
            [
             0,
             "#8e0152"
            ],
            [
             0.1,
             "#c51b7d"
            ],
            [
             0.2,
             "#de77ae"
            ],
            [
             0.3,
             "#f1b6da"
            ],
            [
             0.4,
             "#fde0ef"
            ],
            [
             0.5,
             "#f7f7f7"
            ],
            [
             0.6,
             "#e6f5d0"
            ],
            [
             0.7,
             "#b8e186"
            ],
            [
             0.8,
             "#7fbc41"
            ],
            [
             0.9,
             "#4d9221"
            ],
            [
             1,
             "#276419"
            ]
           ],
           "sequential": [
            [
             0,
             "#0d0887"
            ],
            [
             0.1111111111111111,
             "#46039f"
            ],
            [
             0.2222222222222222,
             "#7201a8"
            ],
            [
             0.3333333333333333,
             "#9c179e"
            ],
            [
             0.4444444444444444,
             "#bd3786"
            ],
            [
             0.5555555555555556,
             "#d8576b"
            ],
            [
             0.6666666666666666,
             "#ed7953"
            ],
            [
             0.7777777777777778,
             "#fb9f3a"
            ],
            [
             0.8888888888888888,
             "#fdca26"
            ],
            [
             1,
             "#f0f921"
            ]
           ],
           "sequentialminus": [
            [
             0,
             "#0d0887"
            ],
            [
             0.1111111111111111,
             "#46039f"
            ],
            [
             0.2222222222222222,
             "#7201a8"
            ],
            [
             0.3333333333333333,
             "#9c179e"
            ],
            [
             0.4444444444444444,
             "#bd3786"
            ],
            [
             0.5555555555555556,
             "#d8576b"
            ],
            [
             0.6666666666666666,
             "#ed7953"
            ],
            [
             0.7777777777777778,
             "#fb9f3a"
            ],
            [
             0.8888888888888888,
             "#fdca26"
            ],
            [
             1,
             "#f0f921"
            ]
           ]
          },
          "colorway": [
           "#636efa",
           "#EF553B",
           "#00cc96",
           "#ab63fa",
           "#FFA15A",
           "#19d3f3",
           "#FF6692",
           "#B6E880",
           "#FF97FF",
           "#FECB52"
          ],
          "font": {
           "color": "#2a3f5f"
          },
          "geo": {
           "bgcolor": "white",
           "lakecolor": "white",
           "landcolor": "#E5ECF6",
           "showlakes": true,
           "showland": true,
           "subunitcolor": "white"
          },
          "hoverlabel": {
           "align": "left"
          },
          "hovermode": "closest",
          "mapbox": {
           "style": "light"
          },
          "paper_bgcolor": "white",
          "plot_bgcolor": "#E5ECF6",
          "polar": {
           "angularaxis": {
            "gridcolor": "white",
            "linecolor": "white",
            "ticks": ""
           },
           "bgcolor": "#E5ECF6",
           "radialaxis": {
            "gridcolor": "white",
            "linecolor": "white",
            "ticks": ""
           }
          },
          "scene": {
           "xaxis": {
            "backgroundcolor": "#E5ECF6",
            "gridcolor": "white",
            "gridwidth": 2,
            "linecolor": "white",
            "showbackground": true,
            "ticks": "",
            "zerolinecolor": "white"
           },
           "yaxis": {
            "backgroundcolor": "#E5ECF6",
            "gridcolor": "white",
            "gridwidth": 2,
            "linecolor": "white",
            "showbackground": true,
            "ticks": "",
            "zerolinecolor": "white"
           },
           "zaxis": {
            "backgroundcolor": "#E5ECF6",
            "gridcolor": "white",
            "gridwidth": 2,
            "linecolor": "white",
            "showbackground": true,
            "ticks": "",
            "zerolinecolor": "white"
           }
          },
          "shapedefaults": {
           "line": {
            "color": "#2a3f5f"
           }
          },
          "ternary": {
           "aaxis": {
            "gridcolor": "white",
            "linecolor": "white",
            "ticks": ""
           },
           "baxis": {
            "gridcolor": "white",
            "linecolor": "white",
            "ticks": ""
           },
           "bgcolor": "#E5ECF6",
           "caxis": {
            "gridcolor": "white",
            "linecolor": "white",
            "ticks": ""
           }
          },
          "title": {
           "x": 0.05
          },
          "xaxis": {
           "automargin": true,
           "gridcolor": "white",
           "linecolor": "white",
           "ticks": "",
           "title": {
            "standoff": 15
           },
           "zerolinecolor": "white",
           "zerolinewidth": 2
          },
          "yaxis": {
           "automargin": true,
           "gridcolor": "white",
           "linecolor": "white",
           "ticks": "",
           "title": {
            "standoff": 15
           },
           "zerolinecolor": "white",
           "zerolinewidth": 2
          }
         }
        },
        "title": {
         "text": "Quantidade de leitos totais por mesoregião"
        },
        "xaxis": {
         "anchor": "y",
         "domain": [
          0,
          1
         ],
         "title": {
          "text": "COMPETEN"
         }
        },
        "yaxis": {
         "anchor": "x",
         "domain": [
          0,
          1
         ],
         "range": [
          0,
          16000
         ],
         "title": {
          "text": "QT_EXIST"
         }
        }
       }
      }
     },
     "metadata": {},
     "output_type": "display_data"
    }
   ],
   "source": [
    "\n",
    "px.line(leitos_por_regiao, x=\"COMPETEN\", y=\"QT_EXIST\", color=\"MESOREGIAO\", title=\"Quantidade de leitos totais por mesoregião\", range_y=[0, 16000])"
   ]
  },
  {
   "cell_type": "code",
   "execution_count": 20,
   "metadata": {},
   "outputs": [
    {
     "data": {
      "text/plain": [
       "<matplotlib.legend.Legend at 0x7fa26eed8cd0>"
      ]
     },
     "execution_count": 20,
     "metadata": {},
     "output_type": "execute_result"
    },
    {
     "data": {
      "image/png": "[encoded data removed]",
      "text/plain": [
       "<Figure size 2000x600 with 1 Axes>"
      ]
     },
     "metadata": {},
     "output_type": "display_data"
    }
   ],
   "source": [
    "fig, ax = plt.subplots()\n",
    "\n",
    "for key, grp in leitos_por_regiao.groupby(['MESOREGIAO']):\n",
    "    ax = grp.plot(ax=ax, kind='line', x='COMPETEN', y='QT_EXIST', label=key, figsize=(20, 6))\n",
    "\n",
    "ax.grid(color=\"white\", linestyle=\"-\", linewidth=1)\n",
    "ax.set_facecolor(\"#e5ecf6\")\n",
    "plt.legend(loc='best')"
   ]
  },
  {
   "cell_type": "code",
   "execution_count": 21,
   "metadata": {},
   "outputs": [],
   "source": [
    "data_ultimo_mes_por_meso = data.groupby([\"COMPETEN\", \"MESOREGIAO\", \"ANO\", \"MES\"]).sum()[[\"QT_EXIST\", \"QT_SUS\"]].reset_index()\n",
    "data_ultimo_mes_por_meso = filter_last_month_of_year(data_ultimo_mes_por_meso)"
   ]
  },
  {
   "cell_type": "code",
   "execution_count": 22,
   "metadata": {},
   "outputs": [
    {
     "data": {
      "application/vnd.plotly.v1+json": {
       "config": {
        "plotlyServerURL": "https://plot.ly"
       },
       "data": [
        {
         "alignmentgroup": "True",
         "hovertemplate": "MESOREGIAO=Centro Goiano<br>ANO=%{x}<br>QT_EXIST=%{y}<extra></extra>",
         "legendgroup": "Centro Goiano",
         "marker": {
          "color": "#636efa",
          "pattern": {
           "shape": ""
          }
         },
         "name": "Centro Goiano",
         "offsetgroup": "Centro Goiano",
         "orientation": "v",
         "showlegend": true,
         "textposition": "auto",
         "type": "bar",
         "x": [
          "2017",
          "2018",
          "2019",
          "2020",
          "2021",
          "2022"
         ],
         "xaxis": "x",
         "y": [
          12830,
          12697,
          12690,
          14163,
          15501,
          13914
         ],
         "yaxis": "y"
        },
        {
         "alignmentgroup": "True",
         "hovertemplate": "MESOREGIAO=Leste Goiano<br>ANO=%{x}<br>QT_EXIST=%{y}<extra></extra>",
         "legendgroup": "Leste Goiano",
         "marker": {
          "color": "#EF553B",
          "pattern": {
           "shape": ""
          }
         },
         "name": "Leste Goiano",
         "offsetgroup": "Leste Goiano",
         "orientation": "v",
         "showlegend": true,
         "textposition": "auto",
         "type": "bar",
         "x": [
          "2017",
          "2018",
          "2019",
          "2020",
          "2021",
          "2022"
         ],
         "xaxis": "x",
         "y": [
          1160,
          1196,
          1196,
          1392,
          1421,
          1330
         ],
         "yaxis": "y"
        },
        {
         "alignmentgroup": "True",
         "hovertemplate": "MESOREGIAO=Noroeste Goiano<br>ANO=%{x}<br>QT_EXIST=%{y}<extra></extra>",
         "legendgroup": "Noroeste Goiano",
         "marker": {
          "color": "#00cc96",
          "pattern": {
           "shape": ""
          }
         },
         "name": "Noroeste Goiano",
         "offsetgroup": "Noroeste Goiano",
         "orientation": "v",
         "showlegend": true,
         "textposition": "auto",
         "type": "bar",
         "x": [
          "2017",
          "2018",
          "2019",
          "2020",
          "2021",
          "2022"
         ],
         "xaxis": "x",
         "y": [
          747,
          743,
          733,
          663,
          671,
          659
         ],
         "yaxis": "y"
        },
        {
         "alignmentgroup": "True",
         "hovertemplate": "MESOREGIAO=Norte Goiano<br>ANO=%{x}<br>QT_EXIST=%{y}<extra></extra>",
         "legendgroup": "Norte Goiano",
         "marker": {
          "color": "#ab63fa",
          "pattern": {
           "shape": ""
          }
         },
         "name": "Norte Goiano",
         "offsetgroup": "Norte Goiano",
         "orientation": "v",
         "showlegend": true,
         "textposition": "auto",
         "type": "bar",
         "x": [
          "2017",
          "2018",
          "2019",
          "2020",
          "2021",
          "2022"
         ],
         "xaxis": "x",
         "y": [
          779,
          746,
          811,
          886,
          1129,
          1179
         ],
         "yaxis": "y"
        },
        {
         "alignmentgroup": "True",
         "hovertemplate": "MESOREGIAO=Sul Goiano<br>ANO=%{x}<br>QT_EXIST=%{y}<extra></extra>",
         "legendgroup": "Sul Goiano",
         "marker": {
          "color": "#FFA15A",
          "pattern": {
           "shape": ""
          }
         },
         "name": "Sul Goiano",
         "offsetgroup": "Sul Goiano",
         "orientation": "v",
         "showlegend": true,
         "textposition": "auto",
         "type": "bar",
         "x": [
          "2017",
          "2018",
          "2019",
          "2020",
          "2021",
          "2022"
         ],
         "xaxis": "x",
         "y": [
          3709,
          3799,
          3717,
          4036,
          4297,
          4143
         ],
         "yaxis": "y"
        }
       ],
       "layout": {
        "barmode": "group",
        "legend": {
         "title": {
          "text": "MESOREGIAO"
         },
         "tracegroupgap": 0
        },
        "template": {
         "data": {
          "bar": [
           {
            "error_x": {
             "color": "#2a3f5f"
            },
            "error_y": {
             "color": "#2a3f5f"
            },
            "marker": {
             "line": {
              "color": "#E5ECF6",
              "width": 0.5
             },
             "pattern": {
              "fillmode": "overlay",
              "size": 10,
              "solidity": 0.2
             }
            },
            "type": "bar"
           }
          ],
          "barpolar": [
           {
            "marker": {
             "line": {
              "color": "#E5ECF6",
              "width": 0.5
             },
             "pattern": {
              "fillmode": "overlay",
              "size": 10,
              "solidity": 0.2
             }
            },
            "type": "barpolar"
           }
          ],
          "carpet": [
           {
            "aaxis": {
             "endlinecolor": "#2a3f5f",
             "gridcolor": "white",
             "linecolor": "white",
             "minorgridcolor": "white",
             "startlinecolor": "#2a3f5f"
            },
            "baxis": {
             "endlinecolor": "#2a3f5f",
             "gridcolor": "white",
             "linecolor": "white",
             "minorgridcolor": "white",
             "startlinecolor": "#2a3f5f"
            },
            "type": "carpet"
           }
          ],
          "choropleth": [
           {
            "colorbar": {
             "outlinewidth": 0,
             "ticks": ""
            },
            "type": "choropleth"
           }
          ],
          "contour": [
           {
            "colorbar": {
             "outlinewidth": 0,
             "ticks": ""
            },
            "colorscale": [
             [
              0,
              "#0d0887"
             ],
             [
              0.1111111111111111,
              "#46039f"
             ],
             [
              0.2222222222222222,
              "#7201a8"
             ],
             [
              0.3333333333333333,
              "#9c179e"
             ],
             [
              0.4444444444444444,
              "#bd3786"
             ],
             [
              0.5555555555555556,
              "#d8576b"
             ],
             [
              0.6666666666666666,
              "#ed7953"
             ],
             [
              0.7777777777777778,
              "#fb9f3a"
             ],
             [
              0.8888888888888888,
              "#fdca26"
             ],
             [
              1,
              "#f0f921"
             ]
            ],
            "type": "contour"
           }
          ],
          "contourcarpet": [
           {
            "colorbar": {
             "outlinewidth": 0,
             "ticks": ""
            },
            "type": "contourcarpet"
           }
          ],
          "heatmap": [
           {
            "colorbar": {
             "outlinewidth": 0,
             "ticks": ""
            },
            "colorscale": [
             [
              0,
              "#0d0887"
             ],
             [
              0.1111111111111111,
              "#46039f"
             ],
             [
              0.2222222222222222,
              "#7201a8"
             ],
             [
              0.3333333333333333,
              "#9c179e"
             ],
             [
              0.4444444444444444,
              "#bd3786"
             ],
             [
              0.5555555555555556,
              "#d8576b"
             ],
             [
              0.6666666666666666,
              "#ed7953"
             ],
             [
              0.7777777777777778,
              "#fb9f3a"
             ],
             [
              0.8888888888888888,
              "#fdca26"
             ],
             [
              1,
              "#f0f921"
             ]
            ],
            "type": "heatmap"
           }
          ],
          "heatmapgl": [
           {
            "colorbar": {
             "outlinewidth": 0,
             "ticks": ""
            },
            "colorscale": [
             [
              0,
              "#0d0887"
             ],
             [
              0.1111111111111111,
              "#46039f"
             ],
             [
              0.2222222222222222,
              "#7201a8"
             ],
             [
              0.3333333333333333,
              "#9c179e"
             ],
             [
              0.4444444444444444,
              "#bd3786"
             ],
             [
              0.5555555555555556,
              "#d8576b"
             ],
             [
              0.6666666666666666,
              "#ed7953"
             ],
             [
              0.7777777777777778,
              "#fb9f3a"
             ],
             [
              0.8888888888888888,
              "#fdca26"
             ],
             [
              1,
              "#f0f921"
             ]
            ],
            "type": "heatmapgl"
           }
          ],
          "histogram": [
           {
            "marker": {
             "pattern": {
              "fillmode": "overlay",
              "size": 10,
              "solidity": 0.2
             }
            },
            "type": "histogram"
           }
          ],
          "histogram2d": [
           {
            "colorbar": {
             "outlinewidth": 0,
             "ticks": ""
            },
            "colorscale": [
             [
              0,
              "#0d0887"
             ],
             [
              0.1111111111111111,
              "#46039f"
             ],
             [
              0.2222222222222222,
              "#7201a8"
             ],
             [
              0.3333333333333333,
              "#9c179e"
             ],
             [
              0.4444444444444444,
              "#bd3786"
             ],
             [
              0.5555555555555556,
              "#d8576b"
             ],
             [
              0.6666666666666666,
              "#ed7953"
             ],
             [
              0.7777777777777778,
              "#fb9f3a"
             ],
             [
              0.8888888888888888,
              "#fdca26"
             ],
             [
              1,
              "#f0f921"
             ]
            ],
            "type": "histogram2d"
           }
          ],
          "histogram2dcontour": [
           {
            "colorbar": {
             "outlinewidth": 0,
             "ticks": ""
            },
            "colorscale": [
             [
              0,
              "#0d0887"
             ],
             [
              0.1111111111111111,
              "#46039f"
             ],
             [
              0.2222222222222222,
              "#7201a8"
             ],
             [
              0.3333333333333333,
              "#9c179e"
             ],
             [
              0.4444444444444444,
              "#bd3786"
             ],
             [
              0.5555555555555556,
              "#d8576b"
             ],
             [
              0.6666666666666666,
              "#ed7953"
             ],
             [
              0.7777777777777778,
              "#fb9f3a"
             ],
             [
              0.8888888888888888,
              "#fdca26"
             ],
             [
              1,
              "#f0f921"
             ]
            ],
            "type": "histogram2dcontour"
           }
          ],
          "mesh3d": [
           {
            "colorbar": {
             "outlinewidth": 0,
             "ticks": ""
            },
            "type": "mesh3d"
           }
          ],
          "parcoords": [
           {
            "line": {
             "colorbar": {
              "outlinewidth": 0,
              "ticks": ""
             }
            },
            "type": "parcoords"
           }
          ],
          "pie": [
           {
            "automargin": true,
            "type": "pie"
           }
          ],
          "scatter": [
           {
            "fillpattern": {
             "fillmode": "overlay",
             "size": 10,
             "solidity": 0.2
            },
            "type": "scatter"
           }
          ],
          "scatter3d": [
           {
            "line": {
             "colorbar": {
              "outlinewidth": 0,
              "ticks": ""
             }
            },
            "marker": {
             "colorbar": {
              "outlinewidth": 0,
              "ticks": ""
             }
            },
            "type": "scatter3d"
           }
          ],
          "scattercarpet": [
           {
            "marker": {
             "colorbar": {
              "outlinewidth": 0,
              "ticks": ""
             }
            },
            "type": "scattercarpet"
           }
          ],
          "scattergeo": [
           {
            "marker": {
             "colorbar": {
              "outlinewidth": 0,
              "ticks": ""
             }
            },
            "type": "scattergeo"
           }
          ],
          "scattergl": [
           {
            "marker": {
             "colorbar": {
              "outlinewidth": 0,
              "ticks": ""
             }
            },
            "type": "scattergl"
           }
          ],
          "scattermapbox": [
           {
            "marker": {
             "colorbar": {
              "outlinewidth": 0,
              "ticks": ""
             }
            },
            "type": "scattermapbox"
           }
          ],
          "scatterpolar": [
           {
            "marker": {
             "colorbar": {
              "outlinewidth": 0,
              "ticks": ""
             }
            },
            "type": "scatterpolar"
           }
          ],
          "scatterpolargl": [
           {
            "marker": {
             "colorbar": {
              "outlinewidth": 0,
              "ticks": ""
             }
            },
            "type": "scatterpolargl"
           }
          ],
          "scatterternary": [
           {
            "marker": {
             "colorbar": {
              "outlinewidth": 0,
              "ticks": ""
             }
            },
            "type": "scatterternary"
           }
          ],
          "surface": [
           {
            "colorbar": {
             "outlinewidth": 0,
             "ticks": ""
            },
            "colorscale": [
             [
              0,
              "#0d0887"
             ],
             [
              0.1111111111111111,
              "#46039f"
             ],
             [
              0.2222222222222222,
              "#7201a8"
             ],
             [
              0.3333333333333333,
              "#9c179e"
             ],
             [
              0.4444444444444444,
              "#bd3786"
             ],
             [
              0.5555555555555556,
              "#d8576b"
             ],
             [
              0.6666666666666666,
              "#ed7953"
             ],
             [
              0.7777777777777778,
              "#fb9f3a"
             ],
             [
              0.8888888888888888,
              "#fdca26"
             ],
             [
              1,
              "#f0f921"
             ]
            ],
            "type": "surface"
           }
          ],
          "table": [
           {
            "cells": {
             "fill": {
              "color": "#EBF0F8"
             },
             "line": {
              "color": "white"
             }
            },
            "header": {
             "fill": {
              "color": "#C8D4E3"
             },
             "line": {
              "color": "white"
             }
            },
            "type": "table"
           }
          ]
         },
         "layout": {
          "annotationdefaults": {
           "arrowcolor": "#2a3f5f",
           "arrowhead": 0,
           "arrowwidth": 1
          },
          "autotypenumbers": "strict",
          "coloraxis": {
           "colorbar": {
            "outlinewidth": 0,
            "ticks": ""
           }
          },
          "colorscale": {
           "diverging": [
            [
             0,
             "#8e0152"
            ],
            [
             0.1,
             "#c51b7d"
            ],
            [
             0.2,
             "#de77ae"
            ],
            [
             0.3,
             "#f1b6da"
            ],
            [
             0.4,
             "#fde0ef"
            ],
            [
             0.5,
             "#f7f7f7"
            ],
            [
             0.6,
             "#e6f5d0"
            ],
            [
             0.7,
             "#b8e186"
            ],
            [
             0.8,
             "#7fbc41"
            ],
            [
             0.9,
             "#4d9221"
            ],
            [
             1,
             "#276419"
            ]
           ],
           "sequential": [
            [
             0,
             "#0d0887"
            ],
            [
             0.1111111111111111,
             "#46039f"
            ],
            [
             0.2222222222222222,
             "#7201a8"
            ],
            [
             0.3333333333333333,
             "#9c179e"
            ],
            [
             0.4444444444444444,
             "#bd3786"
            ],
            [
             0.5555555555555556,
             "#d8576b"
            ],
            [
             0.6666666666666666,
             "#ed7953"
            ],
            [
             0.7777777777777778,
             "#fb9f3a"
            ],
            [
             0.8888888888888888,
             "#fdca26"
            ],
            [
             1,
             "#f0f921"
            ]
           ],
           "sequentialminus": [
            [
             0,
             "#0d0887"
            ],
            [
             0.1111111111111111,
             "#46039f"
            ],
            [
             0.2222222222222222,
             "#7201a8"
            ],
            [
             0.3333333333333333,
             "#9c179e"
            ],
            [
             0.4444444444444444,
             "#bd3786"
            ],
            [
             0.5555555555555556,
             "#d8576b"
            ],
            [
             0.6666666666666666,
             "#ed7953"
            ],
            [
             0.7777777777777778,
             "#fb9f3a"
            ],
            [
             0.8888888888888888,
             "#fdca26"
            ],
            [
             1,
             "#f0f921"
            ]
           ]
          },
          "colorway": [
           "#636efa",
           "#EF553B",
           "#00cc96",
           "#ab63fa",
           "#FFA15A",
           "#19d3f3",
           "#FF6692",
           "#B6E880",
           "#FF97FF",
           "#FECB52"
          ],
          "font": {
           "color": "#2a3f5f"
          },
          "geo": {
           "bgcolor": "white",
           "lakecolor": "white",
           "landcolor": "#E5ECF6",
           "showlakes": true,
           "showland": true,
           "subunitcolor": "white"
          },
          "hoverlabel": {
           "align": "left"
          },
          "hovermode": "closest",
          "mapbox": {
           "style": "light"
          },
          "paper_bgcolor": "white",
          "plot_bgcolor": "#E5ECF6",
          "polar": {
           "angularaxis": {
            "gridcolor": "white",
            "linecolor": "white",
            "ticks": ""
           },
           "bgcolor": "#E5ECF6",
           "radialaxis": {
            "gridcolor": "white",
            "linecolor": "white",
            "ticks": ""
           }
          },
          "scene": {
           "xaxis": {
            "backgroundcolor": "#E5ECF6",
            "gridcolor": "white",
            "gridwidth": 2,
            "linecolor": "white",
            "showbackground": true,
            "ticks": "",
            "zerolinecolor": "white"
           },
           "yaxis": {
            "backgroundcolor": "#E5ECF6",
            "gridcolor": "white",
            "gridwidth": 2,
            "linecolor": "white",
            "showbackground": true,
            "ticks": "",
            "zerolinecolor": "white"
           },
           "zaxis": {
            "backgroundcolor": "#E5ECF6",
            "gridcolor": "white",
            "gridwidth": 2,
            "linecolor": "white",
            "showbackground": true,
            "ticks": "",
            "zerolinecolor": "white"
           }
          },
          "shapedefaults": {
           "line": {
            "color": "#2a3f5f"
           }
          },
          "ternary": {
           "aaxis": {
            "gridcolor": "white",
            "linecolor": "white",
            "ticks": ""
           },
           "baxis": {
            "gridcolor": "white",
            "linecolor": "white",
            "ticks": ""
           },
           "bgcolor": "#E5ECF6",
           "caxis": {
            "gridcolor": "white",
            "linecolor": "white",
            "ticks": ""
           }
          },
          "title": {
           "x": 0.05
          },
          "xaxis": {
           "automargin": true,
           "gridcolor": "white",
           "linecolor": "white",
           "ticks": "",
           "title": {
            "standoff": 15
           },
           "zerolinecolor": "white",
           "zerolinewidth": 2
          },
          "yaxis": {
           "automargin": true,
           "gridcolor": "white",
           "linecolor": "white",
           "ticks": "",
           "title": {
            "standoff": 15
           },
           "zerolinecolor": "white",
           "zerolinewidth": 2
          }
         }
        },
        "title": {
         "text": "Quantidade de leitos totais por mesoregião no final de cada ano"
        },
        "xaxis": {
         "anchor": "y",
         "domain": [
          0,
          1
         ],
         "title": {
          "text": "ANO"
         }
        },
        "yaxis": {
         "anchor": "x",
         "domain": [
          0,
          1
         ],
         "title": {
          "text": "QT_EXIST"
         }
        }
       }
      }
     },
     "metadata": {},
     "output_type": "display_data"
    }
   ],
   "source": [
    "px.bar(data_ultimo_mes_por_meso, x=\"ANO\", y=\"QT_EXIST\", color=\"MESOREGIAO\", title=\"Quantidade de leitos totais por mesoregião no final de cada ano\", barmode=\"group\")"
   ]
  },
  {
   "cell_type": "code",
   "execution_count": 23,
   "metadata": {},
   "outputs": [
    {
     "data": {
      "image/png": "[encoded data removed]",
      "text/plain": [
       "<Figure size 2000x600 with 1 Axes>"
      ]
     },
     "metadata": {},
     "output_type": "display_data"
    }
   ],
   "source": [
    "# data_for_bars = data_ultimo_mes_por_meso.groupby([\"ANO\", \"MESOREGIAO\"]).sum()[[\"QT_EXIST\", \"QT_SUS\"]].reset_index()\n",
    "data_for_bars = data_ultimo_mes_por_meso.pivot(index=\"ANO\", columns=\"MESOREGIAO\", values=\"QT_EXIST\")\n",
    "pl = data_for_bars.plot(kind=\"bar\", figsize=(20, 6), rot=0, ylabel=\"Quantidade de leitos\", title=\"Quantidade de leitos totais por mesoregião no final de cada ano\")\n",
    "\n",
    "# set grid in the background\n",
    "pl.grid(color=\"white\", linestyle=\"-\", linewidth=1, axis=\"y\", zorder=0)\n",
    "pl.set_facecolor(\"#e5ecf6\")"
   ]
  },
  {
   "attachments": {},
   "cell_type": "markdown",
   "metadata": {},
   "source": [
    "### Sus"
   ]
  },
  {
   "cell_type": "code",
   "execution_count": 24,
   "metadata": {},
   "outputs": [
    {
     "data": {
      "application/vnd.plotly.v1+json": {
       "config": {
        "plotlyServerURL": "https://plot.ly"
       },
       "data": [
        {
         "hovertemplate": "MESOREGIAO=Centro Goiano<br>COMPETEN=%{x}<br>QT_SUS=%{y}<extra></extra>",
         "legendgroup": "Centro Goiano",
         "line": {
          "color": "#636efa",
          "dash": "solid"
         },
         "marker": {
          "symbol": "circle"
         },
         "mode": "lines",
         "name": "Centro Goiano",
         "orientation": "v",
         "showlegend": true,
         "type": "scatter",
         "x": [
          "201701",
          "201702",
          "201703",
          "201704",
          "201705",
          "201706",
          "201707",
          "201708",
          "201709",
          "201710",
          "201711",
          "201712",
          "201801",
          "201802",
          "201803",
          "201804",
          "201805",
          "201806",
          "201807",
          "201808",
          "201809",
          "201810",
          "201811",
          "201812",
          "201901",
          "201902",
          "201903",
          "201904",
          "201905",
          "201906",
          "201907",
          "201908",
          "201909",
          "201910",
          "201911",
          "201912",
          "202001",
          "202002",
          "202003",
          "202004",
          "202005",
          "202006",
          "202007",
          "202008",
          "202009",
          "202010",
          "202011",
          "202012",
          "202101",
          "202102",
          "202103",
          "202104",
          "202105",
          "202106",
          "202107",
          "202108",
          "202109",
          "202110",
          "202111",
          "202112",
          "202201",
          "202202",
          "202203",
          "202204",
          "202205",
          "202206",
          "202207",
          "202208",
          "202209",
          "202210",
          "202211"
         ],
         "xaxis": "x",
         "y": [
          7721,
          7717,
          7506,
          7491,
          7437,
          7420,
          7419,
          7419,
          7389,
          7334,
          7359,
          7088,
          7089,
          7224,
          7208,
          7208,
          7299,
          7283,
          7476,
          7478,
          7508,
          7403,
          7147,
          7207,
          7144,
          7110,
          7137,
          7151,
          7102,
          7068,
          7017,
          7093,
          7094,
          7116,
          6992,
          7002,
          7055,
          7049,
          7305,
          7342,
          7356,
          7465,
          7543,
          7619,
          7712,
          7724,
          7864,
          7882,
          7888,
          7838,
          8316,
          8320,
          8321,
          8349,
          8399,
          8499,
          8594,
          8601,
          8600,
          8451,
          8320,
          8018,
          7856,
          7857,
          7886,
          7679,
          7683,
          7762,
          7752,
          7771,
          7775
         ],
         "yaxis": "y"
        },
        {
         "hovertemplate": "MESOREGIAO=Leste Goiano<br>COMPETEN=%{x}<br>QT_SUS=%{y}<extra></extra>",
         "legendgroup": "Leste Goiano",
         "line": {
          "color": "#EF553B",
          "dash": "solid"
         },
         "marker": {
          "symbol": "circle"
         },
         "mode": "lines",
         "name": "Leste Goiano",
         "orientation": "v",
         "showlegend": true,
         "type": "scatter",
         "x": [
          "201701",
          "201702",
          "201703",
          "201704",
          "201705",
          "201706",
          "201707",
          "201708",
          "201709",
          "201710",
          "201711",
          "201712",
          "201801",
          "201802",
          "201803",
          "201804",
          "201805",
          "201806",
          "201807",
          "201808",
          "201809",
          "201810",
          "201811",
          "201812",
          "201901",
          "201902",
          "201903",
          "201904",
          "201905",
          "201906",
          "201907",
          "201908",
          "201909",
          "201910",
          "201911",
          "201912",
          "202001",
          "202002",
          "202003",
          "202004",
          "202005",
          "202006",
          "202007",
          "202008",
          "202009",
          "202010",
          "202011",
          "202012",
          "202101",
          "202102",
          "202103",
          "202104",
          "202105",
          "202106",
          "202107",
          "202108",
          "202109",
          "202110",
          "202111",
          "202112",
          "202201",
          "202202",
          "202203",
          "202204",
          "202205",
          "202206",
          "202207",
          "202208",
          "202209",
          "202210",
          "202211"
         ],
         "xaxis": "x",
         "y": [
          744,
          736,
          736,
          736,
          736,
          736,
          736,
          761,
          761,
          748,
          738,
          738,
          738,
          738,
          738,
          738,
          738,
          738,
          749,
          750,
          749,
          753,
          754,
          754,
          755,
          755,
          755,
          747,
          755,
          749,
          752,
          752,
          752,
          752,
          752,
          752,
          753,
          753,
          750,
          771,
          971,
          971,
          990,
          991,
          1013,
          986,
          739,
          937,
          942,
          932,
          958,
          756,
          761,
          837,
          837,
          880,
          889,
          906,
          906,
          918,
          894,
          884,
          841,
          829,
          829,
          833,
          833,
          843,
          843,
          845,
          842
         ],
         "yaxis": "y"
        },
        {
         "hovertemplate": "MESOREGIAO=Noroeste Goiano<br>COMPETEN=%{x}<br>QT_SUS=%{y}<extra></extra>",
         "legendgroup": "Noroeste Goiano",
         "line": {
          "color": "#00cc96",
          "dash": "solid"
         },
         "marker": {
          "symbol": "circle"
         },
         "mode": "lines",
         "name": "Noroeste Goiano",
         "orientation": "v",
         "showlegend": true,
         "type": "scatter",
         "x": [
          "201701",
          "201702",
          "201703",
          "201704",
          "201705",
          "201706",
          "201707",
          "201708",
          "201709",
          "201710",
          "201711",
          "201712",
          "201801",
          "201802",
          "201803",
          "201804",
          "201805",
          "201806",
          "201807",
          "201808",
          "201809",
          "201810",
          "201811",
          "201812",
          "201901",
          "201902",
          "201903",
          "201904",
          "201905",
          "201906",
          "201907",
          "201908",
          "201909",
          "201910",
          "201911",
          "201912",
          "202001",
          "202002",
          "202003",
          "202004",
          "202005",
          "202006",
          "202007",
          "202008",
          "202009",
          "202010",
          "202011",
          "202012",
          "202101",
          "202102",
          "202103",
          "202104",
          "202105",
          "202106",
          "202107",
          "202108",
          "202109",
          "202110",
          "202111",
          "202112",
          "202201",
          "202202",
          "202203",
          "202204",
          "202205",
          "202206",
          "202207",
          "202208",
          "202209",
          "202210",
          "202211"
         ],
         "xaxis": "x",
         "y": [
          614,
          614,
          614,
          614,
          597,
          602,
          602,
          602,
          576,
          576,
          576,
          580,
          580,
          580,
          580,
          576,
          576,
          576,
          576,
          576,
          576,
          576,
          576,
          576,
          576,
          576,
          576,
          576,
          576,
          576,
          576,
          576,
          576,
          576,
          576,
          566,
          566,
          566,
          574,
          567,
          567,
          546,
          546,
          546,
          546,
          546,
          546,
          546,
          546,
          546,
          546,
          551,
          548,
          552,
          552,
          552,
          552,
          552,
          552,
          552,
          552,
          552,
          547,
          547,
          547,
          547,
          547,
          547,
          547,
          547,
          547
         ],
         "yaxis": "y"
        },
        {
         "hovertemplate": "MESOREGIAO=Norte Goiano<br>COMPETEN=%{x}<br>QT_SUS=%{y}<extra></extra>",
         "legendgroup": "Norte Goiano",
         "line": {
          "color": "#ab63fa",
          "dash": "solid"
         },
         "marker": {
          "symbol": "circle"
         },
         "mode": "lines",
         "name": "Norte Goiano",
         "orientation": "v",
         "showlegend": true,
         "type": "scatter",
         "x": [
          "201701",
          "201702",
          "201703",
          "201704",
          "201705",
          "201706",
          "201707",
          "201708",
          "201709",
          "201710",
          "201711",
          "201712",
          "201801",
          "201802",
          "201803",
          "201804",
          "201805",
          "201806",
          "201807",
          "201808",
          "201809",
          "201810",
          "201811",
          "201812",
          "201901",
          "201902",
          "201903",
          "201904",
          "201905",
          "201906",
          "201907",
          "201908",
          "201909",
          "201910",
          "201911",
          "201912",
          "202001",
          "202002",
          "202003",
          "202004",
          "202005",
          "202006",
          "202007",
          "202008",
          "202009",
          "202010",
          "202011",
          "202012",
          "202101",
          "202102",
          "202103",
          "202104",
          "202105",
          "202106",
          "202107",
          "202108",
          "202109",
          "202110",
          "202111",
          "202112",
          "202201",
          "202202",
          "202203",
          "202204",
          "202205",
          "202206",
          "202207",
          "202208",
          "202209",
          "202210",
          "202211"
         ],
         "xaxis": "x",
         "y": [
          565,
          565,
          565,
          531,
          532,
          532,
          534,
          531,
          535,
          535,
          536,
          538,
          538,
          539,
          543,
          543,
          543,
          543,
          543,
          543,
          543,
          543,
          510,
          510,
          510,
          510,
          510,
          510,
          510,
          504,
          504,
          519,
          519,
          565,
          565,
          565,
          565,
          567,
          561,
          598,
          590,
          598,
          597,
          620,
          620,
          616,
          616,
          616,
          587,
          705,
          771,
          758,
          778,
          778,
          779,
          788,
          784,
          826,
          782,
          782,
          708,
          708,
          738,
          754,
          755,
          756,
          756,
          778,
          778,
          894,
          896
         ],
         "yaxis": "y"
        },
        {
         "hovertemplate": "MESOREGIAO=Sul Goiano<br>COMPETEN=%{x}<br>QT_SUS=%{y}<extra></extra>",
         "legendgroup": "Sul Goiano",
         "line": {
          "color": "#FFA15A",
          "dash": "solid"
         },
         "marker": {
          "symbol": "circle"
         },
         "mode": "lines",
         "name": "Sul Goiano",
         "orientation": "v",
         "showlegend": true,
         "type": "scatter",
         "x": [
          "201701",
          "201702",
          "201703",
          "201704",
          "201705",
          "201706",
          "201707",
          "201708",
          "201709",
          "201710",
          "201711",
          "201712",
          "201801",
          "201802",
          "201803",
          "201804",
          "201805",
          "201806",
          "201807",
          "201808",
          "201809",
          "201810",
          "201811",
          "201812",
          "201901",
          "201902",
          "201903",
          "201904",
          "201905",
          "201906",
          "201907",
          "201908",
          "201909",
          "201910",
          "201911",
          "201912",
          "202001",
          "202002",
          "202003",
          "202004",
          "202005",
          "202006",
          "202007",
          "202008",
          "202009",
          "202010",
          "202011",
          "202012",
          "202101",
          "202102",
          "202103",
          "202104",
          "202105",
          "202106",
          "202107",
          "202108",
          "202109",
          "202110",
          "202111",
          "202112",
          "202201",
          "202202",
          "202203",
          "202204",
          "202205",
          "202206",
          "202207",
          "202208",
          "202209",
          "202210",
          "202211"
         ],
         "xaxis": "x",
         "y": [
          2478,
          2515,
          2518,
          2493,
          2518,
          2531,
          2515,
          2526,
          2528,
          2493,
          2493,
          2495,
          2495,
          2543,
          2538,
          2543,
          2539,
          2539,
          2564,
          2542,
          2548,
          2583,
          2583,
          2596,
          2547,
          2552,
          2564,
          2598,
          2574,
          2587,
          2588,
          2588,
          2592,
          2592,
          2592,
          2596,
          2596,
          2586,
          2594,
          2716,
          2653,
          2711,
          2764,
          2822,
          2859,
          2875,
          2864,
          2835,
          2813,
          2833,
          2915,
          2916,
          2933,
          2943,
          2980,
          3027,
          3034,
          3099,
          3038,
          2987,
          2932,
          2975,
          2999,
          3020,
          3024,
          3020,
          3000,
          3058,
          3022,
          3039,
          3039
         ],
         "yaxis": "y"
        }
       ],
       "layout": {
        "legend": {
         "title": {
          "text": "MESOREGIAO"
         },
         "tracegroupgap": 0
        },
        "template": {
         "data": {
          "bar": [
           {
            "error_x": {
             "color": "#2a3f5f"
            },
            "error_y": {
             "color": "#2a3f5f"
            },
            "marker": {
             "line": {
              "color": "#E5ECF6",
              "width": 0.5
             },
             "pattern": {
              "fillmode": "overlay",
              "size": 10,
              "solidity": 0.2
             }
            },
            "type": "bar"
           }
          ],
          "barpolar": [
           {
            "marker": {
             "line": {
              "color": "#E5ECF6",
              "width": 0.5
             },
             "pattern": {
              "fillmode": "overlay",
              "size": 10,
              "solidity": 0.2
             }
            },
            "type": "barpolar"
           }
          ],
          "carpet": [
           {
            "aaxis": {
             "endlinecolor": "#2a3f5f",
             "gridcolor": "white",
             "linecolor": "white",
             "minorgridcolor": "white",
             "startlinecolor": "#2a3f5f"
            },
            "baxis": {
             "endlinecolor": "#2a3f5f",
             "gridcolor": "white",
             "linecolor": "white",
             "minorgridcolor": "white",
             "startlinecolor": "#2a3f5f"
            },
            "type": "carpet"
           }
          ],
          "choropleth": [
           {
            "colorbar": {
             "outlinewidth": 0,
             "ticks": ""
            },
            "type": "choropleth"
           }
          ],
          "contour": [
           {
            "colorbar": {
             "outlinewidth": 0,
             "ticks": ""
            },
            "colorscale": [
             [
              0,
              "#0d0887"
             ],
             [
              0.1111111111111111,
              "#46039f"
             ],
             [
              0.2222222222222222,
              "#7201a8"
             ],
             [
              0.3333333333333333,
              "#9c179e"
             ],
             [
              0.4444444444444444,
              "#bd3786"
             ],
             [
              0.5555555555555556,
              "#d8576b"
             ],
             [
              0.6666666666666666,
              "#ed7953"
             ],
             [
              0.7777777777777778,
              "#fb9f3a"
             ],
             [
              0.8888888888888888,
              "#fdca26"
             ],
             [
              1,
              "#f0f921"
             ]
            ],
            "type": "contour"
           }
          ],
          "contourcarpet": [
           {
            "colorbar": {
             "outlinewidth": 0,
             "ticks": ""
            },
            "type": "contourcarpet"
           }
          ],
          "heatmap": [
           {
            "colorbar": {
             "outlinewidth": 0,
             "ticks": ""
            },
            "colorscale": [
             [
              0,
              "#0d0887"
             ],
             [
              0.1111111111111111,
              "#46039f"
             ],
             [
              0.2222222222222222,
              "#7201a8"
             ],
             [
              0.3333333333333333,
              "#9c179e"
             ],
             [
              0.4444444444444444,
              "#bd3786"
             ],
             [
              0.5555555555555556,
              "#d8576b"
             ],
             [
              0.6666666666666666,
              "#ed7953"
             ],
             [
              0.7777777777777778,
              "#fb9f3a"
             ],
             [
              0.8888888888888888,
              "#fdca26"
             ],
             [
              1,
              "#f0f921"
             ]
            ],
            "type": "heatmap"
           }
          ],
          "heatmapgl": [
           {
            "colorbar": {
             "outlinewidth": 0,
             "ticks": ""
            },
            "colorscale": [
             [
              0,
              "#0d0887"
             ],
             [
              0.1111111111111111,
              "#46039f"
             ],
             [
              0.2222222222222222,
              "#7201a8"
             ],
             [
              0.3333333333333333,
              "#9c179e"
             ],
             [
              0.4444444444444444,
              "#bd3786"
             ],
             [
              0.5555555555555556,
              "#d8576b"
             ],
             [
              0.6666666666666666,
              "#ed7953"
             ],
             [
              0.7777777777777778,
              "#fb9f3a"
             ],
             [
              0.8888888888888888,
              "#fdca26"
             ],
             [
              1,
              "#f0f921"
             ]
            ],
            "type": "heatmapgl"
           }
          ],
          "histogram": [
           {
            "marker": {
             "pattern": {
              "fillmode": "overlay",
              "size": 10,
              "solidity": 0.2
             }
            },
            "type": "histogram"
           }
          ],
          "histogram2d": [
           {
            "colorbar": {
             "outlinewidth": 0,
             "ticks": ""
            },
            "colorscale": [
             [
              0,
              "#0d0887"
             ],
             [
              0.1111111111111111,
              "#46039f"
             ],
             [
              0.2222222222222222,
              "#7201a8"
             ],
             [
              0.3333333333333333,
              "#9c179e"
             ],
             [
              0.4444444444444444,
              "#bd3786"
             ],
             [
              0.5555555555555556,
              "#d8576b"
             ],
             [
              0.6666666666666666,
              "#ed7953"
             ],
             [
              0.7777777777777778,
              "#fb9f3a"
             ],
             [
              0.8888888888888888,
              "#fdca26"
             ],
             [
              1,
              "#f0f921"
             ]
            ],
            "type": "histogram2d"
           }
          ],
          "histogram2dcontour": [
           {
            "colorbar": {
             "outlinewidth": 0,
             "ticks": ""
            },
            "colorscale": [
             [
              0,
              "#0d0887"
             ],
             [
              0.1111111111111111,
              "#46039f"
             ],
             [
              0.2222222222222222,
              "#7201a8"
             ],
             [
              0.3333333333333333,
              "#9c179e"
             ],
             [
              0.4444444444444444,
              "#bd3786"
             ],
             [
              0.5555555555555556,
              "#d8576b"
             ],
             [
              0.6666666666666666,
              "#ed7953"
             ],
             [
              0.7777777777777778,
              "#fb9f3a"
             ],
             [
              0.8888888888888888,
              "#fdca26"
             ],
             [
              1,
              "#f0f921"
             ]
            ],
            "type": "histogram2dcontour"
           }
          ],
          "mesh3d": [
           {
            "colorbar": {
             "outlinewidth": 0,
             "ticks": ""
            },
            "type": "mesh3d"
           }
          ],
          "parcoords": [
           {
            "line": {
             "colorbar": {
              "outlinewidth": 0,
              "ticks": ""
             }
            },
            "type": "parcoords"
           }
          ],
          "pie": [
           {
            "automargin": true,
            "type": "pie"
           }
          ],
          "scatter": [
           {
            "fillpattern": {
             "fillmode": "overlay",
             "size": 10,
             "solidity": 0.2
            },
            "type": "scatter"
           }
          ],
          "scatter3d": [
           {
            "line": {
             "colorbar": {
              "outlinewidth": 0,
              "ticks": ""
             }
            },
            "marker": {
             "colorbar": {
              "outlinewidth": 0,
              "ticks": ""
             }
            },
            "type": "scatter3d"
           }
          ],
          "scattercarpet": [
           {
            "marker": {
             "colorbar": {
              "outlinewidth": 0,
              "ticks": ""
             }
            },
            "type": "scattercarpet"
           }
          ],
          "scattergeo": [
           {
            "marker": {
             "colorbar": {
              "outlinewidth": 0,
              "ticks": ""
             }
            },
            "type": "scattergeo"
           }
          ],
          "scattergl": [
           {
            "marker": {
             "colorbar": {
              "outlinewidth": 0,
              "ticks": ""
             }
            },
            "type": "scattergl"
           }
          ],
          "scattermapbox": [
           {
            "marker": {
             "colorbar": {
              "outlinewidth": 0,
              "ticks": ""
             }
            },
            "type": "scattermapbox"
           }
          ],
          "scatterpolar": [
           {
            "marker": {
             "colorbar": {
              "outlinewidth": 0,
              "ticks": ""
             }
            },
            "type": "scatterpolar"
           }
          ],
          "scatterpolargl": [
           {
            "marker": {
             "colorbar": {
              "outlinewidth": 0,
              "ticks": ""
             }
            },
            "type": "scatterpolargl"
           }
          ],
          "scatterternary": [
           {
            "marker": {
             "colorbar": {
              "outlinewidth": 0,
              "ticks": ""
             }
            },
            "type": "scatterternary"
           }
          ],
          "surface": [
           {
            "colorbar": {
             "outlinewidth": 0,
             "ticks": ""
            },
            "colorscale": [
             [
              0,
              "#0d0887"
             ],
             [
              0.1111111111111111,
              "#46039f"
             ],
             [
              0.2222222222222222,
              "#7201a8"
             ],
             [
              0.3333333333333333,
              "#9c179e"
             ],
             [
              0.4444444444444444,
              "#bd3786"
             ],
             [
              0.5555555555555556,
              "#d8576b"
             ],
             [
              0.6666666666666666,
              "#ed7953"
             ],
             [
              0.7777777777777778,
              "#fb9f3a"
             ],
             [
              0.8888888888888888,
              "#fdca26"
             ],
             [
              1,
              "#f0f921"
             ]
            ],
            "type": "surface"
           }
          ],
          "table": [
           {
            "cells": {
             "fill": {
              "color": "#EBF0F8"
             },
             "line": {
              "color": "white"
             }
            },
            "header": {
             "fill": {
              "color": "#C8D4E3"
             },
             "line": {
              "color": "white"
             }
            },
            "type": "table"
           }
          ]
         },
         "layout": {
          "annotationdefaults": {
           "arrowcolor": "#2a3f5f",
           "arrowhead": 0,
           "arrowwidth": 1
          },
          "autotypenumbers": "strict",
          "coloraxis": {
           "colorbar": {
            "outlinewidth": 0,
            "ticks": ""
           }
          },
          "colorscale": {
           "diverging": [
            [
             0,
             "#8e0152"
            ],
            [
             0.1,
             "#c51b7d"
            ],
            [
             0.2,
             "#de77ae"
            ],
            [
             0.3,
             "#f1b6da"
            ],
            [
             0.4,
             "#fde0ef"
            ],
            [
             0.5,
             "#f7f7f7"
            ],
            [
             0.6,
             "#e6f5d0"
            ],
            [
             0.7,
             "#b8e186"
            ],
            [
             0.8,
             "#7fbc41"
            ],
            [
             0.9,
             "#4d9221"
            ],
            [
             1,
             "#276419"
            ]
           ],
           "sequential": [
            [
             0,
             "#0d0887"
            ],
            [
             0.1111111111111111,
             "#46039f"
            ],
            [
             0.2222222222222222,
             "#7201a8"
            ],
            [
             0.3333333333333333,
             "#9c179e"
            ],
            [
             0.4444444444444444,
             "#bd3786"
            ],
            [
             0.5555555555555556,
             "#d8576b"
            ],
            [
             0.6666666666666666,
             "#ed7953"
            ],
            [
             0.7777777777777778,
             "#fb9f3a"
            ],
            [
             0.8888888888888888,
             "#fdca26"
            ],
            [
             1,
             "#f0f921"
            ]
           ],
           "sequentialminus": [
            [
             0,
             "#0d0887"
            ],
            [
             0.1111111111111111,
             "#46039f"
            ],
            [
             0.2222222222222222,
             "#7201a8"
            ],
            [
             0.3333333333333333,
             "#9c179e"
            ],
            [
             0.4444444444444444,
             "#bd3786"
            ],
            [
             0.5555555555555556,
             "#d8576b"
            ],
            [
             0.6666666666666666,
             "#ed7953"
            ],
            [
             0.7777777777777778,
             "#fb9f3a"
            ],
            [
             0.8888888888888888,
             "#fdca26"
            ],
            [
             1,
             "#f0f921"
            ]
           ]
          },
          "colorway": [
           "#636efa",
           "#EF553B",
           "#00cc96",
           "#ab63fa",
           "#FFA15A",
           "#19d3f3",
           "#FF6692",
           "#B6E880",
           "#FF97FF",
           "#FECB52"
          ],
          "font": {
           "color": "#2a3f5f"
          },
          "geo": {
           "bgcolor": "white",
           "lakecolor": "white",
           "landcolor": "#E5ECF6",
           "showlakes": true,
           "showland": true,
           "subunitcolor": "white"
          },
          "hoverlabel": {
           "align": "left"
          },
          "hovermode": "closest",
          "mapbox": {
           "style": "light"
          },
          "paper_bgcolor": "white",
          "plot_bgcolor": "#E5ECF6",
          "polar": {
           "angularaxis": {
            "gridcolor": "white",
            "linecolor": "white",
            "ticks": ""
           },
           "bgcolor": "#E5ECF6",
           "radialaxis": {
            "gridcolor": "white",
            "linecolor": "white",
            "ticks": ""
           }
          },
          "scene": {
           "xaxis": {
            "backgroundcolor": "#E5ECF6",
            "gridcolor": "white",
            "gridwidth": 2,
            "linecolor": "white",
            "showbackground": true,
            "ticks": "",
            "zerolinecolor": "white"
           },
           "yaxis": {
            "backgroundcolor": "#E5ECF6",
            "gridcolor": "white",
            "gridwidth": 2,
            "linecolor": "white",
            "showbackground": true,
            "ticks": "",
            "zerolinecolor": "white"
           },
           "zaxis": {
            "backgroundcolor": "#E5ECF6",
            "gridcolor": "white",
            "gridwidth": 2,
            "linecolor": "white",
            "showbackground": true,
            "ticks": "",
            "zerolinecolor": "white"
           }
          },
          "shapedefaults": {
           "line": {
            "color": "#2a3f5f"
           }
          },
          "ternary": {
           "aaxis": {
            "gridcolor": "white",
            "linecolor": "white",
            "ticks": ""
           },
           "baxis": {
            "gridcolor": "white",
            "linecolor": "white",
            "ticks": ""
           },
           "bgcolor": "#E5ECF6",
           "caxis": {
            "gridcolor": "white",
            "linecolor": "white",
            "ticks": ""
           }
          },
          "title": {
           "x": 0.05
          },
          "xaxis": {
           "automargin": true,
           "gridcolor": "white",
           "linecolor": "white",
           "ticks": "",
           "title": {
            "standoff": 15
           },
           "zerolinecolor": "white",
           "zerolinewidth": 2
          },
          "yaxis": {
           "automargin": true,
           "gridcolor": "white",
           "linecolor": "white",
           "ticks": "",
           "title": {
            "standoff": 15
           },
           "zerolinecolor": "white",
           "zerolinewidth": 2
          }
         }
        },
        "title": {
         "text": "Quantidade de leitos SUS por mesoregião"
        },
        "xaxis": {
         "anchor": "y",
         "domain": [
          0,
          1
         ],
         "title": {
          "text": "COMPETEN"
         }
        },
        "yaxis": {
         "anchor": "x",
         "domain": [
          0,
          1
         ],
         "range": [
          0,
          10000
         ],
         "title": {
          "text": "QT_SUS"
         }
        }
       }
      }
     },
     "metadata": {},
     "output_type": "display_data"
    }
   ],
   "source": [
    "px.line(leitos_por_regiao, x=\"COMPETEN\", y=\"QT_SUS\", color=\"MESOREGIAO\", title=\"Quantidade de leitos SUS por mesoregião\", range_y=[0, 10000])"
   ]
  },
  {
   "cell_type": "code",
   "execution_count": 25,
   "metadata": {},
   "outputs": [
    {
     "data": {
      "text/plain": [
       "<matplotlib.legend.Legend at 0x7fa26eef2370>"
      ]
     },
     "execution_count": 25,
     "metadata": {},
     "output_type": "execute_result"
    },
    {
     "data": {
      "image/png": "[encoded data removed]",
      "text/plain": [
       "<Figure size 2000x600 with 1 Axes>"
      ]
     },
     "metadata": {},
     "output_type": "display_data"
    }
   ],
   "source": [
    "fig, ax = plt.subplots()\n",
    "\n",
    "for key, grp in leitos_por_regiao.groupby(['MESOREGIAO']):\n",
    "    ax = grp.plot(ax=ax, kind='line', x='COMPETEN', y='QT_SUS', label=key, figsize=(20, 6))\n",
    "\n",
    "ax.grid(color=\"white\", linestyle=\"-\", linewidth=1)\n",
    "ax.set_facecolor(\"#e5ecf6\")\n",
    "plt.legend(loc='best')"
   ]
  },
  {
   "cell_type": "code",
   "execution_count": 26,
   "metadata": {},
   "outputs": [
    {
     "data": {
      "application/vnd.plotly.v1+json": {
       "config": {
        "plotlyServerURL": "https://plot.ly"
       },
       "data": [
        {
         "alignmentgroup": "True",
         "hovertemplate": "MESOREGIAO=Centro Goiano<br>ANO=%{x}<br>QT_SUS=%{y}<extra></extra>",
         "legendgroup": "Centro Goiano",
         "marker": {
          "color": "#636efa",
          "pattern": {
           "shape": ""
          }
         },
         "name": "Centro Goiano",
         "offsetgroup": "Centro Goiano",
         "orientation": "v",
         "showlegend": true,
         "textposition": "auto",
         "type": "bar",
         "x": [
          "2017",
          "2018",
          "2019",
          "2020",
          "2021",
          "2022"
         ],
         "xaxis": "x",
         "y": [
          7088,
          7207,
          7002,
          7882,
          8451,
          7775
         ],
         "yaxis": "y"
        },
        {
         "alignmentgroup": "True",
         "hovertemplate": "MESOREGIAO=Leste Goiano<br>ANO=%{x}<br>QT_SUS=%{y}<extra></extra>",
         "legendgroup": "Leste Goiano",
         "marker": {
          "color": "#EF553B",
          "pattern": {
           "shape": ""
          }
         },
         "name": "Leste Goiano",
         "offsetgroup": "Leste Goiano",
         "orientation": "v",
         "showlegend": true,
         "textposition": "auto",
         "type": "bar",
         "x": [
          "2017",
          "2018",
          "2019",
          "2020",
          "2021",
          "2022"
         ],
         "xaxis": "x",
         "y": [
          738,
          754,
          752,
          937,
          918,
          842
         ],
         "yaxis": "y"
        },
        {
         "alignmentgroup": "True",
         "hovertemplate": "MESOREGIAO=Noroeste Goiano<br>ANO=%{x}<br>QT_SUS=%{y}<extra></extra>",
         "legendgroup": "Noroeste Goiano",
         "marker": {
          "color": "#00cc96",
          "pattern": {
           "shape": ""
          }
         },
         "name": "Noroeste Goiano",
         "offsetgroup": "Noroeste Goiano",
         "orientation": "v",
         "showlegend": true,
         "textposition": "auto",
         "type": "bar",
         "x": [
          "2017",
          "2018",
          "2019",
          "2020",
          "2021",
          "2022"
         ],
         "xaxis": "x",
         "y": [
          580,
          576,
          566,
          546,
          552,
          547
         ],
         "yaxis": "y"
        },
        {
         "alignmentgroup": "True",
         "hovertemplate": "MESOREGIAO=Norte Goiano<br>ANO=%{x}<br>QT_SUS=%{y}<extra></extra>",
         "legendgroup": "Norte Goiano",
         "marker": {
          "color": "#ab63fa",
          "pattern": {
           "shape": ""
          }
         },
         "name": "Norte Goiano",
         "offsetgroup": "Norte Goiano",
         "orientation": "v",
         "showlegend": true,
         "textposition": "auto",
         "type": "bar",
         "x": [
          "2017",
          "2018",
          "2019",
          "2020",
          "2021",
          "2022"
         ],
         "xaxis": "x",
         "y": [
          538,
          510,
          565,
          616,
          782,
          896
         ],
         "yaxis": "y"
        },
        {
         "alignmentgroup": "True",
         "hovertemplate": "MESOREGIAO=Sul Goiano<br>ANO=%{x}<br>QT_SUS=%{y}<extra></extra>",
         "legendgroup": "Sul Goiano",
         "marker": {
          "color": "#FFA15A",
          "pattern": {
           "shape": ""
          }
         },
         "name": "Sul Goiano",
         "offsetgroup": "Sul Goiano",
         "orientation": "v",
         "showlegend": true,
         "textposition": "auto",
         "type": "bar",
         "x": [
          "2017",
          "2018",
          "2019",
          "2020",
          "2021",
          "2022"
         ],
         "xaxis": "x",
         "y": [
          2495,
          2596,
          2596,
          2835,
          2987,
          3039
         ],
         "yaxis": "y"
        }
       ],
       "layout": {
        "barmode": "group",
        "legend": {
         "title": {
          "text": "MESOREGIAO"
         },
         "tracegroupgap": 0
        },
        "template": {
         "data": {
          "bar": [
           {
            "error_x": {
             "color": "#2a3f5f"
            },
            "error_y": {
             "color": "#2a3f5f"
            },
            "marker": {
             "line": {
              "color": "#E5ECF6",
              "width": 0.5
             },
             "pattern": {
              "fillmode": "overlay",
              "size": 10,
              "solidity": 0.2
             }
            },
            "type": "bar"
           }
          ],
          "barpolar": [
           {
            "marker": {
             "line": {
              "color": "#E5ECF6",
              "width": 0.5
             },
             "pattern": {
              "fillmode": "overlay",
              "size": 10,
              "solidity": 0.2
             }
            },
            "type": "barpolar"
           }
          ],
          "carpet": [
           {
            "aaxis": {
             "endlinecolor": "#2a3f5f",
             "gridcolor": "white",
             "linecolor": "white",
             "minorgridcolor": "white",
             "startlinecolor": "#2a3f5f"
            },
            "baxis": {
             "endlinecolor": "#2a3f5f",
             "gridcolor": "white",
             "linecolor": "white",
             "minorgridcolor": "white",
             "startlinecolor": "#2a3f5f"
            },
            "type": "carpet"
           }
          ],
          "choropleth": [
           {
            "colorbar": {
             "outlinewidth": 0,
             "ticks": ""
            },
            "type": "choropleth"
           }
          ],
          "contour": [
           {
            "colorbar": {
             "outlinewidth": 0,
             "ticks": ""
            },
            "colorscale": [
             [
              0,
              "#0d0887"
             ],
             [
              0.1111111111111111,
              "#46039f"
             ],
             [
              0.2222222222222222,
              "#7201a8"
             ],
             [
              0.3333333333333333,
              "#9c179e"
             ],
             [
              0.4444444444444444,
              "#bd3786"
             ],
             [
              0.5555555555555556,
              "#d8576b"
             ],
             [
              0.6666666666666666,
              "#ed7953"
             ],
             [
              0.7777777777777778,
              "#fb9f3a"
             ],
             [
              0.8888888888888888,
              "#fdca26"
             ],
             [
              1,
              "#f0f921"
             ]
            ],
            "type": "contour"
           }
          ],
          "contourcarpet": [
           {
            "colorbar": {
             "outlinewidth": 0,
             "ticks": ""
            },
            "type": "contourcarpet"
           }
          ],
          "heatmap": [
           {
            "colorbar": {
             "outlinewidth": 0,
             "ticks": ""
            },
            "colorscale": [
             [
              0,
              "#0d0887"
             ],
             [
              0.1111111111111111,
              "#46039f"
             ],
             [
              0.2222222222222222,
              "#7201a8"
             ],
             [
              0.3333333333333333,
              "#9c179e"
             ],
             [
              0.4444444444444444,
              "#bd3786"
             ],
             [
              0.5555555555555556,
              "#d8576b"
             ],
             [
              0.6666666666666666,
              "#ed7953"
             ],
             [
              0.7777777777777778,
              "#fb9f3a"
             ],
             [
              0.8888888888888888,
              "#fdca26"
             ],
             [
              1,
              "#f0f921"
             ]
            ],
            "type": "heatmap"
           }
          ],
          "heatmapgl": [
           {
            "colorbar": {
             "outlinewidth": 0,
             "ticks": ""
            },
            "colorscale": [
             [
              0,
              "#0d0887"
             ],
             [
              0.1111111111111111,
              "#46039f"
             ],
             [
              0.2222222222222222,
              "#7201a8"
             ],
             [
              0.3333333333333333,
              "#9c179e"
             ],
             [
              0.4444444444444444,
              "#bd3786"
             ],
             [
              0.5555555555555556,
              "#d8576b"
             ],
             [
              0.6666666666666666,
              "#ed7953"
             ],
             [
              0.7777777777777778,
              "#fb9f3a"
             ],
             [
              0.8888888888888888,
              "#fdca26"
             ],
             [
              1,
              "#f0f921"
             ]
            ],
            "type": "heatmapgl"
           }
          ],
          "histogram": [
           {
            "marker": {
             "pattern": {
              "fillmode": "overlay",
              "size": 10,
              "solidity": 0.2
             }
            },
            "type": "histogram"
           }
          ],
          "histogram2d": [
           {
            "colorbar": {
             "outlinewidth": 0,
             "ticks": ""
            },
            "colorscale": [
             [
              0,
              "#0d0887"
             ],
             [
              0.1111111111111111,
              "#46039f"
             ],
             [
              0.2222222222222222,
              "#7201a8"
             ],
             [
              0.3333333333333333,
              "#9c179e"
             ],
             [
              0.4444444444444444,
              "#bd3786"
             ],
             [
              0.5555555555555556,
              "#d8576b"
             ],
             [
              0.6666666666666666,
              "#ed7953"
             ],
             [
              0.7777777777777778,
              "#fb9f3a"
             ],
             [
              0.8888888888888888,
              "#fdca26"
             ],
             [
              1,
              "#f0f921"
             ]
            ],
            "type": "histogram2d"
           }
          ],
          "histogram2dcontour": [
           {
            "colorbar": {
             "outlinewidth": 0,
             "ticks": ""
            },
            "colorscale": [
             [
              0,
              "#0d0887"
             ],
             [
              0.1111111111111111,
              "#46039f"
             ],
             [
              0.2222222222222222,
              "#7201a8"
             ],
             [
              0.3333333333333333,
              "#9c179e"
             ],
             [
              0.4444444444444444,
              "#bd3786"
             ],
             [
              0.5555555555555556,
              "#d8576b"
             ],
             [
              0.6666666666666666,
              "#ed7953"
             ],
             [
              0.7777777777777778,
              "#fb9f3a"
             ],
             [
              0.8888888888888888,
              "#fdca26"
             ],
             [
              1,
              "#f0f921"
             ]
            ],
            "type": "histogram2dcontour"
           }
          ],
          "mesh3d": [
           {
            "colorbar": {
             "outlinewidth": 0,
             "ticks": ""
            },
            "type": "mesh3d"
           }
          ],
          "parcoords": [
           {
            "line": {
             "colorbar": {
              "outlinewidth": 0,
              "ticks": ""
             }
            },
            "type": "parcoords"
           }
          ],
          "pie": [
           {
            "automargin": true,
            "type": "pie"
           }
          ],
          "scatter": [
           {
            "fillpattern": {
             "fillmode": "overlay",
             "size": 10,
             "solidity": 0.2
            },
            "type": "scatter"
           }
          ],
          "scatter3d": [
           {
            "line": {
             "colorbar": {
              "outlinewidth": 0,
              "ticks": ""
             }
            },
            "marker": {
             "colorbar": {
              "outlinewidth": 0,
              "ticks": ""
             }
            },
            "type": "scatter3d"
           }
          ],
          "scattercarpet": [
           {
            "marker": {
             "colorbar": {
              "outlinewidth": 0,
              "ticks": ""
             }
            },
            "type": "scattercarpet"
           }
          ],
          "scattergeo": [
           {
            "marker": {
             "colorbar": {
              "outlinewidth": 0,
              "ticks": ""
             }
            },
            "type": "scattergeo"
           }
          ],
          "scattergl": [
           {
            "marker": {
             "colorbar": {
              "outlinewidth": 0,
              "ticks": ""
             }
            },
            "type": "scattergl"
           }
          ],
          "scattermapbox": [
           {
            "marker": {
             "colorbar": {
              "outlinewidth": 0,
              "ticks": ""
             }
            },
            "type": "scattermapbox"
           }
          ],
          "scatterpolar": [
           {
            "marker": {
             "colorbar": {
              "outlinewidth": 0,
              "ticks": ""
             }
            },
            "type": "scatterpolar"
           }
          ],
          "scatterpolargl": [
           {
            "marker": {
             "colorbar": {
              "outlinewidth": 0,
              "ticks": ""
             }
            },
            "type": "scatterpolargl"
           }
          ],
          "scatterternary": [
           {
            "marker": {
             "colorbar": {
              "outlinewidth": 0,
              "ticks": ""
             }
            },
            "type": "scatterternary"
           }
          ],
          "surface": [
           {
            "colorbar": {
             "outlinewidth": 0,
             "ticks": ""
            },
            "colorscale": [
             [
              0,
              "#0d0887"
             ],
             [
              0.1111111111111111,
              "#46039f"
             ],
             [
              0.2222222222222222,
              "#7201a8"
             ],
             [
              0.3333333333333333,
              "#9c179e"
             ],
             [
              0.4444444444444444,
              "#bd3786"
             ],
             [
              0.5555555555555556,
              "#d8576b"
             ],
             [
              0.6666666666666666,
              "#ed7953"
             ],
             [
              0.7777777777777778,
              "#fb9f3a"
             ],
             [
              0.8888888888888888,
              "#fdca26"
             ],
             [
              1,
              "#f0f921"
             ]
            ],
            "type": "surface"
           }
          ],
          "table": [
           {
            "cells": {
             "fill": {
              "color": "#EBF0F8"
             },
             "line": {
              "color": "white"
             }
            },
            "header": {
             "fill": {
              "color": "#C8D4E3"
             },
             "line": {
              "color": "white"
             }
            },
            "type": "table"
           }
          ]
         },
         "layout": {
          "annotationdefaults": {
           "arrowcolor": "#2a3f5f",
           "arrowhead": 0,
           "arrowwidth": 1
          },
          "autotypenumbers": "strict",
          "coloraxis": {
           "colorbar": {
            "outlinewidth": 0,
            "ticks": ""
           }
          },
          "colorscale": {
           "diverging": [
            [
             0,
             "#8e0152"
            ],
            [
             0.1,
             "#c51b7d"
            ],
            [
             0.2,
             "#de77ae"
            ],
            [
             0.3,
             "#f1b6da"
            ],
            [
             0.4,
             "#fde0ef"
            ],
            [
             0.5,
             "#f7f7f7"
            ],
            [
             0.6,
             "#e6f5d0"
            ],
            [
             0.7,
             "#b8e186"
            ],
            [
             0.8,
             "#7fbc41"
            ],
            [
             0.9,
             "#4d9221"
            ],
            [
             1,
             "#276419"
            ]
           ],
           "sequential": [
            [
             0,
             "#0d0887"
            ],
            [
             0.1111111111111111,
             "#46039f"
            ],
            [
             0.2222222222222222,
             "#7201a8"
            ],
            [
             0.3333333333333333,
             "#9c179e"
            ],
            [
             0.4444444444444444,
             "#bd3786"
            ],
            [
             0.5555555555555556,
             "#d8576b"
            ],
            [
             0.6666666666666666,
             "#ed7953"
            ],
            [
             0.7777777777777778,
             "#fb9f3a"
            ],
            [
             0.8888888888888888,
             "#fdca26"
            ],
            [
             1,
             "#f0f921"
            ]
           ],
           "sequentialminus": [
            [
             0,
             "#0d0887"
            ],
            [
             0.1111111111111111,
             "#46039f"
            ],
            [
             0.2222222222222222,
             "#7201a8"
            ],
            [
             0.3333333333333333,
             "#9c179e"
            ],
            [
             0.4444444444444444,
             "#bd3786"
            ],
            [
             0.5555555555555556,
             "#d8576b"
            ],
            [
             0.6666666666666666,
             "#ed7953"
            ],
            [
             0.7777777777777778,
             "#fb9f3a"
            ],
            [
             0.8888888888888888,
             "#fdca26"
            ],
            [
             1,
             "#f0f921"
            ]
           ]
          },
          "colorway": [
           "#636efa",
           "#EF553B",
           "#00cc96",
           "#ab63fa",
           "#FFA15A",
           "#19d3f3",
           "#FF6692",
           "#B6E880",
           "#FF97FF",
           "#FECB52"
          ],
          "font": {
           "color": "#2a3f5f"
          },
          "geo": {
           "bgcolor": "white",
           "lakecolor": "white",
           "landcolor": "#E5ECF6",
           "showlakes": true,
           "showland": true,
           "subunitcolor": "white"
          },
          "hoverlabel": {
           "align": "left"
          },
          "hovermode": "closest",
          "mapbox": {
           "style": "light"
          },
          "paper_bgcolor": "white",
          "plot_bgcolor": "#E5ECF6",
          "polar": {
           "angularaxis": {
            "gridcolor": "white",
            "linecolor": "white",
            "ticks": ""
           },
           "bgcolor": "#E5ECF6",
           "radialaxis": {
            "gridcolor": "white",
            "linecolor": "white",
            "ticks": ""
           }
          },
          "scene": {
           "xaxis": {
            "backgroundcolor": "#E5ECF6",
            "gridcolor": "white",
            "gridwidth": 2,
            "linecolor": "white",
            "showbackground": true,
            "ticks": "",
            "zerolinecolor": "white"
           },
           "yaxis": {
            "backgroundcolor": "#E5ECF6",
            "gridcolor": "white",
            "gridwidth": 2,
            "linecolor": "white",
            "showbackground": true,
            "ticks": "",
            "zerolinecolor": "white"
           },
           "zaxis": {
            "backgroundcolor": "#E5ECF6",
            "gridcolor": "white",
            "gridwidth": 2,
            "linecolor": "white",
            "showbackground": true,
            "ticks": "",
            "zerolinecolor": "white"
           }
          },
          "shapedefaults": {
           "line": {
            "color": "#2a3f5f"
           }
          },
          "ternary": {
           "aaxis": {
            "gridcolor": "white",
            "linecolor": "white",
            "ticks": ""
           },
           "baxis": {
            "gridcolor": "white",
            "linecolor": "white",
            "ticks": ""
           },
           "bgcolor": "#E5ECF6",
           "caxis": {
            "gridcolor": "white",
            "linecolor": "white",
            "ticks": ""
           }
          },
          "title": {
           "x": 0.05
          },
          "xaxis": {
           "automargin": true,
           "gridcolor": "white",
           "linecolor": "white",
           "ticks": "",
           "title": {
            "standoff": 15
           },
           "zerolinecolor": "white",
           "zerolinewidth": 2
          },
          "yaxis": {
           "automargin": true,
           "gridcolor": "white",
           "linecolor": "white",
           "ticks": "",
           "title": {
            "standoff": 15
           },
           "zerolinecolor": "white",
           "zerolinewidth": 2
          }
         }
        },
        "title": {
         "text": "Quantidade de leitos SUS por mesoregião"
        },
        "xaxis": {
         "anchor": "y",
         "domain": [
          0,
          1
         ],
         "title": {
          "text": "ANO"
         }
        },
        "yaxis": {
         "anchor": "x",
         "domain": [
          0,
          1
         ],
         "title": {
          "text": "QT_SUS"
         }
        }
       }
      }
     },
     "metadata": {},
     "output_type": "display_data"
    }
   ],
   "source": [
    "px.bar(data_ultimo_mes_por_meso, x=\"ANO\", y=\"QT_SUS\", color=\"MESOREGIAO\", title=\"Quantidade de leitos SUS por mesoregião\", barmode=\"group\")"
   ]
  },
  {
   "cell_type": "code",
   "execution_count": 28,
   "metadata": {},
   "outputs": [
    {
     "data": {
      "image/png": "[encoded data removed]",
      "text/plain": [
       "<Figure size 2000x600 with 1 Axes>"
      ]
     },
     "metadata": {},
     "output_type": "display_data"
    }
   ],
   "source": [
    "# data_for_bars = data_ultimo_mes_por_meso.groupby([\"ANO\", \"MESOREGIAO\"]).sum()[[\"QT_EXIST\", \"QT_SUS\"]].reset_index()\n",
    "data_for_bars = data_ultimo_mes_por_meso.pivot(index=\"ANO\", columns=\"MESOREGIAO\", values=\"QT_SUS\")\n",
    "pl = data_for_bars.plot(kind=\"bar\", figsize=(20, 6), rot=0, ylabel=\"Quantidade de leitos\", title=\"Quantidade de leitos totais por mesoregião no final de cada ano\")\n",
    "\n",
    "# set grid in the background\n",
    "pl.grid(color=\"white\", linestyle=\"-\", linewidth=1, axis=\"y\", zorder=0)\n",
    "pl.set_facecolor(\"#e5ecf6\")"
   ]
  },
  {
   "attachments": {},
   "cell_type": "markdown",
   "metadata": {},
   "source": [
    "## Evolução da quantidade de Leitos por Cidade\n",
    "\n",
    "- A fim de simplificar a visualização, vamos considerar apenas as 10 cidades com mais leitos em dezembro de 2021"
   ]
  },
  {
   "cell_type": "code",
   "execution_count": 29,
   "metadata": {},
   "outputs": [],
   "source": [
    "leitos_por_cidade = data.groupby([\"COMPETEN\", \"NOME_MUNICIPIO\", \"ANO\", \"MES\"]).sum()[[\"QT_EXIST\", \"QT_SUS\"]].reset_index()\n",
    "leitos_por_cidade_fim_ano = filter_last_month_of_year(leitos_por_cidade)\n"
   ]
  },
  {
   "cell_type": "code",
   "execution_count": 30,
   "metadata": {},
   "outputs": [
    {
     "data": {
      "text/html": [
       "<div>\n",
       "<style scoped>\n",
       "    .dataframe tbody tr th:only-of-type {\n",
       "        vertical-align: middle;\n",
       "    }\n",
       "\n",
       "    .dataframe tbody tr th {\n",
       "        vertical-align: top;\n",
       "    }\n",
       "\n",
       "    .dataframe thead th {\n",
       "        text-align: right;\n",
       "    }\n",
       "</style>\n",
       "<table border=\"1\" class=\"dataframe\">\n",
       "  <thead>\n",
       "    <tr style=\"text-align: right;\">\n",
       "      <th></th>\n",
       "      <th>COMPETEN</th>\n",
       "      <th>NOME_MUNICIPIO</th>\n",
       "      <th>ANO</th>\n",
       "      <th>MES</th>\n",
       "      <th>QT_EXIST</th>\n",
       "      <th>QT_SUS</th>\n",
       "    </tr>\n",
       "  </thead>\n",
       "  <tbody>\n",
       "    <tr>\n",
       "      <th>830</th>\n",
       "      <td>202112</td>\n",
       "      <td>Goiânia</td>\n",
       "      <td>2021</td>\n",
       "      <td>12</td>\n",
       "      <td>9306</td>\n",
       "      <td>4161</td>\n",
       "    </tr>\n",
       "    <tr>\n",
       "      <th>763</th>\n",
       "      <td>202112</td>\n",
       "      <td>Aparecida de Goiânia</td>\n",
       "      <td>2021</td>\n",
       "      <td>12</td>\n",
       "      <td>1700</td>\n",
       "      <td>1337</td>\n",
       "    </tr>\n",
       "    <tr>\n",
       "      <th>762</th>\n",
       "      <td>202112</td>\n",
       "      <td>Anápolis</td>\n",
       "      <td>2021</td>\n",
       "      <td>12</td>\n",
       "      <td>1364</td>\n",
       "      <td>748</td>\n",
       "    </tr>\n",
       "    <tr>\n",
       "      <th>907</th>\n",
       "      <td>202112</td>\n",
       "      <td>Rio Verde</td>\n",
       "      <td>2021</td>\n",
       "      <td>12</td>\n",
       "      <td>648</td>\n",
       "      <td>400</td>\n",
       "    </tr>\n",
       "    <tr>\n",
       "      <th>932</th>\n",
       "      <td>202112</td>\n",
       "      <td>Trindade</td>\n",
       "      <td>2021</td>\n",
       "      <td>12</td>\n",
       "      <td>555</td>\n",
       "      <td>444</td>\n",
       "    </tr>\n",
       "    <tr>\n",
       "      <th>938</th>\n",
       "      <td>202112</td>\n",
       "      <td>Uruaçu</td>\n",
       "      <td>2021</td>\n",
       "      <td>12</td>\n",
       "      <td>402</td>\n",
       "      <td>252</td>\n",
       "    </tr>\n",
       "    <tr>\n",
       "      <th>792</th>\n",
       "      <td>202112</td>\n",
       "      <td>Catalão</td>\n",
       "      <td>2021</td>\n",
       "      <td>12</td>\n",
       "      <td>397</td>\n",
       "      <td>218</td>\n",
       "    </tr>\n",
       "    <tr>\n",
       "      <th>796</th>\n",
       "      <td>202112</td>\n",
       "      <td>Ceres</td>\n",
       "      <td>2021</td>\n",
       "      <td>12</td>\n",
       "      <td>363</td>\n",
       "      <td>146</td>\n",
       "    </tr>\n",
       "    <tr>\n",
       "      <th>850</th>\n",
       "      <td>202112</td>\n",
       "      <td>Itumbiara</td>\n",
       "      <td>2021</td>\n",
       "      <td>12</td>\n",
       "      <td>284</td>\n",
       "      <td>167</td>\n",
       "    </tr>\n",
       "    <tr>\n",
       "      <th>827</th>\n",
       "      <td>202112</td>\n",
       "      <td>Goianésia</td>\n",
       "      <td>2021</td>\n",
       "      <td>12</td>\n",
       "      <td>283</td>\n",
       "      <td>195</td>\n",
       "    </tr>\n",
       "  </tbody>\n",
       "</table>\n",
       "</div>"
      ],
      "text/plain": [
       "    COMPETEN        NOME_MUNICIPIO   ANO MES  QT_EXIST  QT_SUS\n",
       "830   202112               Goiânia  2021  12      9306    4161\n",
       "763   202112  Aparecida de Goiânia  2021  12      1700    1337\n",
       "762   202112              Anápolis  2021  12      1364     748\n",
       "907   202112             Rio Verde  2021  12       648     400\n",
       "932   202112              Trindade  2021  12       555     444\n",
       "938   202112                Uruaçu  2021  12       402     252\n",
       "792   202112               Catalão  2021  12       397     218\n",
       "796   202112                 Ceres  2021  12       363     146\n",
       "850   202112             Itumbiara  2021  12       284     167\n",
       "827   202112             Goianésia  2021  12       283     195"
      ]
     },
     "execution_count": 30,
     "metadata": {},
     "output_type": "execute_result"
    }
   ],
   "source": [
    "leitos_fim_2021_por_cidade = leitos_por_cidade_fim_ano[leitos_por_cidade_fim_ano[\"ANO\"] == \"2021\"]\n",
    "leitos_fim_2021_por_cidade.sort_values(by=\"QT_EXIST\", ascending=False).head(10)"
   ]
  },
  {
   "cell_type": "code",
   "execution_count": 31,
   "metadata": {},
   "outputs": [
    {
     "name": "stdout",
     "output_type": "stream",
     "text": [
      "['Goiânia' 'Aparecida de Goiânia' 'Anápolis' 'Rio Verde' 'Trindade'\n",
      " 'Uruaçu' 'Catalão' 'Ceres' 'Itumbiara' 'Goianésia']\n"
     ]
    },
    {
     "data": {
      "text/html": [
       "<div>\n",
       "<style scoped>\n",
       "    .dataframe tbody tr th:only-of-type {\n",
       "        vertical-align: middle;\n",
       "    }\n",
       "\n",
       "    .dataframe tbody tr th {\n",
       "        vertical-align: top;\n",
       "    }\n",
       "\n",
       "    .dataframe thead th {\n",
       "        text-align: right;\n",
       "    }\n",
       "</style>\n",
       "<table border=\"1\" class=\"dataframe\">\n",
       "  <thead>\n",
       "    <tr style=\"text-align: right;\">\n",
       "      <th></th>\n",
       "      <th>COMPETEN</th>\n",
       "      <th>NOME_MUNICIPIO</th>\n",
       "      <th>ANO</th>\n",
       "      <th>MES</th>\n",
       "      <th>QT_EXIST</th>\n",
       "      <th>QT_SUS</th>\n",
       "    </tr>\n",
       "  </thead>\n",
       "  <tbody>\n",
       "    <tr>\n",
       "      <th>8</th>\n",
       "      <td>201712</td>\n",
       "      <td>Anápolis</td>\n",
       "      <td>2017</td>\n",
       "      <td>12</td>\n",
       "      <td>1155</td>\n",
       "      <td>618</td>\n",
       "    </tr>\n",
       "    <tr>\n",
       "      <th>9</th>\n",
       "      <td>201712</td>\n",
       "      <td>Aparecida de Goiânia</td>\n",
       "      <td>2017</td>\n",
       "      <td>12</td>\n",
       "      <td>871</td>\n",
       "      <td>666</td>\n",
       "    </tr>\n",
       "    <tr>\n",
       "      <th>38</th>\n",
       "      <td>201712</td>\n",
       "      <td>Catalão</td>\n",
       "      <td>2017</td>\n",
       "      <td>12</td>\n",
       "      <td>347</td>\n",
       "      <td>226</td>\n",
       "    </tr>\n",
       "    <tr>\n",
       "      <th>42</th>\n",
       "      <td>201712</td>\n",
       "      <td>Ceres</td>\n",
       "      <td>2017</td>\n",
       "      <td>12</td>\n",
       "      <td>312</td>\n",
       "      <td>136</td>\n",
       "    </tr>\n",
       "    <tr>\n",
       "      <th>73</th>\n",
       "      <td>201712</td>\n",
       "      <td>Goianésia</td>\n",
       "      <td>2017</td>\n",
       "      <td>12</td>\n",
       "      <td>271</td>\n",
       "      <td>172</td>\n",
       "    </tr>\n",
       "  </tbody>\n",
       "</table>\n",
       "</div>"
      ],
      "text/plain": [
       "   COMPETEN        NOME_MUNICIPIO   ANO MES  QT_EXIST  QT_SUS\n",
       "8    201712              Anápolis  2017  12      1155     618\n",
       "9    201712  Aparecida de Goiânia  2017  12       871     666\n",
       "38   201712               Catalão  2017  12       347     226\n",
       "42   201712                 Ceres  2017  12       312     136\n",
       "73   201712             Goianésia  2017  12       271     172"
      ]
     },
     "execution_count": 31,
     "metadata": {},
     "output_type": "execute_result"
    }
   ],
   "source": [
    "cidades_com_mais_leitos_dez_2021 = leitos_fim_2021_por_cidade.sort_values(by=\"QT_EXIST\", ascending=False).head(10)[\"NOME_MUNICIPIO\"].unique()\n",
    "print(cidades_com_mais_leitos_dez_2021)\n",
    "leitos_por_cidade_fim_ano = leitos_por_cidade_fim_ano[leitos_por_cidade_fim_ano[\"NOME_MUNICIPIO\"].isin(cidades_com_mais_leitos_dez_2021)]\n",
    "leitos_por_cidade_fim_ano.head()"
   ]
  },
  {
   "cell_type": "code",
   "execution_count": 32,
   "metadata": {},
   "outputs": [
    {
     "data": {
      "application/vnd.plotly.v1+json": {
       "config": {
        "plotlyServerURL": "https://plot.ly"
       },
       "data": [
        {
         "alignmentgroup": "True",
         "hovertemplate": "NOME_MUNICIPIO=Anápolis<br>ANO=%{x}<br>QT_EXIST=%{y}<extra></extra>",
         "legendgroup": "Anápolis",
         "marker": {
          "color": "#636efa",
          "pattern": {
           "shape": ""
          }
         },
         "name": "Anápolis",
         "offsetgroup": "Anápolis",
         "orientation": "v",
         "showlegend": true,
         "textposition": "auto",
         "type": "bar",
         "x": [
          "2017",
          "2018",
          "2019",
          "2020",
          "2021",
          "2022"
         ],
         "xaxis": "x",
         "y": [
          1155,
          1211,
          1195,
          1219,
          1364,
          1263
         ],
         "yaxis": "y"
        },
        {
         "alignmentgroup": "True",
         "hovertemplate": "NOME_MUNICIPIO=Aparecida de Goiânia<br>ANO=%{x}<br>QT_EXIST=%{y}<extra></extra>",
         "legendgroup": "Aparecida de Goiânia",
         "marker": {
          "color": "#EF553B",
          "pattern": {
           "shape": ""
          }
         },
         "name": "Aparecida de Goiânia",
         "offsetgroup": "Aparecida de Goiânia",
         "orientation": "v",
         "showlegend": true,
         "textposition": "auto",
         "type": "bar",
         "x": [
          "2017",
          "2018",
          "2019",
          "2020",
          "2021",
          "2022"
         ],
         "xaxis": "x",
         "y": [
          871,
          1126,
          1197,
          1523,
          1700,
          1402
         ],
         "yaxis": "y"
        },
        {
         "alignmentgroup": "True",
         "hovertemplate": "NOME_MUNICIPIO=Catalão<br>ANO=%{x}<br>QT_EXIST=%{y}<extra></extra>",
         "legendgroup": "Catalão",
         "marker": {
          "color": "#00cc96",
          "pattern": {
           "shape": ""
          }
         },
         "name": "Catalão",
         "offsetgroup": "Catalão",
         "orientation": "v",
         "showlegend": true,
         "textposition": "auto",
         "type": "bar",
         "x": [
          "2017",
          "2018",
          "2019",
          "2020",
          "2021",
          "2022"
         ],
         "xaxis": "x",
         "y": [
          347,
          355,
          336,
          333,
          397,
          319
         ],
         "yaxis": "y"
        },
        {
         "alignmentgroup": "True",
         "hovertemplate": "NOME_MUNICIPIO=Ceres<br>ANO=%{x}<br>QT_EXIST=%{y}<extra></extra>",
         "legendgroup": "Ceres",
         "marker": {
          "color": "#ab63fa",
          "pattern": {
           "shape": ""
          }
         },
         "name": "Ceres",
         "offsetgroup": "Ceres",
         "orientation": "v",
         "showlegend": true,
         "textposition": "auto",
         "type": "bar",
         "x": [
          "2017",
          "2018",
          "2019",
          "2020",
          "2021",
          "2022"
         ],
         "xaxis": "x",
         "y": [
          312,
          348,
          352,
          348,
          363,
          345
         ],
         "yaxis": "y"
        },
        {
         "alignmentgroup": "True",
         "hovertemplate": "NOME_MUNICIPIO=Goianésia<br>ANO=%{x}<br>QT_EXIST=%{y}<extra></extra>",
         "legendgroup": "Goianésia",
         "marker": {
          "color": "#FFA15A",
          "pattern": {
           "shape": ""
          }
         },
         "name": "Goianésia",
         "offsetgroup": "Goianésia",
         "orientation": "v",
         "showlegend": true,
         "textposition": "auto",
         "type": "bar",
         "x": [
          "2017",
          "2018",
          "2019",
          "2020",
          "2021",
          "2022"
         ],
         "xaxis": "x",
         "y": [
          271,
          231,
          271,
          260,
          283,
          244
         ],
         "yaxis": "y"
        },
        {
         "alignmentgroup": "True",
         "hovertemplate": "NOME_MUNICIPIO=Goiânia<br>ANO=%{x}<br>QT_EXIST=%{y}<extra></extra>",
         "legendgroup": "Goiânia",
         "marker": {
          "color": "#19d3f3",
          "pattern": {
           "shape": ""
          }
         },
         "name": "Goiânia",
         "offsetgroup": "Goiânia",
         "orientation": "v",
         "showlegend": true,
         "textposition": "auto",
         "type": "bar",
         "x": [
          "2017",
          "2018",
          "2019",
          "2020",
          "2021",
          "2022"
         ],
         "xaxis": "x",
         "y": [
          7660,
          7205,
          7370,
          8273,
          9306,
          8275
         ],
         "yaxis": "y"
        },
        {
         "alignmentgroup": "True",
         "hovertemplate": "NOME_MUNICIPIO=Itumbiara<br>ANO=%{x}<br>QT_EXIST=%{y}<extra></extra>",
         "legendgroup": "Itumbiara",
         "marker": {
          "color": "#FF6692",
          "pattern": {
           "shape": ""
          }
         },
         "name": "Itumbiara",
         "offsetgroup": "Itumbiara",
         "orientation": "v",
         "showlegend": true,
         "textposition": "auto",
         "type": "bar",
         "x": [
          "2017",
          "2018",
          "2019",
          "2020",
          "2021",
          "2022"
         ],
         "xaxis": "x",
         "y": [
          258,
          258,
          271,
          234,
          284,
          326
         ],
         "yaxis": "y"
        },
        {
         "alignmentgroup": "True",
         "hovertemplate": "NOME_MUNICIPIO=Rio Verde<br>ANO=%{x}<br>QT_EXIST=%{y}<extra></extra>",
         "legendgroup": "Rio Verde",
         "marker": {
          "color": "#B6E880",
          "pattern": {
           "shape": ""
          }
         },
         "name": "Rio Verde",
         "offsetgroup": "Rio Verde",
         "orientation": "v",
         "showlegend": true,
         "textposition": "auto",
         "type": "bar",
         "x": [
          "2017",
          "2018",
          "2019",
          "2020",
          "2021",
          "2022"
         ],
         "xaxis": "x",
         "y": [
          453,
          501,
          468,
          635,
          648,
          637
         ],
         "yaxis": "y"
        },
        {
         "alignmentgroup": "True",
         "hovertemplate": "NOME_MUNICIPIO=Trindade<br>ANO=%{x}<br>QT_EXIST=%{y}<extra></extra>",
         "legendgroup": "Trindade",
         "marker": {
          "color": "#FF97FF",
          "pattern": {
           "shape": ""
          }
         },
         "name": "Trindade",
         "offsetgroup": "Trindade",
         "orientation": "v",
         "showlegend": true,
         "textposition": "auto",
         "type": "bar",
         "x": [
          "2017",
          "2018",
          "2019",
          "2020",
          "2021",
          "2022"
         ],
         "xaxis": "x",
         "y": [
          519,
          509,
          510,
          529,
          555,
          562
         ],
         "yaxis": "y"
        },
        {
         "alignmentgroup": "True",
         "hovertemplate": "NOME_MUNICIPIO=Uruaçu<br>ANO=%{x}<br>QT_EXIST=%{y}<extra></extra>",
         "legendgroup": "Uruaçu",
         "marker": {
          "color": "#FECB52",
          "pattern": {
           "shape": ""
          }
         },
         "name": "Uruaçu",
         "offsetgroup": "Uruaçu",
         "orientation": "v",
         "showlegend": true,
         "textposition": "auto",
         "type": "bar",
         "x": [
          "2017",
          "2018",
          "2019",
          "2020",
          "2021",
          "2022"
         ],
         "xaxis": "x",
         "y": [
          92,
          93,
          161,
          164,
          402,
          499
         ],
         "yaxis": "y"
        }
       ],
       "layout": {
        "barmode": "group",
        "legend": {
         "title": {
          "text": "NOME_MUNICIPIO"
         },
         "tracegroupgap": 0
        },
        "template": {
         "data": {
          "bar": [
           {
            "error_x": {
             "color": "#2a3f5f"
            },
            "error_y": {
             "color": "#2a3f5f"
            },
            "marker": {
             "line": {
              "color": "#E5ECF6",
              "width": 0.5
             },
             "pattern": {
              "fillmode": "overlay",
              "size": 10,
              "solidity": 0.2
             }
            },
            "type": "bar"
           }
          ],
          "barpolar": [
           {
            "marker": {
             "line": {
              "color": "#E5ECF6",
              "width": 0.5
             },
             "pattern": {
              "fillmode": "overlay",
              "size": 10,
              "solidity": 0.2
             }
            },
            "type": "barpolar"
           }
          ],
          "carpet": [
           {
            "aaxis": {
             "endlinecolor": "#2a3f5f",
             "gridcolor": "white",
             "linecolor": "white",
             "minorgridcolor": "white",
             "startlinecolor": "#2a3f5f"
            },
            "baxis": {
             "endlinecolor": "#2a3f5f",
             "gridcolor": "white",
             "linecolor": "white",
             "minorgridcolor": "white",
             "startlinecolor": "#2a3f5f"
            },
            "type": "carpet"
           }
          ],
          "choropleth": [
           {
            "colorbar": {
             "outlinewidth": 0,
             "ticks": ""
            },
            "type": "choropleth"
           }
          ],
          "contour": [
           {
            "colorbar": {
             "outlinewidth": 0,
             "ticks": ""
            },
            "colorscale": [
             [
              0,
              "#0d0887"
             ],
             [
              0.1111111111111111,
              "#46039f"
             ],
             [
              0.2222222222222222,
              "#7201a8"
             ],
             [
              0.3333333333333333,
              "#9c179e"
             ],
             [
              0.4444444444444444,
              "#bd3786"
             ],
             [
              0.5555555555555556,
              "#d8576b"
             ],
             [
              0.6666666666666666,
              "#ed7953"
             ],
             [
              0.7777777777777778,
              "#fb9f3a"
             ],
             [
              0.8888888888888888,
              "#fdca26"
             ],
             [
              1,
              "#f0f921"
             ]
            ],
            "type": "contour"
           }
          ],
          "contourcarpet": [
           {
            "colorbar": {
             "outlinewidth": 0,
             "ticks": ""
            },
            "type": "contourcarpet"
           }
          ],
          "heatmap": [
           {
            "colorbar": {
             "outlinewidth": 0,
             "ticks": ""
            },
            "colorscale": [
             [
              0,
              "#0d0887"
             ],
             [
              0.1111111111111111,
              "#46039f"
             ],
             [
              0.2222222222222222,
              "#7201a8"
             ],
             [
              0.3333333333333333,
              "#9c179e"
             ],
             [
              0.4444444444444444,
              "#bd3786"
             ],
             [
              0.5555555555555556,
              "#d8576b"
             ],
             [
              0.6666666666666666,
              "#ed7953"
             ],
             [
              0.7777777777777778,
              "#fb9f3a"
             ],
             [
              0.8888888888888888,
              "#fdca26"
             ],
             [
              1,
              "#f0f921"
             ]
            ],
            "type": "heatmap"
           }
          ],
          "heatmapgl": [
           {
            "colorbar": {
             "outlinewidth": 0,
             "ticks": ""
            },
            "colorscale": [
             [
              0,
              "#0d0887"
             ],
             [
              0.1111111111111111,
              "#46039f"
             ],
             [
              0.2222222222222222,
              "#7201a8"
             ],
             [
              0.3333333333333333,
              "#9c179e"
             ],
             [
              0.4444444444444444,
              "#bd3786"
             ],
             [
              0.5555555555555556,
              "#d8576b"
             ],
             [
              0.6666666666666666,
              "#ed7953"
             ],
             [
              0.7777777777777778,
              "#fb9f3a"
             ],
             [
              0.8888888888888888,
              "#fdca26"
             ],
             [
              1,
              "#f0f921"
             ]
            ],
            "type": "heatmapgl"
           }
          ],
          "histogram": [
           {
            "marker": {
             "pattern": {
              "fillmode": "overlay",
              "size": 10,
              "solidity": 0.2
             }
            },
            "type": "histogram"
           }
          ],
          "histogram2d": [
           {
            "colorbar": {
             "outlinewidth": 0,
             "ticks": ""
            },
            "colorscale": [
             [
              0,
              "#0d0887"
             ],
             [
              0.1111111111111111,
              "#46039f"
             ],
             [
              0.2222222222222222,
              "#7201a8"
             ],
             [
              0.3333333333333333,
              "#9c179e"
             ],
             [
              0.4444444444444444,
              "#bd3786"
             ],
             [
              0.5555555555555556,
              "#d8576b"
             ],
             [
              0.6666666666666666,
              "#ed7953"
             ],
             [
              0.7777777777777778,
              "#fb9f3a"
             ],
             [
              0.8888888888888888,
              "#fdca26"
             ],
             [
              1,
              "#f0f921"
             ]
            ],
            "type": "histogram2d"
           }
          ],
          "histogram2dcontour": [
           {
            "colorbar": {
             "outlinewidth": 0,
             "ticks": ""
            },
            "colorscale": [
             [
              0,
              "#0d0887"
             ],
             [
              0.1111111111111111,
              "#46039f"
             ],
             [
              0.2222222222222222,
              "#7201a8"
             ],
             [
              0.3333333333333333,
              "#9c179e"
             ],
             [
              0.4444444444444444,
              "#bd3786"
             ],
             [
              0.5555555555555556,
              "#d8576b"
             ],
             [
              0.6666666666666666,
              "#ed7953"
             ],
             [
              0.7777777777777778,
              "#fb9f3a"
             ],
             [
              0.8888888888888888,
              "#fdca26"
             ],
             [
              1,
              "#f0f921"
             ]
            ],
            "type": "histogram2dcontour"
           }
          ],
          "mesh3d": [
           {
            "colorbar": {
             "outlinewidth": 0,
             "ticks": ""
            },
            "type": "mesh3d"
           }
          ],
          "parcoords": [
           {
            "line": {
             "colorbar": {
              "outlinewidth": 0,
              "ticks": ""
             }
            },
            "type": "parcoords"
           }
          ],
          "pie": [
           {
            "automargin": true,
            "type": "pie"
           }
          ],
          "scatter": [
           {
            "fillpattern": {
             "fillmode": "overlay",
             "size": 10,
             "solidity": 0.2
            },
            "type": "scatter"
           }
          ],
          "scatter3d": [
           {
            "line": {
             "colorbar": {
              "outlinewidth": 0,
              "ticks": ""
             }
            },
            "marker": {
             "colorbar": {
              "outlinewidth": 0,
              "ticks": ""
             }
            },
            "type": "scatter3d"
           }
          ],
          "scattercarpet": [
           {
            "marker": {
             "colorbar": {
              "outlinewidth": 0,
              "ticks": ""
             }
            },
            "type": "scattercarpet"
           }
          ],
          "scattergeo": [
           {
            "marker": {
             "colorbar": {
              "outlinewidth": 0,
              "ticks": ""
             }
            },
            "type": "scattergeo"
           }
          ],
          "scattergl": [
           {
            "marker": {
             "colorbar": {
              "outlinewidth": 0,
              "ticks": ""
             }
            },
            "type": "scattergl"
           }
          ],
          "scattermapbox": [
           {
            "marker": {
             "colorbar": {
              "outlinewidth": 0,
              "ticks": ""
             }
            },
            "type": "scattermapbox"
           }
          ],
          "scatterpolar": [
           {
            "marker": {
             "colorbar": {
              "outlinewidth": 0,
              "ticks": ""
             }
            },
            "type": "scatterpolar"
           }
          ],
          "scatterpolargl": [
           {
            "marker": {
             "colorbar": {
              "outlinewidth": 0,
              "ticks": ""
             }
            },
            "type": "scatterpolargl"
           }
          ],
          "scatterternary": [
           {
            "marker": {
             "colorbar": {
              "outlinewidth": 0,
              "ticks": ""
             }
            },
            "type": "scatterternary"
           }
          ],
          "surface": [
           {
            "colorbar": {
             "outlinewidth": 0,
             "ticks": ""
            },
            "colorscale": [
             [
              0,
              "#0d0887"
             ],
             [
              0.1111111111111111,
              "#46039f"
             ],
             [
              0.2222222222222222,
              "#7201a8"
             ],
             [
              0.3333333333333333,
              "#9c179e"
             ],
             [
              0.4444444444444444,
              "#bd3786"
             ],
             [
              0.5555555555555556,
              "#d8576b"
             ],
             [
              0.6666666666666666,
              "#ed7953"
             ],
             [
              0.7777777777777778,
              "#fb9f3a"
             ],
             [
              0.8888888888888888,
              "#fdca26"
             ],
             [
              1,
              "#f0f921"
             ]
            ],
            "type": "surface"
           }
          ],
          "table": [
           {
            "cells": {
             "fill": {
              "color": "#EBF0F8"
             },
             "line": {
              "color": "white"
             }
            },
            "header": {
             "fill": {
              "color": "#C8D4E3"
             },
             "line": {
              "color": "white"
             }
            },
            "type": "table"
           }
          ]
         },
         "layout": {
          "annotationdefaults": {
           "arrowcolor": "#2a3f5f",
           "arrowhead": 0,
           "arrowwidth": 1
          },
          "autotypenumbers": "strict",
          "coloraxis": {
           "colorbar": {
            "outlinewidth": 0,
            "ticks": ""
           }
          },
          "colorscale": {
           "diverging": [
            [
             0,
             "#8e0152"
            ],
            [
             0.1,
             "#c51b7d"
            ],
            [
             0.2,
             "#de77ae"
            ],
            [
             0.3,
             "#f1b6da"
            ],
            [
             0.4,
             "#fde0ef"
            ],
            [
             0.5,
             "#f7f7f7"
            ],
            [
             0.6,
             "#e6f5d0"
            ],
            [
             0.7,
             "#b8e186"
            ],
            [
             0.8,
             "#7fbc41"
            ],
            [
             0.9,
             "#4d9221"
            ],
            [
             1,
             "#276419"
            ]
           ],
           "sequential": [
            [
             0,
             "#0d0887"
            ],
            [
             0.1111111111111111,
             "#46039f"
            ],
            [
             0.2222222222222222,
             "#7201a8"
            ],
            [
             0.3333333333333333,
             "#9c179e"
            ],
            [
             0.4444444444444444,
             "#bd3786"
            ],
            [
             0.5555555555555556,
             "#d8576b"
            ],
            [
             0.6666666666666666,
             "#ed7953"
            ],
            [
             0.7777777777777778,
             "#fb9f3a"
            ],
            [
             0.8888888888888888,
             "#fdca26"
            ],
            [
             1,
             "#f0f921"
            ]
           ],
           "sequentialminus": [
            [
             0,
             "#0d0887"
            ],
            [
             0.1111111111111111,
             "#46039f"
            ],
            [
             0.2222222222222222,
             "#7201a8"
            ],
            [
             0.3333333333333333,
             "#9c179e"
            ],
            [
             0.4444444444444444,
             "#bd3786"
            ],
            [
             0.5555555555555556,
             "#d8576b"
            ],
            [
             0.6666666666666666,
             "#ed7953"
            ],
            [
             0.7777777777777778,
             "#fb9f3a"
            ],
            [
             0.8888888888888888,
             "#fdca26"
            ],
            [
             1,
             "#f0f921"
            ]
           ]
          },
          "colorway": [
           "#636efa",
           "#EF553B",
           "#00cc96",
           "#ab63fa",
           "#FFA15A",
           "#19d3f3",
           "#FF6692",
           "#B6E880",
           "#FF97FF",
           "#FECB52"
          ],
          "font": {
           "color": "#2a3f5f"
          },
          "geo": {
           "bgcolor": "white",
           "lakecolor": "white",
           "landcolor": "#E5ECF6",
           "showlakes": true,
           "showland": true,
           "subunitcolor": "white"
          },
          "hoverlabel": {
           "align": "left"
          },
          "hovermode": "closest",
          "mapbox": {
           "style": "light"
          },
          "paper_bgcolor": "white",
          "plot_bgcolor": "#E5ECF6",
          "polar": {
           "angularaxis": {
            "gridcolor": "white",
            "linecolor": "white",
            "ticks": ""
           },
           "bgcolor": "#E5ECF6",
           "radialaxis": {
            "gridcolor": "white",
            "linecolor": "white",
            "ticks": ""
           }
          },
          "scene": {
           "xaxis": {
            "backgroundcolor": "#E5ECF6",
            "gridcolor": "white",
            "gridwidth": 2,
            "linecolor": "white",
            "showbackground": true,
            "ticks": "",
            "zerolinecolor": "white"
           },
           "yaxis": {
            "backgroundcolor": "#E5ECF6",
            "gridcolor": "white",
            "gridwidth": 2,
            "linecolor": "white",
            "showbackground": true,
            "ticks": "",
            "zerolinecolor": "white"
           },
           "zaxis": {
            "backgroundcolor": "#E5ECF6",
            "gridcolor": "white",
            "gridwidth": 2,
            "linecolor": "white",
            "showbackground": true,
            "ticks": "",
            "zerolinecolor": "white"
           }
          },
          "shapedefaults": {
           "line": {
            "color": "#2a3f5f"
           }
          },
          "ternary": {
           "aaxis": {
            "gridcolor": "white",
            "linecolor": "white",
            "ticks": ""
           },
           "baxis": {
            "gridcolor": "white",
            "linecolor": "white",
            "ticks": ""
           },
           "bgcolor": "#E5ECF6",
           "caxis": {
            "gridcolor": "white",
            "linecolor": "white",
            "ticks": ""
           }
          },
          "title": {
           "x": 0.05
          },
          "xaxis": {
           "automargin": true,
           "gridcolor": "white",
           "linecolor": "white",
           "ticks": "",
           "title": {
            "standoff": 15
           },
           "zerolinecolor": "white",
           "zerolinewidth": 2
          },
          "yaxis": {
           "automargin": true,
           "gridcolor": "white",
           "linecolor": "white",
           "ticks": "",
           "title": {
            "standoff": 15
           },
           "zerolinecolor": "white",
           "zerolinewidth": 2
          }
         }
        },
        "title": {
         "text": "Quantidade de leitos totais por cidade no final de cada ano"
        },
        "xaxis": {
         "anchor": "y",
         "domain": [
          0,
          1
         ],
         "title": {
          "text": "ANO"
         }
        },
        "yaxis": {
         "anchor": "x",
         "domain": [
          0,
          1
         ],
         "title": {
          "text": "QT_EXIST"
         }
        }
       }
      }
     },
     "metadata": {},
     "output_type": "display_data"
    }
   ],
   "source": [
    "px.bar(leitos_por_cidade_fim_ano, x=\"ANO\", y=\"QT_EXIST\", color=\"NOME_MUNICIPIO\", title=\"Quantidade de leitos totais por cidade no final de cada ano\", barmode=\"group\")"
   ]
  },
  {
   "cell_type": "code",
   "execution_count": 33,
   "metadata": {},
   "outputs": [
    {
     "data": {
      "image/png": "[encoded data removed]",
      "text/plain": [
       "<Figure size 2000x600 with 1 Axes>"
      ]
     },
     "metadata": {},
     "output_type": "display_data"
    }
   ],
   "source": [
    "# data_for_bars = data_ultimo_mes_por_meso.groupby([\"ANO\", \"MESOREGIAO\"]).sum()[[\"QT_EXIST\", \"QT_SUS\"]].reset_index()\n",
    "data_for_bars = leitos_por_cidade_fim_ano.pivot(index=\"ANO\", columns=\"NOME_MUNICIPIO\", values=\"QT_EXIST\")\n",
    "pl = data_for_bars.plot(kind=\"bar\", figsize=(20, 6), rot=0, ylabel=\"Quantidade de leitos\", title=\"Quantidade de leitos totais por mesoregião no final de cada ano\")\n",
    "\n",
    "# set grid in the background\n",
    "pl.grid(color=\"white\", linestyle=\"-\", linewidth=1, axis=\"y\", zorder=0)\n",
    "pl.set_facecolor(\"#e5ecf6\")"
   ]
  },
  {
   "attachments": {},
   "cell_type": "markdown",
   "metadata": {},
   "source": [
    "## Conclusões acerca da quantidade de leitos em Goiás e o efeito da Pandemia de Covid-19\n",
    "\n",
    "#### Observações no estudo de evolução da quantidade de leitos em Goiás\n",
    "- Durante o período analisado (2017 a 2022), houve aumento de aproximadamente 8,9% na quantidade total de leitos em Goiás passando de 19.490 para 21.225 leitos. O Aumento no SUS foi de 8,1% durante todo o período, passando de 12.122 para 13.099 leitos. Portanto, durante esse período, o número de leitos não SUS aumentou proporcionalmente mais em quantidade em relação aos leitos SUS.\n",
    "- A Pandemia foi oficialmente declarada pela OMS em março de 2020, quando o número de leitos em Goiás foi de 19.761 totais e 11.784 SUS. A partir de então houve um aumento de 7,4% na quantidade total de leitos em Goiás até Novembro de 2022. O Aumento no SUS foi de 11,2% durante o mesmo período. O aumento na quantidade absoluta de leitos foi, portanto, proporcionalmente maior dentre os Leitos do SUS do que os que dentre os que não são do SUS desde que foi decretada a Pandemia pela OMS.\n",
    "- A quantidade máxima no número de leitos totais foi verificada em dezembro de 2021 (23.019 leitos). Já No Sus, a quantidade máxima foi verificada em Outubro de 2021 (13.984 leitos). Isso significam aumentos percentuais de 16,5% e 18,7%, respectivamente, nos leitos totais e nos Leitos pelo SUS em relação a Março de 2020, quando foi decretada Pandemia pela OMS. Mais uma vez, nota-se no auge que os leitos SUS aumentaram proporcionalmente mais em quantidade em relação aos leitos não SUS desde que foi decretada a Pandemia pela OMS.\n",
    "\n",
    "#### Observação no estudo de evolução da quantidade de leitos distribuído por Mesoregião\n",
    "- Verifica-se, desde o início do estudo, grandes disparidades regionais na quantidade de leitos em Goiás. A Mesoregião Norte, por exemplo, possui apenas 3,1% da quantidade total de leitos em Goiás em novembro de 2022 (659 leitos), enquanto a Mesoregião Centro possui 65,6% da quantidade total de leitos em Goiás em novembro de 2022 (13.914 leitos). A Mesoregião Sul possui 19,5% da quantidade total de leitos em Goiás (4.143 leitos). A Mesoregião Leste possui 6,3% da quantidade total de leitos em Goiás. A Mesoregião Norte possui 5,5% da quantidade total de leitos em Goiás. Portanto, a maioria dos leitos totais se encontra em cidades localizadas na região Centro de Goiás, onde localizam-se cidades como Goiânia, Aparecida de Goiânia, Anápolis e Senador Canedo.\n",
    "- No auge da quantidade de leitos totais, ocorrida em janeiro de 2022, a Mesoregião Centro possuía 67,7% da quantidade total de leitos em Goiás (15.579 leitos), enquanto a Mesoregião Sul possuía 18,5% da quantidade total de leitos em Goiás (4.263 leitos). A Mesoregião Leste possuía 6,2% da quantidade total de leitos em Goiás. A Mesoregião Norte possuía 4,6% da quantidade total de leitos em Goiás. A região Noroeste possuía 2,9% do total de leitos em Goiás (671 leitos) Portanto, a maioria dos leitos totais se encontram em cidades localizadas na região Centro de Goiás, também no auge da Pandemia.\n",
    "- Desde que foi decretada a Pandemia pelo OMS, em março de 2020, a Mesoregião Centro passou de 13.321 leitos totais para 15.579 leitos totais no auge da pandemia, um aumento de 17,0% (ou 2258 novos leitos). Foi a região que mais ganhou leitos como consequência da Pandemia de Covd-19 em GOiás.\n",
    "\n",
    "#### Observação no estudo de evolução da quantidade de leitos distribuído por Cidade\n",
    "- Verifica-se que Goiânia é foi a cidade com maior quantidade de leitos durante todo o período analisado, seguida por Aparecida de Goiânia e Anápolis. Goiânia possuía 39,0% dos leitos totais de GOiás ao final do período de análise, enquanto aparecida de Goiânia possuía 6,6% do total. Destacam-se na quantidade total de leitos, além dessas três principais cidades: Catalão, Ceres, Rio Verde, Jataí, Goianésia, Itumbiara, Trindade e Uruaçu."
   ]
  },
  {
   "attachments": {},
   "cell_type": "markdown",
   "metadata": {},
   "source": [
    "# 3. Análise da evolução da quantidade de Leitos de UTI em Goiás"
   ]
  },
  {
   "attachments": {},
   "cell_type": "markdown",
   "metadata": {},
   "source": [
    "## Evolução da quantidade de leitos por mês"
   ]
  },
  {
   "cell_type": "code",
   "execution_count": null,
   "metadata": {},
   "outputs": [],
   "source": [
    "leitos_por_mes = data_UTI.groupby([\"COMPETEN\"]).sum()[[\"QT_EXIST\", \"QT_SUS\"]].reset_index()\n",
    "leitos_por_mes"
   ]
  },
  {
   "cell_type": "code",
   "execution_count": null,
   "metadata": {},
   "outputs": [],
   "source": [
    "px.line(leitos_por_mes, x=\"COMPETEN\", y=[\"QT_EXIST\", \"QT_SUS\"], title=\"Quantidade de leitos de UTI por mês\", range_y=[0, 2400])"
   ]
  },
  {
   "attachments": {},
   "cell_type": "markdown",
   "metadata": {},
   "source": [
    "## Evolução da quantidade de Leitos ao final de cada ano"
   ]
  },
  {
   "cell_type": "code",
   "execution_count": null,
   "metadata": {},
   "outputs": [],
   "source": [
    "data_ultimo_mes = filter_last_month_of_year(data_UTI)\n",
    "print(data_ultimo_mes[\"COMPETEN\"].unique())\n",
    "data_ultimo_mes"
   ]
  },
  {
   "cell_type": "code",
   "execution_count": null,
   "metadata": {},
   "outputs": [],
   "source": [
    "leitos_ultimo_mes = data_ultimo_mes.groupby([\"COMPETEN\", \"ANO\"]).sum()[[\"QT_EXIST\", \"QT_SUS\"]].reset_index()\n",
    "px.bar(leitos_ultimo_mes, x=\"ANO\", y=[\"QT_EXIST\", \"QT_SUS\"], title=\"Quantidade de leitos de UTI no último mês do ano\", barmode=\"group\")"
   ]
  },
  {
   "attachments": {},
   "cell_type": "markdown",
   "metadata": {},
   "source": [
    "## Evolução da quantidade de Leitos por Mesoregião"
   ]
  },
  {
   "attachments": {},
   "cell_type": "markdown",
   "metadata": {},
   "source": [
    "### Total"
   ]
  },
  {
   "cell_type": "code",
   "execution_count": null,
   "metadata": {},
   "outputs": [],
   "source": [
    "leitos_por_regiao = data_UTI.groupby([\"COMPETEN\", \"MESOREGIAO\"]).sum()[[\"QT_EXIST\", \"QT_SUS\"]].reset_index()\n",
    "px.line(leitos_por_regiao, x=\"COMPETEN\", y=\"QT_EXIST\", color=\"MESOREGIAO\", title=\"Quantidade de leitos totais de UTI por mesoregião\", range_y=[0, 2000])"
   ]
  },
  {
   "cell_type": "code",
   "execution_count": null,
   "metadata": {},
   "outputs": [],
   "source": [
    "data_ultimo_mes_por_meso = data_UTI.groupby([\"COMPETEN\", \"MESOREGIAO\", \"ANO\", \"MES\"]).sum()[[\"QT_EXIST\", \"QT_SUS\"]].reset_index()\n",
    "data_ultimo_mes_por_meso = filter_last_month_of_year(data_ultimo_mes_por_meso)"
   ]
  },
  {
   "cell_type": "code",
   "execution_count": null,
   "metadata": {},
   "outputs": [],
   "source": [
    "px.bar(data_ultimo_mes_por_meso, x=\"ANO\", y=\"QT_EXIST\", color=\"MESOREGIAO\", title=\"Quantidade de leitos totais por mesoregião no final de cada ano\", barmode=\"group\")"
   ]
  },
  {
   "attachments": {},
   "cell_type": "markdown",
   "metadata": {},
   "source": [
    "### Sus"
   ]
  },
  {
   "cell_type": "code",
   "execution_count": null,
   "metadata": {},
   "outputs": [],
   "source": [
    "px.line(leitos_por_regiao, x=\"COMPETEN\", y=\"QT_SUS\", color=\"MESOREGIAO\", title=\"Quantidade de leitos SUS por mesoregião\", range_y=[0, 1000])"
   ]
  },
  {
   "cell_type": "code",
   "execution_count": null,
   "metadata": {},
   "outputs": [],
   "source": [
    "px.bar(data_ultimo_mes_por_meso, x=\"ANO\", y=\"QT_SUS\", color=\"MESOREGIAO\", title=\"Quantidade de leitos SUS por mesoregião\", barmode=\"group\")"
   ]
  },
  {
   "attachments": {},
   "cell_type": "markdown",
   "metadata": {},
   "source": [
    "## Evolução da quantidade de Leitos por Cidade\n",
    "\n",
    "- A fim de simplificar a visualização, vamos considerar apenas as 10 cidades com mais leitos em dezembro de 2021"
   ]
  },
  {
   "cell_type": "code",
   "execution_count": null,
   "metadata": {},
   "outputs": [],
   "source": [
    "leitos_por_cidade = data_UTI.groupby([\"COMPETEN\", \"NOME_MUNICIPIO\", \"ANO\", \"MES\"]).sum()[[\"QT_EXIST\", \"QT_SUS\"]].reset_index()\n",
    "leitos_por_cidade_fim_ano = filter_last_month_of_year(leitos_por_cidade)\n"
   ]
  },
  {
   "cell_type": "code",
   "execution_count": null,
   "metadata": {},
   "outputs": [],
   "source": [
    "leitos_fim_2021_por_cidade = leitos_por_cidade_fim_ano[leitos_por_cidade_fim_ano[\"ANO\"] == \"2021\"]\n",
    "leitos_fim_2021_por_cidade.sort_values(by=\"QT_EXIST\", ascending=False).head(10)"
   ]
  },
  {
   "cell_type": "code",
   "execution_count": null,
   "metadata": {},
   "outputs": [],
   "source": [
    "cidades_com_mais_leitos_dez_2021 = leitos_fim_2021_por_cidade.sort_values(by=\"QT_EXIST\", ascending=False).head(10)[\"NOME_MUNICIPIO\"].unique()\n",
    "print(cidades_com_mais_leitos_dez_2021)\n",
    "leitos_por_cidade_fim_ano = leitos_por_cidade_fim_ano[leitos_por_cidade_fim_ano[\"NOME_MUNICIPIO\"].isin(cidades_com_mais_leitos_dez_2021)]\n",
    "leitos_por_cidade_fim_ano.head()"
   ]
  },
  {
   "cell_type": "code",
   "execution_count": null,
   "metadata": {},
   "outputs": [],
   "source": [
    "px.bar(leitos_por_cidade_fim_ano, x=\"ANO\", y=\"QT_EXIST\", color=\"NOME_MUNICIPIO\", title=\"Quantidade de leitos totais por cidade no final de cada ano\", barmode=\"group\")"
   ]
  },
  {
   "attachments": {},
   "cell_type": "markdown",
   "metadata": {},
   "source": [
    "## Conclusões acerca da quantidade de leitos de UTI em Goiás e o efeito da Pandemia de Covid-19\n",
    "\n",
    "#### Observações no estudo de evolução da quantidade de leitos em Goiás\n",
    "- Durante o período analisado (2017 a 2022), houve aumento expressivo de aproximadamente 53,2% na quantidade total de leitos em Goiás passando de 1.355 para 2.107 leitos. O Aumento no SUS foi de 39,8% durante todo o período, passando de 722 para 1.009 leitos. Portanto, durante esse período, o número de leitos não SUS aumentou proporcionalmente mais em quantidade em relação aos leitos SUS.\n",
    "- A Pandemia foi oficialmente declarada pela OMS em março de 2020, quando o número de leitos em Goiás foi de 1.652 totais e 749 SUS. A partir de então houve um aumento de 27,6% na quantidade total de leitos de UTI em Goiás até Novembro de 2022. O Aumento no SUS foi de 34,7% durante o mesmo período. O aumento na quantidade absoluta de leitos de UTI foi, portanto, proporcionalmente maior dentre os Leitos do SUS do que os que dentre os que não são do SUS desde que foi decretada a Pandemia pela OMS.\n",
    "- A quantidade máxima no número de leitos totais foi verificada em setembro de 2022 (2.115 leitos). Já No Sus, a quantidade máxima foi verificada a partir de março de 2021 (1.019 leitos). Isso significam aumentos percentuais de 28,0% e 36,0%, respectivamente, nos leitos totais e nos Leitos pelo SUS em relação a Março de 2020, quando foi decretada Pandemia pela OMS. Mais uma vez, nota-se no auge que os leitos de UTI SUS aumentaram proporcionalmente mais em quantidade em relação aos leitos de UTI não SUS desde que foi decretada a Pandemia pela OMS.\n",
    "\n",
    "#### Observação no estudo de evolução da quantidade de leitos distribuído por Mesoregião\n",
    "- Verifica-se, desde o início do estudo, grandes disparidades regionais na quantidade de leitos de UTI em Goiás. A Mesoregião Noroeste, por exemplo, possui apenas 0,5% da quantidade total de leitos em Goiás em novembro de 2022 (10 leitos), enquanto a Mesoregião Centro possui 80,1% da quantidade total de leitos em Goiás em novembro de 2022 (1.692 leitos). A Mesoregião Sul possui 14,4% da quantidade total de leitos em Goiás (303 leitos). A Mesoregião Leste possui 2,7% da quantidade total de leitos em Goiás (57 leitos). A Mesoregião Norte possui 2,4% da quantidade total de leitos em Goiás (50 leitos). Portanto, a maioria dos leitos totais se encontra em cidades localizadas na região Centro de Goiás, onde localizam-se cidades como Goiânia, Aparecida de Goiânia, Anápolis e Senador Canedo.\n",
    "- No auge da quantidade de leitos totais, ocorrida em setembro de 2022, a Mesoregião Centro possuía 80,0% da quantidade total de leitos em Goiás (1.692 leitos), enquanto a Mesoregião Sul possuía 14,3% da quantidade total de leitos em Goiás (303 leitos). A Mesoregião Leste possuía 2,7% da quantidade total de leitos em Goiás (57 leitos). A Mesoregião Norte possuía 2,4% da quantidade total de leitos em Goiás (50 leitos). A região Noroeste possuía 0,5% do total de leitos em Goiás (10 leitos) Portanto, a maioria dos leitos totais se encontram em cidades localizadas na região Centro de Goiás, também no auge da Pandemia.\n",
    "- Desde que foi decretada a Pandemia pelo OMS, em março de 2020, a Mesoregião Centro passou de 1.439 leitos totais de UTI para 1.692 leitos totais no auge da pandemia, um aumento de 17,6% (ou 253 novos leitos). Foi a região que mais ganhou leitos de UTI como consequência da Pandemia de Covd-19 em Goiás.\n",
    "\n",
    "#### Observação no estudo de evolução da quantidade de leitos distribuído por Cidade\n",
    "- Verifica-se que Goiânia é foi a cidade com maior quantidade de leitos durante todo o período analisado, seguida por Aparecida de Goiânia e Anápolis. Goiânia possuía 57,3% dos leitos totais de Goiás ao final do período de análise, enquanto anápolis aparecia com 8,9%, e aparecida de Goiânia possuía 7,1% do total. Destacam-se na quantidade total de leitos, além dessas três principais cidades: Catalão, Ceres, Rio Verde, Jataí, Nerópolis, Santa Helena de Goiás e Uruaçu."
   ]
  },
  {
   "attachments": {},
   "cell_type": "markdown",
   "metadata": {},
   "source": [
    "# Conclusões Finais acerca da quantidade de leitos de UTI em Goiás e o efeito da Pandemia de Covid-19\n",
    "\n",
    "- Concentração dos Leitos (tanto totais quanto de UTIs) na região Centro, seguida pela região sul do estado. Essas regiões são centralizadoras de recursos de saúde no Estado.\n",
    "- A centralização se faz ainda mas forte em se tratando de Leitos de UTIs do que em relação aos leitos não UTIs. A concentração de recursos nessas localidades é percentualmente ainda mais intensa.\n",
    "- Um efeito interessante é que a quantidade de Leitos Totais teve um auge em meados da pandemia, depois iniciou uma pequena queda, ainda mantendo-se em patamares superiores aos vistos antes da Pandemia.\n",
    "- Em se tratando de Leitos de UTI, a quantidade seguiu uma lógica parecida: hoje temos mais UTIs do que antes da Pandemia. Mas aqui um detalhe interessante: a quantidade de UTIs se mantém hoje praticamente a mesma que durante o Auge da Pandemia de 2019. Portanto, não houve redução significativa da quantidade de UTIs após o auge da Pandemia. Isso pode ser apontado como um efeito mais duradouro das melhorias de saúde providas para enfrentamento à pandemia em se tratando de leitos de UTI.\n",
    "- As melhorias verificadas são duradouras e portanto benéficas para a populaçÃO residente aqui no Estado, bem como para populações de outros estados que vem procurar tratamento médico em Goiás. Mantendo nossa referência nacional em Medicina e Saúde. Isso mesmo após a redução nos níveis de infecção por COVID-19."
   ]
  }
 ],
 "metadata": {
  "kernelspec": {
   "display_name": "base",
   "language": "python",
   "name": "python3"
  },
  "language_info": {
   "codemirror_mode": {
    "name": "ipython",
    "version": 3
   },
   "file_extension": ".py",
   "mimetype": "text/x-python",
   "name": "python",
   "nbconvert_exporter": "python",
   "pygments_lexer": "ipython3",
   "version": "3.9.7"
  },
  "orig_nbformat": 4,
  "vscode": {
   "interpreter": {
    "hash": "966bbdd7b405acb4dec15771f2349b83b3ede949bb1c1c39d235635a66e36721"
   }
  }
 },
 "nbformat": 4,
 "nbformat_minor": 2
}
